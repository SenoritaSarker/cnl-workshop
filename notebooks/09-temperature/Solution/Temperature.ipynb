{
 "cells": [
  {
   "cell_type": "markdown",
   "metadata": {},
   "source": [
    "# Temperature Dependence\n",
    "\n",
    "OpenMC is a bit different than other Monte Carlo codes in how it treats temperature depedence in a few ways. First, as we've seen already, one never has to specify \"cross sections suffixes\" that appear in codes that use ACE data like MCNP and Serpent. As we'll show here, temperatures can be directly specified on cells or materials. Additionally, OpenMC has the option of using special windowed multipole data that allows it to do on-the-fly Doppler broadening."
   ]
  },
  {
   "cell_type": "code",
   "execution_count": 1,
   "metadata": {
    "collapsed": true
   },
   "outputs": [],
   "source": [
    "%matplotlib inline\n",
    "import os\n",
    "import numpy as np\n",
    "import matplotlib.pyplot as plt\n",
    "import openmc\n",
    "\n",
    "import sys\n",
    "sys.path.append('../..')\n",
    "from inputs import *"
   ]
  },
  {
   "cell_type": "markdown",
   "metadata": {},
   "source": [
    "For this session, we'll work with a simple pin-cell model."
   ]
  },
  {
   "cell_type": "code",
   "execution_count": 2,
   "metadata": {
    "collapsed": true
   },
   "outputs": [],
   "source": [
    "pincell = PinCellInputSet()"
   ]
  },
  {
   "cell_type": "markdown",
   "metadata": {},
   "source": [
    "First, let's see what materials have been assigned to cells:"
   ]
  },
  {
   "cell_type": "code",
   "execution_count": 3,
   "metadata": {
    "collapsed": false
   },
   "outputs": [
    {
     "name": "stdout",
     "output_type": "stream",
     "text": [
      "10000 Fuel\n",
      "10001 Cladding\n",
      "10002 Hot borated water\n"
     ]
    }
   ],
   "source": [
    "cells = pincell.geometry.get_all_cells()\n",
    "for cid, cell in cells.items():\n",
    "    print(cid, cell.fill.name)"
   ]
  },
  {
   "cell_type": "markdown",
   "metadata": {},
   "source": [
    "Now we can assign variables to these cells."
   ]
  },
  {
   "cell_type": "code",
   "execution_count": 4,
   "metadata": {
    "collapsed": false
   },
   "outputs": [],
   "source": [
    "fuel = cells[10000]\n",
    "clad = cells[10001]\n",
    "water = cells[10002]"
   ]
  },
  {
   "cell_type": "markdown",
   "metadata": {},
   "source": [
    "Thus far, no temperatures have been assigned anywhere in the model. There are three ways we can specify temperatures:\n",
    "\n",
    "- As a global default in `Settings.temperature['default']`.\n",
    "- As a default for a material in `Material.temperature`.\n",
    "- Applied to a cell as `Cell.temperature`.\n",
    "\n",
    "Material temperatures override the global default and cell temperatures override the material defaults. In the absence of any specification, OpenMC assumes that you want room temperature (293.6 K) cross sections."
   ]
  },
  {
   "cell_type": "markdown",
   "metadata": {},
   "source": [
    "## `Settings.temperature`\n",
    "\n",
    "The `Settings.temperature` attribute is a dictionary that takes the following keys:\n",
    "\n",
    "- `'default'`: global default temperature in Kelvin\n",
    "- `'method'`: method for handling temperature, either `'nearest'` or `'interpolation'`\n",
    "- `'tolerance'`: for nearest temperature, how close a temperature can be\n",
    "- `'multipole'`: Boolean value indicating whether to use multipole data\n",
    "\n",
    "To use multipole data, we either need to set `Settings.multipoly_library` or the `OPENMC_MULTIPOLE_LIBRARY` environment variable."
   ]
  },
  {
   "cell_type": "markdown",
   "metadata": {},
   "source": [
    "## Fuel temperature coefficient\n",
    "\n",
    "In this example, we'll calculate the fuel temperature coefficient in our pin cell model by iteratively changing the temperature. The fuel has U234, U235, U238, and O16 in it. Our multipoly library does not have data for O16, so we'll set a very high tolerance for temperature searches (effectively assuming the O16 cross section doesn't change)."
   ]
  },
  {
   "cell_type": "code",
   "execution_count": 5,
   "metadata": {
    "collapsed": false
   },
   "outputs": [],
   "source": [
    "pincell.settings.temperature = {\n",
    "    'method': 'nearest',\n",
    "    'tolerance': 1000.,\n",
    "    'multipole': True\n",
    "}\n",
    "pincell.settings.particles = 10000"
   ]
  },
  {
   "cell_type": "code",
   "execution_count": 6,
   "metadata": {
    "collapsed": false
   },
   "outputs": [],
   "source": [
    "temperatures = np.array([300., 500., 800.])\n",
    "keff = np.zeros_like(temperatures)\n",
    "keff_std = np.zeros_like(temperatures)\n",
    "\n",
    "for i, T in enumerate(temperatures):\n",
    "    # Change temperature of the fuel\n",
    "    fuel.temperature = T\n",
    "    \n",
    "    # Re-export geometry.xml\n",
    "    pincell.export()\n",
    "    \n",
    "    # Run OpenMC and get keff\n",
    "    openmc.run(output=False)\n",
    "    sp = openmc.StatePoint('statepoint.{}.h5'.format(pincell.settings.batches))\n",
    "    keff[i], keff_std[i] = sp.k_combined"
   ]
  },
  {
   "cell_type": "code",
   "execution_count": 7,
   "metadata": {
    "collapsed": false
   },
   "outputs": [
    {
     "data": {
      "text/plain": [
       "<matplotlib.text.Text at 0x7f6597a2ed68>"
      ]
     },
     "execution_count": 7,
     "metadata": {},
     "output_type": "execute_result"
    },
    {
     "data": {
      "image/png": "[encoded data removed]",
      "text/plain": [
       "<matplotlib.figure.Figure at 0x7f6597a894a8>"
      ]
     },
     "metadata": {},
     "output_type": "display_data"
    }
   ],
   "source": [
    "plt.errorbar(temperatures, keff, 2*keff_std)\n",
    "plt.xlabel('Temperature (K)')\n",
    "plt.ylabel('keff')"
   ]
  },
  {
   "cell_type": "markdown",
   "metadata": {},
   "source": [
    "## Tally Derivatives\n",
    "\n",
    "A recent feature added to OpenMC is the ability to apply a material perturbation derivative to a tally. Let's try using this to estimate the derivative of the neutron production cross section of the fuel material with respect to temperature."
   ]
  },
  {
   "cell_type": "code",
   "execution_count": 8,
   "metadata": {
    "collapsed": false
   },
   "outputs": [],
   "source": [
    "# Reset the fuel temperature\n",
    "fuel.temperature = 300.0\n",
    "\n",
    "# Create a tally with a derivative\n",
    "t = openmc.Tally()\n",
    "t.derivative = openmc.TallyDerivative(1, 'temperature', fuel.fill.id)\n",
    "t.scores = ['nu-fission']\n",
    "\n",
    "# Re-export our input files\n",
    "pincell.tallies.append(t)\n",
    "pincell.export()"
   ]
  },
  {
   "cell_type": "code",
   "execution_count": 9,
   "metadata": {
    "collapsed": false
   },
   "outputs": [
    {
     "name": "stdout",
     "output_type": "stream",
     "text": [
      "\n",
      "                               %%%%%%%%%%%%%%%\n",
      "                          %%%%%%%%%%%%%%%%%%%%%%%%\n",
      "                       %%%%%%%%%%%%%%%%%%%%%%%%%%%%%%\n",
      "                     %%%%%%%%%%%%%%%%%%%%%%%%%%%%%%%%%%\n",
      "                   %%%%%%%%%%%%%%%%%%%%%%%%%%%%%%%%%%%%%%\n",
      "                  %%%%%%%%%%%%%%%%%%%%%%%%%%%%%%%%%%%%%%%%\n",
      "                                   %%%%%%%%%%%%%%%%%%%%%%%%\n",
      "                                    %%%%%%%%%%%%%%%%%%%%%%%%\n",
      "                ###############      %%%%%%%%%%%%%%%%%%%%%%%%\n",
      "               ##################     %%%%%%%%%%%%%%%%%%%%%%%\n",
      "               ###################     %%%%%%%%%%%%%%%%%%%%%%%\n",
      "               ####################     %%%%%%%%%%%%%%%%%%%%%%\n",
      "               #####################     %%%%%%%%%%%%%%%%%%%%%\n",
      "               ######################     %%%%%%%%%%%%%%%%%%%%\n",
      "               #######################     %%%%%%%%%%%%%%%%%%\n",
      "                #######################     %%%%%%%%%%%%%%%%%\n",
      "                ######################     %%%%%%%%%%%%%%%%%\n",
      "                 ####################     %%%%%%%%%%%%%%%%%\n",
      "                   #################     %%%%%%%%%%%%%%%%%\n",
      "                    ###############     %%%%%%%%%%%%%%%%\n",
      "                      ############     %%%%%%%%%%%%%%%\n",
      "                         ########     %%%%%%%%%%%%%%\n",
      "                                     %%%%%%%%%%%\n",
      "\n",
      "                   | The OpenMC Monte Carlo Code\n",
      "         Copyright | 2011-2017 Massachusetts Institute of Technology\n",
      "           License | http://openmc.readthedocs.io/en/latest/license.html\n",
      "           Version | 0.8.0\n",
      "          Git SHA1 | 561cf39b63b3f132bfa60427fe509b5d59f7a125\n",
      "         Date/Time | 2017-03-11 17:11:03\n",
      "    OpenMP Threads | 4\n",
      "\n",
      " Reading settings XML file...\n",
      " Reading geometry XML file...\n",
      " Reading materials XML file...\n",
      " Reading cross sections XML file...\n",
      " Reading U234 from /home/romano/openmc/scripts/nndc_hdf5/U234.h5\n",
      " Loading Multipole XS table: /opt/data/wmp/092234.h5\n",
      " Reading U235 from /home/romano/openmc/scripts/nndc_hdf5/U235.h5\n",
      " Loading Multipole XS table: /opt/data/wmp/092235.h5\n",
      " Reading U238 from /home/romano/openmc/scripts/nndc_hdf5/U238.h5\n",
      " Loading Multipole XS table: /opt/data/wmp/092238.h5\n",
      " Reading O16 from /home/romano/openmc/scripts/nndc_hdf5/O16.h5\n",
      " Reading Zr90 from /home/romano/openmc/scripts/nndc_hdf5/Zr90.h5\n",
      " Loading Multipole XS table: /opt/data/wmp/040090.h5\n",
      " Reading Zr91 from /home/romano/openmc/scripts/nndc_hdf5/Zr91.h5\n",
      " Loading Multipole XS table: /opt/data/wmp/040091.h5\n",
      " Reading Zr92 from /home/romano/openmc/scripts/nndc_hdf5/Zr92.h5\n",
      " Loading Multipole XS table: /opt/data/wmp/040092.h5\n",
      " Reading Zr94 from /home/romano/openmc/scripts/nndc_hdf5/Zr94.h5\n",
      " Loading Multipole XS table: /opt/data/wmp/040094.h5\n",
      " Reading Zr96 from /home/romano/openmc/scripts/nndc_hdf5/Zr96.h5\n",
      " Loading Multipole XS table: /opt/data/wmp/040096.h5\n",
      " Reading H1 from /home/romano/openmc/scripts/nndc_hdf5/H1.h5\n",
      " Reading B10 from /home/romano/openmc/scripts/nndc_hdf5/B10.h5\n",
      " Reading B11 from /home/romano/openmc/scripts/nndc_hdf5/B11.h5\n",
      " Reading c_H_in_H2O from /home/romano/openmc/scripts/nndc_hdf5/c_H_in_H2O.h5\n",
      " Maximum neutron transport energy: 2.00000E+07 eV for U235\n",
      " Reading tallies XML file...\n",
      " Building neighboring cells lists for each surface...\n",
      " Initializing source particles...\n",
      "\n",
      " ====================>     K EIGENVALUE SIMULATION     <====================\n",
      "\n",
      "  Bat./Gen.      k            Average k         \n",
      "  =========   ========   ====================   \n",
      "        1/1    1.15426                       \n",
      "        2/1    1.17332                       \n",
      "        3/1    1.14224                       \n",
      "        4/1    1.16691                       \n",
      "        5/1    1.15501                       \n",
      "        6/1    1.15703                       \n",
      "        7/1    1.16425                       \n",
      "        8/1    1.16553                       \n",
      "        9/1    1.16184                       \n",
      "       10/1    1.17650                       \n",
      "       11/1    1.17191                       \n",
      "       12/1    1.16651    1.16921 +/- 0.00270\n",
      "       13/1    1.16539    1.16794 +/- 0.00201\n",
      "       14/1    1.17303    1.16921 +/- 0.00191\n",
      "       15/1    1.15345    1.16606 +/- 0.00348\n",
      "       16/1    1.15115    1.16357 +/- 0.00378\n",
      "       17/1    1.17651    1.16542 +/- 0.00369\n",
      "       18/1    1.17220    1.16627 +/- 0.00330\n",
      "       19/1    1.16731    1.16638 +/- 0.00292\n",
      "       20/1    1.17188    1.16693 +/- 0.00267\n",
      "       21/1    1.17217    1.16741 +/- 0.00246\n",
      "       22/1    1.16256    1.16701 +/- 0.00228\n",
      "       23/1    1.16650    1.16697 +/- 0.00210\n",
      "       24/1    1.18443    1.16821 +/- 0.00231\n",
      "       25/1    1.14724    1.16682 +/- 0.00256\n",
      "       26/1    1.15983    1.16638 +/- 0.00244\n",
      "       27/1    1.15478    1.16570 +/- 0.00239\n",
      "       28/1    1.16261    1.16553 +/- 0.00226\n",
      "       29/1    1.17914    1.16624 +/- 0.00225\n",
      "       30/1    1.17003    1.16643 +/- 0.00215\n",
      "       31/1    1.16586    1.16640 +/- 0.00204\n",
      "       32/1    1.15770    1.16601 +/- 0.00199\n",
      "       33/1    1.15890    1.16570 +/- 0.00192\n",
      "       34/1    1.13263    1.16432 +/- 0.00230\n",
      "       35/1    1.17262    1.16465 +/- 0.00223\n",
      "       36/1    1.14846    1.16403 +/- 0.00223\n",
      "       37/1    1.19019    1.16500 +/- 0.00236\n",
      "       38/1    1.16779    1.16510 +/- 0.00227\n",
      "       39/1    1.15618    1.16479 +/- 0.00221\n",
      "       40/1    1.15528    1.16447 +/- 0.00216\n",
      "       41/1    1.18270    1.16506 +/- 0.00217\n",
      "       42/1    1.14988    1.16459 +/- 0.00216\n",
      "       43/1    1.16951    1.16474 +/- 0.00210\n",
      "       44/1    1.16646    1.16479 +/- 0.00203\n",
      "       45/1    1.16866    1.16490 +/- 0.00198\n",
      "       46/1    1.16246    1.16483 +/- 0.00192\n",
      "       47/1    1.15204    1.16449 +/- 0.00190\n",
      "       48/1    1.17739    1.16482 +/- 0.00188\n",
      "       49/1    1.14700    1.16437 +/- 0.00189\n",
      "       50/1    1.15169    1.16405 +/- 0.00187\n",
      " Creating state point statepoint.50.h5...\n",
      "\n",
      " =======================>     TIMING STATISTICS     <=======================\n",
      "\n",
      " Total time for initialization     =  9.2599E-01 seconds\n",
      "   Reading cross sections          =  8.8644E-01 seconds\n",
      " Total time in simulation          =  3.6147E+01 seconds\n",
      "   Time in transport only          =  3.6044E+01 seconds\n",
      "   Time in inactive batches        =  5.0044E+00 seconds\n",
      "   Time in active batches          =  3.1142E+01 seconds\n",
      "   Time synchronizing fission bank =  1.4125E-02 seconds\n",
      "     Sampling source sites         =  9.2897E-03 seconds\n",
      "     SEND/RECV source sites        =  4.7203E-03 seconds\n",
      "   Time accumulating tallies       =  4.9748E-05 seconds\n",
      " Total time for finalization       =  9.9953E-05 seconds\n",
      " Total time elapsed                =  3.7099E+01 seconds\n",
      " Calculation Rate (inactive)       =  19982.5 neutrons/second\n",
      " Calculation Rate (active)         =  12844.3 neutrons/second\n",
      "\n",
      " ============================>     RESULTS     <============================\n",
      "\n",
      " k-effective (Collision)     =  1.16417 +/-  0.00201\n",
      " k-effective (Track-length)  =  1.16405 +/-  0.00187\n",
      " k-effective (Absorption)    =  1.16199 +/-  0.00146\n",
      " Combined k-effective        =  1.16274 +/-  0.00128\n",
      " Leakage Fraction            =  0.00000 +/-  0.00000\n",
      "\n"
     ]
    },
    {
     "data": {
      "text/plain": [
       "0"
      ]
     },
     "execution_count": 9,
     "metadata": {},
     "output_type": "execute_result"
    }
   ],
   "source": [
    "openmc.run()"
   ]
  },
  {
   "cell_type": "code",
   "execution_count": 10,
   "metadata": {
    "collapsed": false
   },
   "outputs": [
    {
     "name": "stdout",
     "output_type": "stream",
     "text": [
      "\r\n",
      " ==========================>     TALLY 10000     <==========================\r\n",
      "\r\n",
      " Temperature derivative  Material 10000      \r\n",
      " Total Material\r\n",
      "   Nu-Fission Rate                      -4.57169E-05   +/- 1.97621E-06\r\n"
     ]
    }
   ],
   "source": [
    "!cat tallies.out"
   ]
  },
  {
   "cell_type": "markdown",
   "metadata": {},
   "source": [
    "Let's compare this to the fuel temperature coefficient that we got from before."
   ]
  },
  {
   "cell_type": "code",
   "execution_count": 11,
   "metadata": {
    "collapsed": false
   },
   "outputs": [
    {
     "data": {
      "text/plain": [
       "array([ -4.42385029e-05,  -3.34087630e-05])"
      ]
     },
     "execution_count": 11,
     "metadata": {},
     "output_type": "execute_result"
    }
   ],
   "source": [
    "dkdT = np.diff(keff)/np.diff(temperatures)\n",
    "dkdT"
   ]
  }
 ],
 "metadata": {
  "anaconda-cloud": {},
  "kernelspec": {
   "display_name": "Python [default]",
   "language": "python",
   "name": "python3"
  },
  "language_info": {
   "codemirror_mode": {
    "name": "ipython",
    "version": 3
   },
   "file_extension": ".py",
   "mimetype": "text/x-python",
   "name": "python",
   "nbconvert_exporter": "python",
   "pygments_lexer": "ipython3",
   "version": "3.5.2"
  }
 },
 "nbformat": 4,
 "nbformat_minor": 2
}
