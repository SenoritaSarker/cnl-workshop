{
 "cells": [
  {
   "cell_type": "markdown",
   "metadata": {},
   "source": [
    "# Temperature Dependence\n",
    "\n",
    "OpenMC is a bit different than other Monte Carlo codes in how it treats temperature depedence in a few ways. First, as we've seen already, one never has to specify \"cross sections suffixes\" that appear in codes that use ACE data like MCNP and Serpent. As we'll show here, temperatures can be directly specified on cells or materials. Additionally, OpenMC has the option of using special windowed multipole data that allows it to do on-the-fly Doppler broadening."
   ]
  },
  {
   "cell_type": "code",
   "execution_count": null,
   "metadata": {
    "collapsed": true
   },
   "outputs": [],
   "source": [
    "%matplotlib inline\n",
    "import os\n",
    "import numpy as np\n",
    "import matplotlib.pyplot as plt\n",
    "import openmc\n",
    "\n",
    "import sys\n",
    "sys.path.append('..')\n",
    "from inputs import *"
   ]
  },
  {
   "cell_type": "markdown",
   "metadata": {},
   "source": [
    "For this session, we'll work with a simple pin-cell model."
   ]
  },
  {
   "cell_type": "code",
   "execution_count": null,
   "metadata": {
    "collapsed": true
   },
   "outputs": [],
   "source": [
    "pincell = PinCellInputSet()"
   ]
  },
  {
   "cell_type": "markdown",
   "metadata": {},
   "source": [
    "First, let's see what materials have been assigned to cells:"
   ]
  },
  {
   "cell_type": "code",
   "execution_count": null,
   "metadata": {
    "collapsed": false
   },
   "outputs": [],
   "source": [
    "cells = pincell.geometry.get_all_cells()\n",
    "for cid, cell in cells.items():\n",
    "    print(cid, cell.fill.name)"
   ]
  },
  {
   "cell_type": "markdown",
   "metadata": {},
   "source": [
    "Now we can assign variables to these cells."
   ]
  },
  {
   "cell_type": "code",
   "execution_count": null,
   "metadata": {
    "collapsed": false
   },
   "outputs": [],
   "source": [
    "fuel = cells[10000]\n",
    "clad = cells[10001]\n",
    "water = cells[10002]"
   ]
  },
  {
   "cell_type": "markdown",
   "metadata": {},
   "source": [
    "Thus far, no temperatures have been assigned anywhere in the model. There are three ways we can specify temperatures:\n",
    "\n",
    "- As a global default in `Settings.temperature['default']`.\n",
    "- As a default for a material in `Material.temperature`.\n",
    "- Applied to a cell as `Cell.temperature`.\n",
    "\n",
    "Material temperatures override the global default and cell temperatures override the material defaults. In the absence of any specification, OpenMC assumes that you want room temperature (293.6 K) cross sections."
   ]
  },
  {
   "cell_type": "markdown",
   "metadata": {},
   "source": [
    "## `Settings.temperature`\n",
    "\n",
    "The `Settings.temperature` attribute is a dictionary that takes the following keys:\n",
    "\n",
    "- `'default'`: global default temperature in Kelvin\n",
    "- `'method'`: method for handling temperature, either `'nearest'` or `'interpolation'`\n",
    "- `'tolerance'`: for nearest temperature, how close a temperature can be\n",
    "- `'multipole'`: Boolean value indicating whether to use multipole data\n",
    "\n",
    "To use multipole data, we either need to set `Settings.multipoly_library` or the `OPENMC_MULTIPOLE_LIBRARY` environment variable."
   ]
  },
  {
   "cell_type": "markdown",
   "metadata": {},
   "source": [
    "## Fuel temperature coefficient\n",
    "\n",
    "In this example, we'll calculate the fuel temperature coefficient in our pin cell model by iteratively changing the temperature. The fuel has U234, U235, U238, and O16 in it. Our multipoly library does not have data for O16, so we'll set a very high tolerance for temperature searches (effectively assuming the O16 cross section doesn't change)."
   ]
  },
  {
   "cell_type": "code",
   "execution_count": null,
   "metadata": {
    "collapsed": false
   },
   "outputs": [],
   "source": []
  }
 ],
 "metadata": {
  "anaconda-cloud": {},
  "kernelspec": {
   "display_name": "Python [default]",
   "language": "python",
   "name": "python3"
  },
  "language_info": {
   "codemirror_mode": {
    "name": "ipython",
    "version": 3
   },
   "file_extension": ".py",
   "mimetype": "text/x-python",
   "name": "python",
   "nbconvert_exporter": "python",
   "pygments_lexer": "ipython3",
   "version": "3.5.2"
  }
 },
 "nbformat": 4,
 "nbformat_minor": 2
}
