{
 "cells": [
  {
   "cell_type": "markdown",
   "metadata": {},
   "source": [
    "# Advanced Modeling Features"
   ]
  },
  {
   "cell_type": "markdown",
   "metadata": {},
   "source": [
    "## TRISO Particles\n",
    "\n",
    "OpenMC includes a few convenience functions for generations TRISO particle locations and placing them in a lattice. To be clear, this capability is not a stochastic geometry capability like included in MCNP. It's also important to note that OpenMC does not use delta tracking, which would normally speed up calculations in geometries with tons of surfaces and cells. However, the computational burden can be eased by placing TRISO particles in a lattice."
   ]
  },
  {
   "cell_type": "code",
   "execution_count": 1,
   "metadata": {
    "collapsed": true
   },
   "outputs": [],
   "source": [
    "%matplotlib inline\n",
    "from math import pi\n",
    "import numpy as np\n",
    "import matplotlib.pyplot as plt\n",
    "import openmc\n",
    "import openmc.model\n",
    "\n",
    "import sys\n",
    "sys.path.append('../..')\n",
    "from inputs import *"
   ]
  },
  {
   "cell_type": "markdown",
   "metadata": {},
   "source": [
    "Let's first start by creating materials that will be used in our TRISO particles and the background material."
   ]
  },
  {
   "cell_type": "code",
   "execution_count": 2,
   "metadata": {
    "collapsed": false
   },
   "outputs": [],
   "source": [
    "fuel = openmc.Material(name='Fuel')\n",
    "fuel.set_density('g/cm3', 10.5)\n",
    "fuel.add_nuclide('U235', 4.6716e-02)\n",
    "fuel.add_nuclide('U238', 2.8697e-01)\n",
    "fuel.add_nuclide('O16',  5.0000e-01)\n",
    "fuel.add_element('C', 1.6667e-01)\n",
    "\n",
    "buff = openmc.Material(name='Buffer')\n",
    "buff.set_density('g/cm3', 1.0)\n",
    "buff.add_element('C', 1.0)\n",
    "buff.add_s_alpha_beta('c_Graphite')\n",
    "\n",
    "PyC1 = openmc.Material(name='PyC1')\n",
    "PyC1.set_density('g/cm3', 1.9)\n",
    "PyC1.add_element('C', 1.0)\n",
    "PyC1.add_s_alpha_beta('c_Graphite')\n",
    "\n",
    "PyC2 = openmc.Material(name='PyC2')\n",
    "PyC2.set_density('g/cm3', 1.87)\n",
    "PyC2.add_element('C', 1.0)\n",
    "PyC2.add_s_alpha_beta('c_Graphite')\n",
    "\n",
    "SiC = openmc.Material(name='SiC')\n",
    "SiC.set_density('g/cm3', 3.2)\n",
    "SiC.add_element('C', 0.5)\n",
    "SiC.add_element('Si', 0.5)\n",
    "\n",
    "graphite = openmc.Material()\n",
    "graphite.set_density('g/cm3', 1.1995)\n",
    "graphite.add_element('C', 1.0)\n",
    "graphite.add_s_alpha_beta('c_Graphite')"
   ]
  },
  {
   "cell_type": "markdown",
   "metadata": {},
   "source": [
    "To actually create individual TRISO particles, we first need to create a universe that will be used within each particle. The reason we use the same universe for each TRISO particle is to reduce the total number of cells/surfaces needed which can improve performance by a factor of two over using unique cells/surfaces in each."
   ]
  },
  {
   "cell_type": "code",
   "execution_count": 3,
   "metadata": {
    "collapsed": false
   },
   "outputs": [],
   "source": [
    "# Create TRISO universe\n",
    "spheres = [openmc.Sphere(R=r*1e-4)\n",
    "           for r in [215., 315., 350., 385.]]\n",
    "cells = [openmc.Cell(fill=fuel, region=-spheres[0]),\n",
    "         openmc.Cell(fill=buff, region=+spheres[0] & -spheres[1]),\n",
    "         openmc.Cell(fill=PyC1, region=+spheres[1] & -spheres[2]),\n",
    "         openmc.Cell(fill=SiC, region=+spheres[2] & -spheres[3]),\n",
    "         openmc.Cell(fill=PyC2, region=+spheres[3])]\n",
    "triso_univ = openmc.Universe(cells=cells)"
   ]
  },
  {
   "cell_type": "markdown",
   "metadata": {},
   "source": [
    "Now that we have a universe that can be used for each TRISO particle, we need to randomly select locations. In this example, we will select locations at random within in a 1 cm x 1 cm x 1 cm box centered at the origin with a packing fraction of 30%. Note that `pack_trisos` can handle up to the theoretical maximum of 60% (it will just be slow)."
   ]
  },
  {
   "cell_type": "code",
   "execution_count": 4,
   "metadata": {
    "collapsed": false
   },
   "outputs": [],
   "source": [
    "outer_radius = 425.*1e-4\n",
    "\n",
    "trisos = openmc.model.pack_trisos(\n",
    "    radius=outer_radius,\n",
    "    fill=triso_univ,\n",
    "    domain_shape='cube',\n",
    "    domain_length=1,\n",
    "    packing_fraction=0.3\n",
    ")"
   ]
  },
  {
   "cell_type": "markdown",
   "metadata": {},
   "source": [
    "Note that each TRISO object **is** a Cell, in fact; we can look at the properties of the TRISO just as we would a cell:"
   ]
  },
  {
   "cell_type": "code",
   "execution_count": 5,
   "metadata": {
    "collapsed": false
   },
   "outputs": [
    {
     "name": "stdout",
     "output_type": "stream",
     "text": [
      "Cell\n",
      "\tID             =\t10005\n",
      "\tName           =\t\n",
      "\tFill           =\t10000\n",
      "\tRegion         =\t-10004\n",
      "\tRotation       =\tNone\n",
      "\tTranslation    =\t[-0.33455672  0.31790187  0.24135378]\n",
      "\n"
     ]
    }
   ],
   "source": [
    "print(trisos[0])"
   ]
  },
  {
   "cell_type": "markdown",
   "metadata": {},
   "source": [
    "Let's confirm that all our TRISO particles are within the box."
   ]
  },
  {
   "cell_type": "code",
   "execution_count": 6,
   "metadata": {
    "collapsed": false
   },
   "outputs": [
    {
     "name": "stdout",
     "output_type": "stream",
     "text": [
      "[-0.45718713 -0.45730405 -0.45725048]\n",
      "[ 0.45705454  0.45743843  0.45741142]\n"
     ]
    }
   ],
   "source": [
    "centers = np.vstack([t.center for t in trisos])\n",
    "print(centers.min(axis=0))\n",
    "print(centers.max(axis=0))"
   ]
  },
  {
   "cell_type": "markdown",
   "metadata": {},
   "source": [
    "We can also look at what the actual packing fraction turned out to be:"
   ]
  },
  {
   "cell_type": "code",
   "execution_count": 7,
   "metadata": {
    "collapsed": false
   },
   "outputs": [
    {
     "data": {
      "text/plain": [
       "0.2996893513959326"
      ]
     },
     "execution_count": 7,
     "metadata": {},
     "output_type": "execute_result"
    }
   ],
   "source": [
    "len(trisos)*4/3*pi*outer_radius**3"
   ]
  },
  {
   "cell_type": "markdown",
   "metadata": {},
   "source": [
    "Now that we have our TRISO particles created, we need to place them in a lattice to provide optimal tracking performance in OpenMC. We'll start by creating a box that the lattice will be placed within."
   ]
  },
  {
   "cell_type": "code",
   "execution_count": 8,
   "metadata": {
    "collapsed": false,
    "scrolled": true
   },
   "outputs": [],
   "source": [
    "min_x = openmc.XPlane(x0=-0.5, boundary_type='reflective')\n",
    "max_x = openmc.XPlane(x0=0.5, boundary_type='reflective')\n",
    "min_y = openmc.YPlane(y0=-0.5, boundary_type='reflective')\n",
    "max_y = openmc.YPlane(y0=0.5, boundary_type='reflective')\n",
    "min_z = openmc.ZPlane(z0=-0.5, boundary_type='reflective')\n",
    "max_z = openmc.ZPlane(z0=0.5, boundary_type='reflective')\n",
    "box = openmc.Cell(region=+min_x & -max_x & +min_y & -max_y & +min_z & -max_z)"
   ]
  },
  {
   "cell_type": "markdown",
   "metadata": {},
   "source": [
    "Our last step is to actually create a lattice containing TRISO particles which can be done with `model.create_triso_lattice()` function. This function requires that we give it a list of TRISO particles, the lower-left coordinates of the lattice, the pitch of each lattice cell, the overall shape of the lattice (number of cells in each direction), and a background material."
   ]
  },
  {
   "cell_type": "code",
   "execution_count": 9,
   "metadata": {
    "collapsed": false
   },
   "outputs": [],
   "source": [
    "lower_left, upper_right = box.region.bounding_box\n",
    "shape = (3, 3, 3)\n",
    "pitch = (upper_right - lower_left)/shape\n",
    "lattice = openmc.model.create_triso_lattice(\n",
    "    trisos, lower_left, pitch, shape, graphite)"
   ]
  },
  {
   "cell_type": "markdown",
   "metadata": {},
   "source": [
    "Now we can set the fill of our box cell to be the lattice:"
   ]
  },
  {
   "cell_type": "code",
   "execution_count": 10,
   "metadata": {
    "collapsed": true
   },
   "outputs": [],
   "source": [
    "box.fill = lattice"
   ]
  },
  {
   "cell_type": "markdown",
   "metadata": {},
   "source": [
    "Finally, let's take a look at our geometry by putting the box in a universe and plotting it. We're going to use the Fortran-side plotter since it's much faster."
   ]
  },
  {
   "cell_type": "code",
   "execution_count": 11,
   "metadata": {
    "collapsed": false
   },
   "outputs": [
    {
     "data": {
      "image/png": "[encoded data removed]",
      "text/plain": [
       "<IPython.core.display.Image object>"
      ]
     },
     "metadata": {},
     "output_type": "display_data"
    }
   ],
   "source": [
    "univ = openmc.Universe(cells=[box])\n",
    "\n",
    "geom = openmc.Geometry(univ)\n",
    "geom.export_to_xml()\n",
    "\n",
    "mats = list(geom.get_all_materials().values())\n",
    "openmc.Materials(mats).export_to_xml()\n",
    "\n",
    "settings = openmc.Settings()\n",
    "settings.run_mode = 'plot'\n",
    "settings.export_to_xml()\n",
    "\n",
    "p = openmc.Plot.from_geometry(geom)\n",
    "openmc.plot_inline(p)"
   ]
  },
  {
   "cell_type": "markdown",
   "metadata": {},
   "source": [
    "If we plot the universe by material rather than by cell, we can see that the entire background is just graphite."
   ]
  },
  {
   "cell_type": "code",
   "execution_count": 12,
   "metadata": {
    "collapsed": false
   },
   "outputs": [
    {
     "data": {
      "image/png": "[encoded data removed]",
      "text/plain": [
       "<IPython.core.display.Image object>"
      ]
     },
     "metadata": {},
     "output_type": "display_data"
    }
   ],
   "source": [
    "p.color_by = 'material'\n",
    "p.colors = {graphite: 'gray'}\n",
    "openmc.plot_inline(p)"
   ]
  },
  {
   "cell_type": "markdown",
   "metadata": {},
   "source": [
    "## Tally Triggers"
   ]
  },
  {
   "cell_type": "markdown",
   "metadata": {},
   "source": [
    "Now that we have a cool TRISO model, our boss has asked us what the fission rate in fuel is and he wants to know it such within a relative error (std dev/mean) of 0.1%. Thankfully, OpenMC has a feature called \"tally triggers\" that allow us to run a simulation until a criterion like this is met, so we don't have to guess how many batches to run.\n",
    "\n",
    "First, let's create a tally for the fission reaction rate in fuel."
   ]
  },
  {
   "cell_type": "code",
   "execution_count": 13,
   "metadata": {
    "collapsed": false
   },
   "outputs": [],
   "source": [
    "fission_tally = openmc.Tally(1)\n",
    "fission_tally.filters.append(openmc.MaterialFilter(fuel.id))\n",
    "fission_tally.scores.append('fission')"
   ]
  },
  {
   "cell_type": "markdown",
   "metadata": {},
   "source": [
    "Now we need to create trigger and assign it to the tally."
   ]
  },
  {
   "cell_type": "code",
   "execution_count": 14,
   "metadata": {
    "collapsed": false
   },
   "outputs": [],
   "source": [
    "trigger = openmc.Trigger('rel_err', 0.001)\n",
    "fission_tally.triggers = [trigger]\n",
    "\n",
    "tallies = openmc.Tallies([fission_tally])\n",
    "tallies.export_to_xml()"
   ]
  },
  {
   "cell_type": "markdown",
   "metadata": {},
   "source": [
    "Finally, we need to tell OpenMC to turn on triggers in the first place. Before that, we'll adjust our `Settings` object to run an eigenvalue simulation starting with a point source at the origin."
   ]
  },
  {
   "cell_type": "code",
   "execution_count": 15,
   "metadata": {
    "collapsed": true
   },
   "outputs": [],
   "source": [
    "settings.run_mode = 'eigenvalue'\n",
    "settings.source = openmc.Source(space=openmc.stats.Point())\n",
    "settings.batches = 20\n",
    "settings.inactive = 10\n",
    "settings.particles = 100\n",
    "\n",
    "settings.trigger_active = True\n",
    "settings.trigger_max_batches = 1000\n",
    "settings.export_to_xml()"
   ]
  },
  {
   "cell_type": "code",
   "execution_count": 16,
   "metadata": {
    "collapsed": false
   },
   "outputs": [
    {
     "name": "stdout",
     "output_type": "stream",
     "text": [
      "\n",
      "                               %%%%%%%%%%%%%%%\n",
      "                          %%%%%%%%%%%%%%%%%%%%%%%%\n",
      "                       %%%%%%%%%%%%%%%%%%%%%%%%%%%%%%\n",
      "                     %%%%%%%%%%%%%%%%%%%%%%%%%%%%%%%%%%\n",
      "                   %%%%%%%%%%%%%%%%%%%%%%%%%%%%%%%%%%%%%%\n",
      "                  %%%%%%%%%%%%%%%%%%%%%%%%%%%%%%%%%%%%%%%%\n",
      "                                   %%%%%%%%%%%%%%%%%%%%%%%%\n",
      "                                    %%%%%%%%%%%%%%%%%%%%%%%%\n",
      "                ###############      %%%%%%%%%%%%%%%%%%%%%%%%\n",
      "               ##################     %%%%%%%%%%%%%%%%%%%%%%%\n",
      "               ###################     %%%%%%%%%%%%%%%%%%%%%%%\n",
      "               ####################     %%%%%%%%%%%%%%%%%%%%%%\n",
      "               #####################     %%%%%%%%%%%%%%%%%%%%%\n",
      "               ######################     %%%%%%%%%%%%%%%%%%%%\n",
      "               #######################     %%%%%%%%%%%%%%%%%%\n",
      "                #######################     %%%%%%%%%%%%%%%%%\n",
      "                ######################     %%%%%%%%%%%%%%%%%\n",
      "                 ####################     %%%%%%%%%%%%%%%%%\n",
      "                   #################     %%%%%%%%%%%%%%%%%\n",
      "                    ###############     %%%%%%%%%%%%%%%%\n",
      "                      ############     %%%%%%%%%%%%%%%\n",
      "                         ########     %%%%%%%%%%%%%%\n",
      "                                     %%%%%%%%%%%\n",
      "\n",
      "                   | The OpenMC Monte Carlo Code\n",
      "         Copyright | 2011-2017 Massachusetts Institute of Technology\n",
      "           License | http://openmc.readthedocs.io/en/latest/license.html\n",
      "           Version | 0.8.0\n",
      "          Git SHA1 | 561cf39b63b3f132bfa60427fe509b5d59f7a125\n",
      "         Date/Time | 2017-03-11 08:32:18\n",
      "    OpenMP Threads | 4\n",
      "\n",
      " Reading settings XML file...\n",
      " Reading geometry XML file...\n",
      " Reading materials XML file...\n",
      " Reading cross sections XML file...\n",
      " Reading U235 from /home/romano/openmc/scripts/nndc_hdf5/U235.h5\n",
      " Reading U238 from /home/romano/openmc/scripts/nndc_hdf5/U238.h5\n",
      " Reading O16 from /home/romano/openmc/scripts/nndc_hdf5/O16.h5\n",
      " Reading C0 from /home/romano/openmc/scripts/nndc_hdf5/C0.h5\n",
      " Reading Si28 from /home/romano/openmc/scripts/nndc_hdf5/Si28.h5\n",
      " Reading Si29 from /home/romano/openmc/scripts/nndc_hdf5/Si29.h5\n",
      " Reading Si30 from /home/romano/openmc/scripts/nndc_hdf5/Si30.h5\n",
      " Reading c_Graphite from /home/romano/openmc/scripts/nndc_hdf5/c_Graphite.h5\n",
      " Maximum neutron transport energy: 2.00000E+07 eV for U235\n",
      " Reading tallies XML file...\n",
      " Building neighboring cells lists for each surface...\n",
      " Initializing source particles...\n",
      "\n",
      " ====================>     K EIGENVALUE SIMULATION     <====================\n",
      "\n",
      "  Bat./Gen.      k            Average k         \n",
      "  =========   ========   ====================   \n",
      "        1/1    1.30795                       \n",
      "        2/1    0.87380                       \n",
      "        3/1    0.87094                       \n",
      "        4/1    1.32089                       \n",
      "        5/1    1.31086                       \n",
      " WARNING: Could not locate particle 45 after crossing a lattice boundary.\n",
      "        6/1    0.97857                       \n",
      " WARNING: Could not locate particle 83 after crossing a lattice boundary.\n",
      "        7/1    1.01008                       \n",
      "        8/1    1.16149                       \n",
      "        9/1    0.79714                       \n",
      "       10/1    1.18389                       \n",
      "       11/1    1.03379                       \n",
      "       12/1    1.02902    1.03141 +/- 0.00239\n",
      "       13/1    0.94164    1.00148 +/- 0.02995\n",
      "       14/1    1.03190    1.00909 +/- 0.02250\n",
      "       15/1    1.00929    1.00913 +/- 0.01743\n",
      "       16/1    1.10436    1.02500 +/- 0.02132\n",
      "       17/1    1.04506    1.02787 +/- 0.01824\n",
      "       18/1    0.97199    1.02088 +/- 0.01727\n",
      "       19/1    1.25486    1.04688 +/- 0.03013\n",
      "       20/1    1.22956    1.06515 +/- 0.03256\n",
      " Triggers unsatisfied, max unc./thresh. is 30.7103 for fission in tally 1\n",
      " WARNING: The estimated number of batches is 9442 --  greater than max batches.\n",
      " Creating state point statepoint.0020.h5...\n",
      "       21/1    0.89135    1.04935 +/- 0.03342\n",
      "       22/1    0.80943    1.02935 +/- 0.03648\n",
      "       23/1    0.91599    1.02063 +/- 0.03467\n",
      "       24/1    1.02188    1.02072 +/- 0.03210\n",
      "       25/1    1.16872    1.03059 +/- 0.03147\n",
      "       26/1    1.15770    1.03853 +/- 0.03049\n",
      "       27/1    1.41509    1.06068 +/- 0.03621\n",
      "       28/1    1.10433    1.06311 +/- 0.03422\n",
      "       29/1    1.07760    1.06387 +/- 0.03238\n",
      "       30/1    1.17660    1.06951 +/- 0.03123\n",
      "       31/1    1.01050    1.06670 +/- 0.02984\n",
      "       32/1    0.82776    1.05584 +/- 0.03045\n",
      "       33/1    1.12551    1.05887 +/- 0.02926\n",
      "       34/1    1.17190    1.06358 +/- 0.02840\n",
      "       35/1    0.97668    1.06010 +/- 0.02746\n",
      "       36/1    0.93108    1.05514 +/- 0.02685\n",
      "       37/1    1.23631    1.06185 +/- 0.02669\n",
      "       38/1    1.16752    1.06562 +/- 0.02600\n",
      "       39/1    1.06222    1.06551 +/- 0.02508\n",
      "       40/1    0.99763    1.06324 +/- 0.02434\n",
      "       41/1    1.01586    1.06171 +/- 0.02359\n",
      "       42/1    0.87131    1.05576 +/- 0.02360\n",
      "       43/1    1.27454    1.06239 +/- 0.02382\n",
      "       44/1    1.09926    1.06348 +/- 0.02313\n",
      "       45/1    1.39995    1.07309 +/- 0.02443\n",
      "       46/1    0.92672    1.06903 +/- 0.02409\n",
      "       47/1    1.27719    1.07465 +/- 0.02410\n",
      "       48/1    1.34159    1.08168 +/- 0.02448\n",
      "       49/1    1.08097    1.08166 +/- 0.02385\n",
      "       50/1    1.01092    1.07989 +/- 0.02331\n",
      "       51/1    1.02983    1.07867 +/- 0.02277\n",
      "       52/1    1.23784    1.08246 +/- 0.02254\n",
      "       53/1    1.09765    1.08281 +/- 0.02201\n",
      "       54/1    1.27417    1.08716 +/- 0.02194\n",
      "       55/1    1.04202    1.08616 +/- 0.02147\n",
      "       56/1    1.17576    1.08811 +/- 0.02109\n",
      "       57/1    1.13724    1.08915 +/- 0.02066\n",
      "       58/1    1.03282    1.08798 +/- 0.02026\n",
      "       59/1    1.01444    1.08648 +/- 0.01990\n",
      "       60/1    1.10420    1.08683 +/- 0.01950\n",
      "       61/1    0.94159    1.08398 +/- 0.01933\n",
      "       62/1    1.11123    1.08451 +/- 0.01896\n",
      "       63/1    1.11903    1.08516 +/- 0.01861\n",
      "       64/1    1.07540    1.08498 +/- 0.01826\n",
      "       65/1    1.12831    1.08577 +/- 0.01794\n",
      "       66/1    0.80329    1.08072 +/- 0.01833\n",
      "       67/1    1.03977    1.08000 +/- 0.01802\n",
      "       68/1    1.12403    1.08076 +/- 0.01772\n",
      "       69/1    1.09324    1.08097 +/- 0.01742\n",
      "       70/1    1.02245    1.08000 +/- 0.01715\n",
      "       71/1    1.07986    1.08000 +/- 0.01687\n",
      "       72/1    1.06650    1.07978 +/- 0.01660\n",
      "       73/1    1.13506    1.08066 +/- 0.01636\n",
      "       74/1    1.13485    1.08150 +/- 0.01612\n",
      "       75/1    1.18706    1.08313 +/- 0.01595\n",
      "       76/1    0.93768    1.08092 +/- 0.01586\n",
      "       77/1    1.20455    1.08277 +/- 0.01573\n",
      "       78/1    0.99466    1.08147 +/- 0.01555\n"
     ]
    },
    {
     "ename": "KeyboardInterrupt",
     "evalue": "",
     "output_type": "error",
     "traceback": [
      "\u001b[0;31m---------------------------------------------------------------------------\u001b[0m",
      "\u001b[0;31mKeyboardInterrupt\u001b[0m                         Traceback (most recent call last)",
      "\u001b[0;32m<ipython-input-16-a5513a91dff5>\u001b[0m in \u001b[0;36m<module>\u001b[0;34m()\u001b[0m\n\u001b[0;32m----> 1\u001b[0;31m \u001b[0mopenmc\u001b[0m\u001b[0;34m.\u001b[0m\u001b[0mrun\u001b[0m\u001b[0;34m(\u001b[0m\u001b[0;34m)\u001b[0m\u001b[0;34m\u001b[0m\u001b[0m\n\u001b[0m",
      "\u001b[0;32m/home/romano/openmc/openmc/executor.py\u001b[0m in \u001b[0;36mrun\u001b[0;34m(particles, threads, geometry_debug, restart_file, tracks, output, cwd, openmc_exec, mpi_args)\u001b[0m\n\u001b[1;32m    190\u001b[0m         \u001b[0margs\u001b[0m \u001b[0;34m=\u001b[0m \u001b[0mmpi_args\u001b[0m \u001b[0;34m+\u001b[0m \u001b[0margs\u001b[0m\u001b[0;34m\u001b[0m\u001b[0m\n\u001b[1;32m    191\u001b[0m \u001b[0;34m\u001b[0m\u001b[0m\n\u001b[0;32m--> 192\u001b[0;31m     \u001b[0;32mreturn\u001b[0m \u001b[0m_run\u001b[0m\u001b[0;34m(\u001b[0m\u001b[0margs\u001b[0m\u001b[0;34m,\u001b[0m \u001b[0moutput\u001b[0m\u001b[0;34m,\u001b[0m \u001b[0mcwd\u001b[0m\u001b[0;34m)\u001b[0m\u001b[0;34m\u001b[0m\u001b[0m\n\u001b[0m",
      "\u001b[0;32m/home/romano/openmc/openmc/executor.py\u001b[0m in \u001b[0;36m_run\u001b[0;34m(args, output, cwd)\u001b[0m\n\u001b[1;32m     18\u001b[0m     \u001b[0;32mwhile\u001b[0m \u001b[0;32mTrue\u001b[0m\u001b[0;34m:\u001b[0m\u001b[0;34m\u001b[0m\u001b[0m\n\u001b[1;32m     19\u001b[0m         \u001b[0;31m# If OpenMC is finished, break loop\u001b[0m\u001b[0;34m\u001b[0m\u001b[0;34m\u001b[0m\u001b[0m\n\u001b[0;32m---> 20\u001b[0;31m         \u001b[0mline\u001b[0m \u001b[0;34m=\u001b[0m \u001b[0mp\u001b[0m\u001b[0;34m.\u001b[0m\u001b[0mstdout\u001b[0m\u001b[0;34m.\u001b[0m\u001b[0mreadline\u001b[0m\u001b[0;34m(\u001b[0m\u001b[0;34m)\u001b[0m\u001b[0;34m\u001b[0m\u001b[0m\n\u001b[0m\u001b[1;32m     21\u001b[0m         \u001b[0;32mif\u001b[0m \u001b[0;32mnot\u001b[0m \u001b[0mline\u001b[0m \u001b[0;32mand\u001b[0m \u001b[0mp\u001b[0m\u001b[0;34m.\u001b[0m\u001b[0mpoll\u001b[0m\u001b[0;34m(\u001b[0m\u001b[0;34m)\u001b[0m \u001b[0;32mis\u001b[0m \u001b[0;32mnot\u001b[0m \u001b[0;32mNone\u001b[0m\u001b[0;34m:\u001b[0m\u001b[0;34m\u001b[0m\u001b[0m\n\u001b[1;32m     22\u001b[0m             \u001b[0;32mbreak\u001b[0m\u001b[0;34m\u001b[0m\u001b[0m\n",
      "\u001b[0;31mKeyboardInterrupt\u001b[0m: "
     ]
    }
   ],
   "source": [
    "openmc.run()"
   ]
  },
  {
   "cell_type": "markdown",
   "metadata": {},
   "source": [
    "## External Source Distributions\n",
    "\n",
    "Thus far, we've only specified `Box` and `Point` spatial sources. OpenMC also allows you to specify the angular and energy distribution of an external source through the `angle` and `energy` attributes of `Source`. If you don't specify an angular distribution, it is isotropic by default. If you don't specify an energy distribution, a `Watt` fission spectrum is assumed.\n",
    "\n",
    "The distribution of energies is a univariate probability distribution. Some common options are `Watt`, `Maxwell`, `Discrete`, or `Tabular`. For example, if we want a monoenergetic source, we can use a `Discrete` distribution."
   ]
  },
  {
   "cell_type": "code",
   "execution_count": 17,
   "metadata": {
    "collapsed": true
   },
   "outputs": [],
   "source": [
    "# 14 MeV source\n",
    "monoenergy = openmc.stats.Discrete([14.0], [1.0])"
   ]
  },
  {
   "cell_type": "markdown",
   "metadata": {},
   "source": [
    "The angular distribution is a multivariate probability distribution. We can actually separately specify distributions of polar and azimuthal angles via the `PolarAzimuthal` class. If we wanted to create a monodirectional source, we could give delta distributions in both polar and azimuthal angles. However, there is already a `Monodirectional` source that makes this easy."
   ]
  },
  {
   "cell_type": "code",
   "execution_count": 18,
   "metadata": {
    "collapsed": true
   },
   "outputs": [],
   "source": [
    "to_the_left = openmc.stats.Monodirectional((-1., 0., 0.))"
   ]
  },
  {
   "cell_type": "markdown",
   "metadata": {},
   "source": [
    "The spatial distribution is also a multivariate distribution in three dimensions. Spatial distributions are all subclasses of `openmc.stats.Spatial`. The most general one is `CartesianIndependent` which allows us to separately specify univariate distributions in `x`, `y`, and `z`. For example, to create a planar source in the $x$-$y$ plane at $z=0$, we could do the following."
   ]
  },
  {
   "cell_type": "code",
   "execution_count": 19,
   "metadata": {
    "collapsed": false
   },
   "outputs": [],
   "source": [
    "x = openmc.stats.Uniform(-1., 1.)\n",
    "y = openmc.stats.Uniform(-1., 1.)\n",
    "z = openmc.stats.Discrete([0.], [1.])\n",
    "planar_source = openmc.stats.CartesianIndependent(x, y, z)"
   ]
  },
  {
   "cell_type": "markdown",
   "metadata": {},
   "source": [
    "Remember that we always have to pass on these distributions to an instance of `openmc.Source` because this is what is expected by `Settings.source`. If we tried to directly assign a spatial, angular, or energy distribution to the source, it won't work.\n",
    "\n",
    "`Settings.source` actually accepts a list of `Source` objects. This allows us to specify multiple sources with different strengths, if desired. The source strength can be changed with the `Source.strength` attribute."
   ]
  },
  {
   "cell_type": "markdown",
   "metadata": {},
   "source": [
    "## Filters and Scores\n",
    "\n",
    "We've seen a few filter and score types thus far, but there are many more we haven't touched. In addition to specifying domains in which the tallies should be accumulated (cells, materials, universes), we can also specify that only particles within certain ranges of energy score to the tally (`EnergyFilter`) or particles exiting collisions with certain energys (`EnergyoutFilter`). Let's show a quick example of constructing a scattering matrix."
   ]
  },
  {
   "cell_type": "code",
   "execution_count": 20,
   "metadata": {
    "collapsed": true
   },
   "outputs": [],
   "source": [
    "pincell = PinCellInputSet()"
   ]
  },
  {
   "cell_type": "code",
   "execution_count": 21,
   "metadata": {
    "collapsed": false
   },
   "outputs": [],
   "source": [
    "matrix_tally = openmc.Tally()\n",
    "energies = [0.0, 0.625e-6, 1e-3, 1.0, 3.0, 20.0]\n",
    "e_in = openmc.EnergyFilter(energies)\n",
    "e_out = openmc.EnergyoutFilter(energies)\n",
    "\n",
    "matrix_tally.filters = [e_in, e_out]\n",
    "matrix_tally.scores = ['scatter']"
   ]
  },
  {
   "cell_type": "code",
   "execution_count": 22,
   "metadata": {
    "collapsed": false
   },
   "outputs": [],
   "source": [
    "pincell.tallies.append(matrix_tally)\n",
    "pincell.export()"
   ]
  },
  {
   "cell_type": "code",
   "execution_count": 23,
   "metadata": {
    "collapsed": false
   },
   "outputs": [
    {
     "name": "stdout",
     "output_type": "stream",
     "text": [
      "\n",
      "                               %%%%%%%%%%%%%%%\n",
      "                          %%%%%%%%%%%%%%%%%%%%%%%%\n",
      "                       %%%%%%%%%%%%%%%%%%%%%%%%%%%%%%\n",
      "                     %%%%%%%%%%%%%%%%%%%%%%%%%%%%%%%%%%\n",
      "                   %%%%%%%%%%%%%%%%%%%%%%%%%%%%%%%%%%%%%%\n",
      "                  %%%%%%%%%%%%%%%%%%%%%%%%%%%%%%%%%%%%%%%%\n",
      "                                   %%%%%%%%%%%%%%%%%%%%%%%%\n",
      "                                    %%%%%%%%%%%%%%%%%%%%%%%%\n",
      "                ###############      %%%%%%%%%%%%%%%%%%%%%%%%\n",
      "               ##################     %%%%%%%%%%%%%%%%%%%%%%%\n",
      "               ###################     %%%%%%%%%%%%%%%%%%%%%%%\n",
      "               ####################     %%%%%%%%%%%%%%%%%%%%%%\n",
      "               #####################     %%%%%%%%%%%%%%%%%%%%%\n",
      "               ######################     %%%%%%%%%%%%%%%%%%%%\n",
      "               #######################     %%%%%%%%%%%%%%%%%%\n",
      "                #######################     %%%%%%%%%%%%%%%%%\n",
      "                ######################     %%%%%%%%%%%%%%%%%\n",
      "                 ####################     %%%%%%%%%%%%%%%%%\n",
      "                   #################     %%%%%%%%%%%%%%%%%\n",
      "                    ###############     %%%%%%%%%%%%%%%%\n",
      "                      ############     %%%%%%%%%%%%%%%\n",
      "                         ########     %%%%%%%%%%%%%%\n",
      "                                     %%%%%%%%%%%\n",
      "\n",
      "                   | The OpenMC Monte Carlo Code\n",
      "         Copyright | 2011-2017 Massachusetts Institute of Technology\n",
      "           License | http://openmc.readthedocs.io/en/latest/license.html\n",
      "           Version | 0.8.0\n",
      "          Git SHA1 | 561cf39b63b3f132bfa60427fe509b5d59f7a125\n",
      "         Date/Time | 2017-03-11 08:33:12\n",
      "    OpenMP Threads | 4\n",
      "\n",
      " Reading settings XML file...\n",
      " Reading geometry XML file...\n",
      " Reading materials XML file...\n",
      " Reading cross sections XML file...\n",
      " Reading U234 from /home/romano/openmc/scripts/nndc_hdf5/U234.h5\n",
      " Reading U235 from /home/romano/openmc/scripts/nndc_hdf5/U235.h5\n",
      " Reading U238 from /home/romano/openmc/scripts/nndc_hdf5/U238.h5\n",
      " Reading O16 from /home/romano/openmc/scripts/nndc_hdf5/O16.h5\n",
      " Reading Zr90 from /home/romano/openmc/scripts/nndc_hdf5/Zr90.h5\n",
      " Reading Zr91 from /home/romano/openmc/scripts/nndc_hdf5/Zr91.h5\n",
      " Reading Zr92 from /home/romano/openmc/scripts/nndc_hdf5/Zr92.h5\n",
      " Reading Zr94 from /home/romano/openmc/scripts/nndc_hdf5/Zr94.h5\n",
      " Reading Zr96 from /home/romano/openmc/scripts/nndc_hdf5/Zr96.h5\n",
      " Reading H1 from /home/romano/openmc/scripts/nndc_hdf5/H1.h5\n",
      " Reading B10 from /home/romano/openmc/scripts/nndc_hdf5/B10.h5\n",
      " Reading B11 from /home/romano/openmc/scripts/nndc_hdf5/B11.h5\n",
      " Reading c_H_in_H2O from /home/romano/openmc/scripts/nndc_hdf5/c_H_in_H2O.h5\n",
      " Maximum neutron transport energy: 2.00000E+07 eV for U235\n",
      " Reading tallies XML file...\n",
      " Building neighboring cells lists for each surface...\n",
      " Initializing source particles...\n",
      "\n",
      " ====================>     K EIGENVALUE SIMULATION     <====================\n",
      "\n",
      "  Bat./Gen.      k            Average k         \n",
      "  =========   ========   ====================   \n",
      "        1/1    1.20516                       \n",
      "        2/1    1.16920                       \n",
      "        3/1    1.13712                       \n",
      "        4/1    1.17370                       \n",
      "        5/1    1.22330                       \n",
      "        6/1    1.18937                       \n",
      "        7/1    1.09914                       \n",
      "        8/1    1.13259                       \n",
      "        9/1    1.19849                       \n",
      "       10/1    1.13283                       \n",
      "       11/1    1.09304                       \n",
      "       12/1    1.17268    1.13286 +/- 0.03982\n",
      "       13/1    1.14506    1.13692 +/- 0.02335\n",
      "       14/1    1.25394    1.16618 +/- 0.03359\n",
      "       15/1    1.16337    1.16562 +/- 0.02602\n",
      "       16/1    1.21693    1.17417 +/- 0.02291\n",
      "       17/1    1.18783    1.17612 +/- 0.01946\n",
      "       18/1    1.22169    1.18182 +/- 0.01779\n",
      "       19/1    1.23651    1.18789 +/- 0.01682\n",
      "       20/1    1.24655    1.19376 +/- 0.01615\n",
      "       21/1    1.15247    1.19001 +/- 0.01508\n",
      "       22/1    1.16111    1.18760 +/- 0.01398\n",
      "       23/1    1.10671    1.18138 +/- 0.01428\n",
      "       24/1    1.12897    1.17763 +/- 0.01374\n",
      "       25/1    1.19370    1.17870 +/- 0.01284\n",
      "       26/1    1.11860    1.17495 +/- 0.01258\n",
      "       27/1    1.13936    1.17285 +/- 0.01200\n",
      "       28/1    1.09159    1.16834 +/- 0.01219\n",
      "       29/1    1.14478    1.16710 +/- 0.01159\n",
      "       30/1    1.17516    1.16750 +/- 0.01101\n",
      "       31/1    1.10777    1.16466 +/- 0.01085\n",
      "       32/1    1.13340    1.16324 +/- 0.01044\n",
      "       33/1    1.13573    1.16204 +/- 0.01005\n",
      "       34/1    1.24489    1.16549 +/- 0.01022\n",
      "       35/1    1.13962    1.16446 +/- 0.00986\n",
      "       36/1    1.16362    1.16443 +/- 0.00947\n",
      "       37/1    1.16304    1.16437 +/- 0.00911\n",
      "       38/1    1.23053    1.16674 +/- 0.00909\n",
      "       39/1    1.14178    1.16588 +/- 0.00882\n",
      "       40/1    1.18141    1.16639 +/- 0.00853\n",
      "       41/1    1.11895    1.16486 +/- 0.00839\n",
      "       42/1    1.15039    1.16441 +/- 0.00814\n",
      "       43/1    1.13431    1.16350 +/- 0.00794\n",
      "       44/1    1.05354    1.16027 +/- 0.00836\n",
      "       45/1    1.04964    1.15710 +/- 0.00871\n",
      "       46/1    1.17099    1.15749 +/- 0.00847\n",
      "       47/1    1.17770    1.15804 +/- 0.00826\n",
      "       48/1    1.14328    1.15765 +/- 0.00805\n",
      "       49/1    1.14010    1.15720 +/- 0.00785\n",
      "       50/1    1.08869    1.15549 +/- 0.00784\n",
      " Creating state point statepoint.50.h5...\n",
      "\n",
      " =======================>     TIMING STATISTICS     <=======================\n",
      "\n",
      " Total time for initialization     =  1.0723E+00 seconds\n",
      "   Reading cross sections          =  1.0297E+00 seconds\n",
      " Total time in simulation          =  2.3421E+00 seconds\n",
      "   Time in transport only          =  2.1304E+00 seconds\n",
      "   Time in inactive batches        =  4.4595E-01 seconds\n",
      "   Time in active batches          =  1.8961E+00 seconds\n",
      "   Time synchronizing fission bank =  1.2115E-03 seconds\n",
      "     Sampling source sites         =  8.3924E-04 seconds\n",
      "     SEND/RECV source sites        =  3.2958E-04 seconds\n",
      "   Time accumulating tallies       =  3.5129E-05 seconds\n",
      " Total time for finalization       =  6.8134E-04 seconds\n",
      " Total time elapsed                =  3.4189E+00 seconds\n",
      " Calculation Rate (inactive)       =  22423.8 neutrons/second\n",
      " Calculation Rate (active)         =  21095.4 neutrons/second\n",
      "\n",
      " ============================>     RESULTS     <============================\n",
      "\n",
      " k-effective (Collision)     =  1.15640 +/-  0.00709\n",
      " k-effective (Track-length)  =  1.15549 +/-  0.00784\n",
      " k-effective (Absorption)    =  1.17038 +/-  0.00652\n",
      " Combined k-effective        =  1.16415 +/-  0.00583\n",
      " Leakage Fraction            =  0.00000 +/-  0.00000\n",
      "\n"
     ]
    },
    {
     "data": {
      "text/plain": [
       "0"
      ]
     },
     "execution_count": 23,
     "metadata": {},
     "output_type": "execute_result"
    }
   ],
   "source": [
    "openmc.run()"
   ]
  },
  {
   "cell_type": "code",
   "execution_count": 24,
   "metadata": {
    "collapsed": true
   },
   "outputs": [],
   "source": [
    "sp = openmc.StatePoint('statepoint.50.h5')\n",
    "tally = sp.get_tally(scores=['scatter'])"
   ]
  },
  {
   "cell_type": "markdown",
   "metadata": {},
   "source": [
    "If we look directly at the `tally.mean` array, it will have shape (25, 1, 1) corresponding to the number of filter bins, nuclides, and scores. We want an array that is of shape (5, 5) to plot. We could reshape the numpy array directly; instead we'll use the built-in `get_reshaped_data` method that does this for us. It is especially useful if you have many filters.\n",
    "\n",
    "The resulting array will have shape (5, 5, 1, 1). Since we really don't need those last two dimensions, we can eliminate them by \"squeezing\" the array via the `numpy.ndarray.squeeze()` method."
   ]
  },
  {
   "cell_type": "code",
   "execution_count": 25,
   "metadata": {
    "collapsed": false
   },
   "outputs": [],
   "source": [
    "# Get one dimension per filter\n",
    "data = tally.get_reshaped_data()\n",
    "\n",
    "# Squeeze the array\n",
    "data = data.squeeze()"
   ]
  },
  {
   "cell_type": "markdown",
   "metadata": {},
   "source": [
    "Now let's plot the matrix. Again, we'll mask zeros using NaNs."
   ]
  },
  {
   "cell_type": "code",
   "execution_count": 26,
   "metadata": {
    "collapsed": false
   },
   "outputs": [
    {
     "data": {
      "text/plain": [
       "<matplotlib.image.AxesImage at 0x7fd19cd52dd8>"
      ]
     },
     "execution_count": 26,
     "metadata": {},
     "output_type": "execute_result"
    },
    {
     "data": {
      "image/png": "[encoded data removed]",
      "text/plain": [
       "<matplotlib.figure.Figure at 0x7fd19f2d56a0>"
      ]
     },
     "metadata": {},
     "output_type": "display_data"
    }
   ],
   "source": [
    "masked_data = data.copy()\n",
    "masked_data[masked_data == 0.0] = np.nan\n",
    "plt.imshow(masked_data)"
   ]
  },
  {
   "cell_type": "markdown",
   "metadata": {},
   "source": [
    "Doesn't look very interesting because of our poor choice of energy bins, but you get the point!"
   ]
  },
  {
   "cell_type": "markdown",
   "metadata": {},
   "source": [
    "## Fixed Source and Subcritical\n",
    "\n",
    "OpenMC has primarily been used for eigenvalue simulations, but it does have a fixed source simulation mode. To use this mode, one simply has to change the `Settings.run_mode` attribute. Let's create a simple model with a point source and run it in fixed source mode."
   ]
  },
  {
   "cell_type": "code",
   "execution_count": 27,
   "metadata": {
    "collapsed": false
   },
   "outputs": [],
   "source": [
    "m = openmc.Material()\n",
    "m.add_element('Zr', 1.0)\n",
    "m.set_density('g/cm3', 6.0)\n",
    "mats = openmc.Materials([m])\n",
    "mats.export_to_xml()\n",
    "\n",
    "sphere = openmc.Sphere(R=100.0, boundary_type='vacuum')\n",
    "cell = openmc.Cell(fill=m, region=-sphere)\n",
    "geom = openmc.Geometry(openmc.Universe(cells=[cell]))\n",
    "geom.export_to_xml()"
   ]
  },
  {
   "cell_type": "markdown",
   "metadata": {},
   "source": [
    "In fixed source mode, we still have to specify a number of batches. In this case, they don't divide fission generations. Rather, each batch is a realization of our tally random variables."
   ]
  },
  {
   "cell_type": "code",
   "execution_count": 28,
   "metadata": {
    "collapsed": true
   },
   "outputs": [],
   "source": [
    "settings = openmc.Settings()\n",
    "settings.run_mode = 'fixed source'\n",
    "settings.particles = 1000\n",
    "settings.batches = 10\n",
    "settings.source = openmc.Source(\n",
    "    space=openmc.stats.Point(),\n",
    "    energy=openmc.stats.Discrete([14.0], [1.0]),\n",
    ")\n",
    "settings.export_to_xml()"
   ]
  },
  {
   "cell_type": "code",
   "execution_count": 29,
   "metadata": {
    "collapsed": false
   },
   "outputs": [
    {
     "name": "stdout",
     "output_type": "stream",
     "text": [
      "\n",
      "                               %%%%%%%%%%%%%%%\n",
      "                          %%%%%%%%%%%%%%%%%%%%%%%%\n",
      "                       %%%%%%%%%%%%%%%%%%%%%%%%%%%%%%\n",
      "                     %%%%%%%%%%%%%%%%%%%%%%%%%%%%%%%%%%\n",
      "                   %%%%%%%%%%%%%%%%%%%%%%%%%%%%%%%%%%%%%%\n",
      "                  %%%%%%%%%%%%%%%%%%%%%%%%%%%%%%%%%%%%%%%%\n",
      "                                   %%%%%%%%%%%%%%%%%%%%%%%%\n",
      "                                    %%%%%%%%%%%%%%%%%%%%%%%%\n",
      "                ###############      %%%%%%%%%%%%%%%%%%%%%%%%\n",
      "               ##################     %%%%%%%%%%%%%%%%%%%%%%%\n",
      "               ###################     %%%%%%%%%%%%%%%%%%%%%%%\n",
      "               ####################     %%%%%%%%%%%%%%%%%%%%%%\n",
      "               #####################     %%%%%%%%%%%%%%%%%%%%%\n",
      "               ######################     %%%%%%%%%%%%%%%%%%%%\n",
      "               #######################     %%%%%%%%%%%%%%%%%%\n",
      "                #######################     %%%%%%%%%%%%%%%%%\n",
      "                ######################     %%%%%%%%%%%%%%%%%\n",
      "                 ####################     %%%%%%%%%%%%%%%%%\n",
      "                   #################     %%%%%%%%%%%%%%%%%\n",
      "                    ###############     %%%%%%%%%%%%%%%%\n",
      "                      ############     %%%%%%%%%%%%%%%\n",
      "                         ########     %%%%%%%%%%%%%%\n",
      "                                     %%%%%%%%%%%\n",
      "\n",
      "                   | The OpenMC Monte Carlo Code\n",
      "         Copyright | 2011-2017 Massachusetts Institute of Technology\n",
      "           License | http://openmc.readthedocs.io/en/latest/license.html\n",
      "           Version | 0.8.0\n",
      "          Git SHA1 | 561cf39b63b3f132bfa60427fe509b5d59f7a125\n",
      "         Date/Time | 2017-03-11 08:33:15\n",
      "    OpenMP Threads | 4\n",
      "\n",
      " Reading settings XML file...\n",
      " Reading geometry XML file...\n",
      " Reading materials XML file...\n",
      " Reading cross sections XML file...\n",
      " Reading Zr90 from /home/romano/openmc/scripts/nndc_hdf5/Zr90.h5\n",
      " Reading Zr91 from /home/romano/openmc/scripts/nndc_hdf5/Zr91.h5\n",
      " Reading Zr92 from /home/romano/openmc/scripts/nndc_hdf5/Zr92.h5\n",
      " Reading Zr94 from /home/romano/openmc/scripts/nndc_hdf5/Zr94.h5\n",
      " Reading Zr96 from /home/romano/openmc/scripts/nndc_hdf5/Zr96.h5\n",
      " Maximum neutron transport energy: 2.00000E+07 eV for Zr90\n",
      " Reading tallies XML file...\n",
      " Building neighboring cells lists for each surface...\n",
      " Initializing source particles...\n",
      "\n",
      " ===============>     FIXED SOURCE TRANSPORT SIMULATION     <===============\n",
      "\n",
      " Simulating batch 1...\n",
      " Simulating batch 2...\n",
      " Simulating batch 3...\n",
      " Simulating batch 4...\n",
      " Simulating batch 5...\n",
      " Simulating batch 6...\n",
      " Simulating batch 7...\n",
      " Simulating batch 8...\n",
      " Simulating batch 9...\n",
      " Simulating batch 10...\n",
      " Creating state point statepoint.10.h5...\n",
      "\n",
      " =======================>     TIMING STATISTICS     <=======================\n",
      "\n",
      " Total time for initialization     =  6.4850E-01 seconds\n",
      "   Reading cross sections          =  6.2086E-01 seconds\n",
      " Total time in simulation          =  1.5418E+00 seconds\n",
      "   Time in transport only          =  1.3564E+00 seconds\n",
      "   Time in active batches          =  1.5418E+00 seconds\n",
      "   Time accumulating tallies       =  2.4423E-05 seconds\n",
      " Total time for finalization       =  5.0239E-04 seconds\n",
      " Total time elapsed                =  2.1933E+00 seconds\n",
      " Calculation Rate (active)         =  6485.98 neutrons/second\n",
      "\n",
      " ============================>     RESULTS     <============================\n",
      "\n",
      " Leakage Fraction            =  0.20850 +/-  0.00324\n",
      "\n"
     ]
    },
    {
     "data": {
      "text/plain": [
       "0"
      ]
     },
     "execution_count": 29,
     "metadata": {},
     "output_type": "execute_result"
    }
   ],
   "source": [
    "openmc.run()"
   ]
  },
  {
   "cell_type": "markdown",
   "metadata": {},
   "source": [
    "Now, let's add some Uranium to our material and see what happens if we try to run in fixed source mode still."
   ]
  },
  {
   "cell_type": "code",
   "execution_count": 30,
   "metadata": {
    "collapsed": true
   },
   "outputs": [],
   "source": [
    "m.add_nuclide('U235', 1.0)\n",
    "mats.export_to_xml()"
   ]
  },
  {
   "cell_type": "code",
   "execution_count": 31,
   "metadata": {
    "collapsed": false
   },
   "outputs": [
    {
     "name": "stdout",
     "output_type": "stream",
     "text": [
      "\n",
      "                               %%%%%%%%%%%%%%%\n",
      "                          %%%%%%%%%%%%%%%%%%%%%%%%\n",
      "                       %%%%%%%%%%%%%%%%%%%%%%%%%%%%%%\n",
      "                     %%%%%%%%%%%%%%%%%%%%%%%%%%%%%%%%%%\n",
      "                   %%%%%%%%%%%%%%%%%%%%%%%%%%%%%%%%%%%%%%\n",
      "                  %%%%%%%%%%%%%%%%%%%%%%%%%%%%%%%%%%%%%%%%\n",
      "                                   %%%%%%%%%%%%%%%%%%%%%%%%\n",
      "                                    %%%%%%%%%%%%%%%%%%%%%%%%\n",
      "                ###############      %%%%%%%%%%%%%%%%%%%%%%%%\n",
      "               ##################     %%%%%%%%%%%%%%%%%%%%%%%\n",
      "               ###################     %%%%%%%%%%%%%%%%%%%%%%%\n",
      "               ####################     %%%%%%%%%%%%%%%%%%%%%%\n",
      "               #####################     %%%%%%%%%%%%%%%%%%%%%\n",
      "               ######################     %%%%%%%%%%%%%%%%%%%%\n",
      "               #######################     %%%%%%%%%%%%%%%%%%\n",
      "                #######################     %%%%%%%%%%%%%%%%%\n",
      "                ######################     %%%%%%%%%%%%%%%%%\n",
      "                 ####################     %%%%%%%%%%%%%%%%%\n",
      "                   #################     %%%%%%%%%%%%%%%%%\n",
      "                    ###############     %%%%%%%%%%%%%%%%\n",
      "                      ############     %%%%%%%%%%%%%%%\n",
      "                         ########     %%%%%%%%%%%%%%\n",
      "                                     %%%%%%%%%%%\n",
      "\n",
      "                   | The OpenMC Monte Carlo Code\n",
      "         Copyright | 2011-2017 Massachusetts Institute of Technology\n",
      "           License | http://openmc.readthedocs.io/en/latest/license.html\n",
      "           Version | 0.8.0\n",
      "          Git SHA1 | 561cf39b63b3f132bfa60427fe509b5d59f7a125\n",
      "         Date/Time | 2017-03-11 08:33:18\n",
      "    OpenMP Threads | 4\n",
      "\n",
      " Reading settings XML file...\n",
      " Reading geometry XML file...\n",
      " Reading materials XML file...\n",
      " Reading cross sections XML file...\n",
      " Reading U235 from /home/romano/openmc/scripts/nndc_hdf5/U235.h5\n",
      " Reading Zr90 from /home/romano/openmc/scripts/nndc_hdf5/Zr90.h5\n",
      " Reading Zr91 from /home/romano/openmc/scripts/nndc_hdf5/Zr91.h5\n",
      " Reading Zr92 from /home/romano/openmc/scripts/nndc_hdf5/Zr92.h5\n",
      " Reading Zr94 from /home/romano/openmc/scripts/nndc_hdf5/Zr94.h5\n",
      " Reading Zr96 from /home/romano/openmc/scripts/nndc_hdf5/Zr96.h5\n",
      " Maximum neutron transport energy: 2.00000E+07 eV for U235\n",
      " Reading tallies XML file...\n",
      " Building neighboring cells lists for each surface...\n",
      " Initializing source particles...\n",
      "\n",
      " ===============>     FIXED SOURCE TRANSPORT SIMULATION     <===============\n",
      "\n",
      " Simulating batch 1...\n",
      " ERROR: Secondary particle bank size limit reached. If you are running a\n",
      "        subcritical multiplication problem, k-effective may be too close to one.\n",
      "ERROR STOP \n",
      "\n",
      "Error termination. Backtrace:\n",
      " ERROR: Secondary particle bank size limit reached. If you are running a\n",
      "        subcritical multiplication problem, k-effective may be too close to one.\n",
      "ERROR STOP \n",
      "\n",
      "Error termination. Backtrace:\n",
      " ERROR: Secondary particle bank size limit reached. If you are running a\n",
      "        subcritical multiplication problem, k-effective may be too close to one.\n",
      "ERROR STOP \n",
      "\n",
      "Error termination. Backtrace:\n",
      " ERROR: Secondary particle bank size limit reached. If you are running a\n",
      "        subcritical multiplication problem, k-effective may be too close to one.\n",
      "ERROR STOP \n",
      "\n",
      "Error termination. Backtrace:\n",
      "#0  0x7f30fa3b9f1a\n",
      "#1  0x7f30fa3baa75\n",
      "#2  0x7f30fa3bbb76\n",
      "#3  0x562d75018880\n",
      "#4  0x562d75032609\n",
      "#5  0x562d75032686\n",
      "#6  0x562d74ff218d\n",
      "#7  0x562d74fc2e66\n",
      "#8  0x7f30f9aed1be\n",
      "#9  0x562d74fc3602\n",
      "#10  0x562d74f2f5ac\n",
      "#11  0x7f30f95213f0\n",
      "#12  0x562d74f2f5d9\n",
      "#13  0xffffffffffffffff\n"
     ]
    },
    {
     "data": {
      "text/plain": [
       "1"
      ]
     },
     "execution_count": 31,
     "metadata": {},
     "output_type": "execute_result"
    }
   ],
   "source": [
    "openmc.run()"
   ]
  },
  {
   "cell_type": "markdown",
   "metadata": {},
   "source": [
    "Whoops! Looks like we had too much subcritical multiplication. Let's run again but with a much lower concentration of U235."
   ]
  },
  {
   "cell_type": "code",
   "execution_count": 32,
   "metadata": {
    "collapsed": false
   },
   "outputs": [
    {
     "name": "stdout",
     "output_type": "stream",
     "text": [
      "\n",
      "                               %%%%%%%%%%%%%%%\n",
      "                          %%%%%%%%%%%%%%%%%%%%%%%%\n",
      "                       %%%%%%%%%%%%%%%%%%%%%%%%%%%%%%\n",
      "                     %%%%%%%%%%%%%%%%%%%%%%%%%%%%%%%%%%\n",
      "                   %%%%%%%%%%%%%%%%%%%%%%%%%%%%%%%%%%%%%%\n",
      "                  %%%%%%%%%%%%%%%%%%%%%%%%%%%%%%%%%%%%%%%%\n",
      "                                   %%%%%%%%%%%%%%%%%%%%%%%%\n",
      "                                    %%%%%%%%%%%%%%%%%%%%%%%%\n",
      "                ###############      %%%%%%%%%%%%%%%%%%%%%%%%\n",
      "               ##################     %%%%%%%%%%%%%%%%%%%%%%%\n",
      "               ###################     %%%%%%%%%%%%%%%%%%%%%%%\n",
      "               ####################     %%%%%%%%%%%%%%%%%%%%%%\n",
      "               #####################     %%%%%%%%%%%%%%%%%%%%%\n",
      "               ######################     %%%%%%%%%%%%%%%%%%%%\n",
      "               #######################     %%%%%%%%%%%%%%%%%%\n",
      "                #######################     %%%%%%%%%%%%%%%%%\n",
      "                ######################     %%%%%%%%%%%%%%%%%\n",
      "                 ####################     %%%%%%%%%%%%%%%%%\n",
      "                   #################     %%%%%%%%%%%%%%%%%\n",
      "                    ###############     %%%%%%%%%%%%%%%%\n",
      "                      ############     %%%%%%%%%%%%%%%\n",
      "                         ########     %%%%%%%%%%%%%%\n",
      "                                     %%%%%%%%%%%\n",
      "\n",
      "                   | The OpenMC Monte Carlo Code\n",
      "         Copyright | 2011-2017 Massachusetts Institute of Technology\n",
      "           License | http://openmc.readthedocs.io/en/latest/license.html\n",
      "           Version | 0.8.0\n",
      "          Git SHA1 | 561cf39b63b3f132bfa60427fe509b5d59f7a125\n",
      "         Date/Time | 2017-03-11 08:33:19\n",
      "    OpenMP Threads | 4\n",
      "\n",
      " Reading settings XML file...\n",
      " Reading geometry XML file...\n",
      " Reading materials XML file...\n",
      " Reading cross sections XML file...\n",
      " Reading U235 from /home/romano/openmc/scripts/nndc_hdf5/U235.h5\n",
      " Reading Zr90 from /home/romano/openmc/scripts/nndc_hdf5/Zr90.h5\n",
      " Reading Zr91 from /home/romano/openmc/scripts/nndc_hdf5/Zr91.h5\n",
      " Reading Zr92 from /home/romano/openmc/scripts/nndc_hdf5/Zr92.h5\n",
      " Reading Zr94 from /home/romano/openmc/scripts/nndc_hdf5/Zr94.h5\n",
      " Reading Zr96 from /home/romano/openmc/scripts/nndc_hdf5/Zr96.h5\n",
      " Maximum neutron transport energy: 2.00000E+07 eV for U235\n",
      " Reading tallies XML file...\n",
      " Building neighboring cells lists for each surface...\n",
      " Initializing source particles...\n",
      "\n",
      " ===============>     FIXED SOURCE TRANSPORT SIMULATION     <===============\n",
      "\n",
      " Simulating batch 1...\n",
      " Simulating batch 2...\n",
      " Simulating batch 3...\n",
      " Simulating batch 4...\n",
      " Simulating batch 5...\n",
      " Simulating batch 6...\n",
      " Simulating batch 7...\n",
      " Simulating batch 8...\n",
      " Simulating batch 9...\n",
      " Simulating batch 10...\n",
      " Creating state point statepoint.10.h5...\n",
      "\n",
      " =======================>     TIMING STATISTICS     <=======================\n",
      "\n",
      " Total time for initialization     =  9.9259E-01 seconds\n",
      "   Reading cross sections          =  9.6274E-01 seconds\n",
      " Total time in simulation          =  1.5644E+00 seconds\n",
      "   Time in transport only          =  1.4543E+00 seconds\n",
      "   Time in active batches          =  1.5643E+00 seconds\n",
      "   Time accumulating tallies       =  1.2597E-05 seconds\n",
      " Total time for finalization       =  6.0783E-04 seconds\n",
      " Total time elapsed                =  2.5602E+00 seconds\n",
      " Calculation Rate (active)         =  6392.44 neutrons/second\n",
      "\n",
      " ============================>     RESULTS     <============================\n",
      "\n",
      " Leakage Fraction            =  0.22670 +/-  0.00333\n",
      "\n"
     ]
    },
    {
     "data": {
      "text/plain": [
       "0"
      ]
     },
     "execution_count": 32,
     "metadata": {},
     "output_type": "execute_result"
    }
   ],
   "source": [
    "m.remove_nuclide('U235')\n",
    "m.add_nuclide('U235', 1e-5)\n",
    "mats.export_to_xml()\n",
    "openmc.run()"
   ]
  }
 ],
 "metadata": {
  "anaconda-cloud": {},
  "kernelspec": {
   "display_name": "Python [default]",
   "language": "python",
   "name": "python3"
  },
  "language_info": {
   "codemirror_mode": {
    "name": "ipython",
    "version": 3
   },
   "file_extension": ".py",
   "mimetype": "text/x-python",
   "name": "python",
   "nbconvert_exporter": "python",
   "pygments_lexer": "ipython3",
   "version": "3.5.2"
  }
 },
 "nbformat": 4,
 "nbformat_minor": 0
}
