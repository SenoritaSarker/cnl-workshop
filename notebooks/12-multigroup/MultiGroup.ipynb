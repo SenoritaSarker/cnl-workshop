{
 "cells": [
  {
   "cell_type": "markdown",
   "metadata": {},
   "source": [
    "# Multi-Group Mode Simulations\n",
    "\n",
    "In this session, we are going to learn how to create multi-group cross sections and use them in an OpenMC simulation. We'll begin by modeling a two-group problem from Avneet Sood's [analytical benchmark set](https://laws.lanl.gov/vhosts/mcnp.lanl.gov/pdf_files/la-13511.pdf)."
   ]
  },
  {
   "cell_type": "code",
   "execution_count": null,
   "metadata": {
    "collapsed": true
   },
   "outputs": [],
   "source": [
    "%matplotlib inline\n",
    "import numpy as np\n",
    "import matplotlib.pyplot as plt\n",
    "from IPython.display import Image\n",
    "import openmc"
   ]
  },
  {
   "cell_type": "markdown",
   "metadata": {},
   "source": [
    "We'll simulate the U-2-0-SP problem which is a sphere of U-235 with cross sections in two groups. The data we're given is as follows:\n",
    "\n",
    "| Quantity | Fast | Thermal |\n",
    "|----------|------|---------|\n",
    "|$\\nu$| 2.70 | 2.50 |\n",
    "|$\\Sigma_f$ | 0.06192 | 0.06912 |\n",
    "|$\\Sigma_c$ | 0.00384 | 0.01344 |\n",
    "|$\\Sigma_{s1g}$ | 0.078240 | 0.0720 |\n",
    "|$\\Sigma_{s2g}$ | 0.0 | 0.26304 |\n",
    "|$\\Sigma_t$ | 0.2160 | 0.3456 |\n",
    "|$\\chi$ | 0.575 | 0.425 |\n",
    "\n",
    "The critical radius is given as 7.909444 cm."
   ]
  },
  {
   "cell_type": "code",
   "execution_count": null,
   "metadata": {
    "collapsed": false
   },
   "outputs": [],
   "source": [
    "groups = openmc.mgxs.EnergyGroups([0.0, 0.625, 20.e6])"
   ]
  },
  {
   "cell_type": "code",
   "execution_count": null,
   "metadata": {
    "collapsed": true
   },
   "outputs": [],
   "source": []
  }
 ],
 "metadata": {
  "anaconda-cloud": {},
  "kernelspec": {
   "display_name": "Python [default]",
   "language": "python",
   "name": "python3"
  },
  "language_info": {
   "codemirror_mode": {
    "name": "ipython",
    "version": 3
   },
   "file_extension": ".py",
   "mimetype": "text/x-python",
   "name": "python",
   "nbconvert_exporter": "python",
   "pygments_lexer": "ipython3",
   "version": "3.5.2"
  }
 },
 "nbformat": 4,
 "nbformat_minor": 2
}
