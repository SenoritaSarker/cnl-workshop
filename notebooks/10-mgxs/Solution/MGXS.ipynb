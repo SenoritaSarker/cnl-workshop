{
 "cells": [
  {
   "cell_type": "markdown",
   "metadata": {},
   "source": [
    "# Multi-group Cross Section Generation\n",
    "\n",
    "This notebook introduces the use of the `openmc.mgxs` module to calculate multi-group cross sections over a domain. In particular, we go over the following features:\n",
    "\n",
    "* **General equations** for scalar-flux averaged multi-group cross sections\n",
    "* Creation of multi-group cross sections for an **infinite homogeneous medium**\n",
    "* Use of **tally arithmetic** to manipulate multi-group cross sections"
   ]
  },
  {
   "cell_type": "markdown",
   "metadata": {},
   "source": [
    "Many Monte Carlo particle transport codes, including OpenMC, use continuous-energy nuclear cross section data. However, most deterministic neutron transport codes use *multi-group cross sections* defined over discretized energy bins or *energy groups*."
   ]
  },
  {
   "cell_type": "markdown",
   "metadata": {},
   "source": [
    "A variety of tools employing different methodologies have been developed over the years to compute multi-group cross sections for certain applications, including [NJOY](https://njoy.github.io/NJOY2016/), MC$^2$-3, and [Serpent](http://montecarlo.vtt.fi/). The `openmc.mgxs` Python module is designed to leverage OpenMC's tally system to calculate multi-group cross sections with arbitrary energy discretizations for fine-mesh heterogeneous deterministic neutron transport applications.\n",
    "\n",
    "Before proceeding to illustrate how one may use the `openmc.mgxs` module, it is worthwhile to define the general equations used to calculate multi-group cross sections. This is only intended as a brief overview of the methodology used by `openmc.mgxs` - we refer the interested reader to the large body of literature on the subject for a more comprehensive understanding of this complex topic."
   ]
  },
  {
   "cell_type": "markdown",
   "metadata": {},
   "source": [
    "### Introductory Notation\n",
    "The continuous real-valued microscopic cross section may be denoted $\\sigma_{n,x}(\\mathbf{r}, E)$ for position vector $\\mathbf{r}$, energy $E$, nuclide $n$ and interaction type $x$. Similarly, the scalar neutron flux may be denoted by $\\Phi(\\mathbf{r},E)$ for position $\\mathbf{r}$ and energy $E$. **Note**: Although nuclear cross sections are dependent on the temperature $T$ of the interacting medium, the temperature variable is neglected here for brevity."
   ]
  },
  {
   "cell_type": "markdown",
   "metadata": {},
   "source": [
    "### Spatial and Energy Discretization\n",
    "The energy domain for critical systems such as thermal reactors spans more than 10 orders of magnitude of neutron energies from 10$^{-5}$ - 10$^7$ eV. The multi-group approximation discretization divides this energy range into one or more energy groups. In particular, for $G$ total groups, we denote an energy group index $g$ such that $g \\in \\{1, 2, ..., G\\}$. The energy group indices are defined such that the smaller group the higher the energy, and vice versa. The integration over neutron energies across a discrete energy group is commonly referred to as **energy condensation**.\n",
    "\n",
    "Multi-group cross sections are computed for discretized spatial zones in the geometry of interest. The spatial zones may be defined on a structured and regular fuel assembly or pin cell mesh, an arbitrary unstructured mesh or the constructive solid geometry used by OpenMC. For a geometry with $K$ distinct spatial zones, we designate each spatial zone an index $k$ such that $k \\in \\{1, 2, ..., K\\}$. The volume of each spatial zone is denoted by $V_{k}$. The integration over discrete spatial zones is commonly referred to as **spatial homogenization**."
   ]
  },
  {
   "cell_type": "markdown",
   "metadata": {},
   "source": [
    "### General Scalar-Flux Weighted MGXS\n",
    "The multi-group cross sections computed by `openmc.mgxs` are defined as a *scalar flux-weighted average* of the microscopic cross sections across each discrete energy group. This formulation is employed in order to preserve the reaction rates within each energy group and spatial zone. In particular, spatial homogenization and energy condensation are used to compute the general multi-group cross section $\\sigma_{n,x,k,g}$ as follows:\n",
    "\n",
    "$$\\sigma_{n,x,k,g} = \\frac{\\int_{E_{g}}^{E_{g-1}}\\mathrm{d}E'\\int_{\\mathbf{r} \\in V_{k}}\\mathrm{d}\\mathbf{r}\\sigma_{n,x}(\\mathbf{r},E')\\Phi(\\mathbf{r},E')}{\\int_{E_{g}}^{E_{g-1}}\\mathrm{d}E'\\int_{\\mathbf{r} \\in V_{k}}\\mathrm{d}\\mathbf{r}\\Phi(\\mathbf{r},E')}$$\n",
    "\n",
    "This scalar flux-weighted average microscopic cross section is computed by `openmc.mgxs` for most multi-group cross sections, including total, absorption, and fission reaction types. These double integrals are stochastically computed with OpenMC's tally system - in particular, [filters](https://mit-crpg.github.io/openmc/pythonapi/filter.html) on the energy range and spatial zone (material, cell or universe) define the bounds of integration for both numerator and denominator."
   ]
  },
  {
   "cell_type": "markdown",
   "metadata": {},
   "source": [
    "### Multi-Group Scattering Matrices\n",
    "The general multi-group cross section $\\sigma_{n,x,k,g}$ is a vector of $G$ values for each energy group $g$. The equation presented above only discretizes the energy of the incoming neutron and neglects the outgoing energy of the neutron (if any). Hence, this formulation must be extended to account for the outgoing energy of neutrons in the discretized scattering matrix cross section used by deterministic neutron transport codes. \n",
    "\n",
    "We denote the incoming and outgoing neutron energy groups as $g$ and $g'$ for the microscopic scattering matrix cross section $\\sigma_{n,s}(\\mathbf{r},E)$. As before, spatial homogenization and energy condensation are used to find the multi-group scattering matrix cross section $\\sigma_{n,s,k,g \\to g'}$ as follows:\n",
    "\n",
    "$$\\sigma_{n,s,k,g\\rightarrow g'} = \\frac{\\int_{E_{g'}}^{E_{g'-1}}\\mathrm{d}E''\\int_{E_{g}}^{E_{g-1}}\\mathrm{d}E'\\int_{\\mathbf{r} \\in V_{k}}\\mathrm{d}\\mathbf{r}\\sigma_{n,s}(\\mathbf{r},E'\\rightarrow E'')\\Phi(\\mathbf{r},E')}{\\int_{E_{g}}^{E_{g-1}}\\mathrm{d}E'\\int_{\\mathbf{r} \\in V_{k}}\\mathrm{d}\\mathbf{r}\\Phi(\\mathbf{r},E')}$$\n",
    "\n",
    "This scalar flux-weighted multi-group microscopic scattering matrix is computed using OpenMC tallies with both energy in and energy out filters."
   ]
  },
  {
   "cell_type": "markdown",
   "metadata": {},
   "source": [
    "### Multi-Group Fission Spectrum\n",
    "The energy spectrum of neutrons emitted from fission is denoted by $\\chi_{n}(\\mathbf{r},E' \\rightarrow E'')$ for incoming and outgoing energies $E'$ and $E''$, respectively. Unlike the multi-group cross sections $\\sigma_{n,x,k,g}$ considered up to this point, the fission spectrum is a probability distribution and must sum to unity. The outgoing energy is typically much less dependent on the incoming energy for fission than for scattering interactions. As a result, it is common practice to integrate over the incoming neutron energy when computing the multi-group fission spectrum. The fission spectrum may be simplified as $\\chi_{n}(\\mathbf{r},E)$ with outgoing energy $E$.\n",
    "\n",
    "Unlike the multi-group cross sections defined up to this point, the multi-group fission spectrum is weighted by the fission production rate rather than the scalar flux. This formulation is intended to preserve the total fission production rate in the multi-group deterministic calculation. In order to mathematically define the multi-group fission spectrum, we denote the microscopic fission cross section as $\\sigma_{n,f}(\\mathbf{r},E)$ and the average number of neutrons emitted from fission interactions with nuclide $n$ as $\\nu_{n}(\\mathbf{r},E)$. The multi-group fission spectrum $\\chi_{n,k,g}$ is then the probability of fission neutrons emitted into energy group $g$. \n",
    "\n",
    "Similar to before, spatial homogenization and energy condensation are used to find the multi-group fission spectrum $\\chi_{n,k,g}$ as follows:\n",
    "\n",
    "$$\\chi_{n,k,g'} = \\frac{\\int_{E_{g'}}^{E_{g'-1}}\\mathrm{d}E''\\int_{0}^{\\infty}\\mathrm{d}E'\\int_{\\mathbf{r} \\in V_{k}}\\mathrm{d}\\mathbf{r}\\chi_{n}(\\mathbf{r},E'\\rightarrow E'')\\nu_{n}(\\mathbf{r},E')\\sigma_{n,f}(\\mathbf{r},E')\\Phi(\\mathbf{r},E')}{\\int_{0}^{\\infty}\\mathrm{d}E'\\int_{\\mathbf{r} \\in V_{k}}\\mathrm{d}\\mathbf{r}\\nu_{n}(\\mathbf{r},E')\\sigma_{n,f}(\\mathbf{r},E')\\Phi(\\mathbf{r},E')}$$\n",
    "\n",
    "The fission production-weighted multi-group fission spectrum is computed using OpenMC tallies with both energy in and energy out filters.\n",
    "\n",
    "This concludes our brief overview on the methodology to compute multi-group cross sections. Let's see it in action now!"
   ]
  },
  {
   "cell_type": "markdown",
   "metadata": {},
   "source": [
    "## Generate Input Files"
   ]
  },
  {
   "cell_type": "code",
   "execution_count": 1,
   "metadata": {
    "collapsed": false
   },
   "outputs": [],
   "source": [
    "%matplotlib inline\n",
    "import numpy as np\n",
    "import matplotlib.pyplot as plt\n",
    "\n",
    "import openmc\n",
    "import openmc.mgxs as mgxs\n",
    "\n",
    "import sys\n",
    "sys.path.append('../..')\n",
    "from inputs import *"
   ]
  },
  {
   "cell_type": "markdown",
   "metadata": {},
   "source": [
    "We'll use the simple pin-cell problem for this demonstration."
   ]
  },
  {
   "cell_type": "code",
   "execution_count": 2,
   "metadata": {
    "collapsed": true
   },
   "outputs": [],
   "source": [
    "pincell = PinCellInputSet()"
   ]
  },
  {
   "cell_type": "markdown",
   "metadata": {},
   "source": [
    "Now we are ready to generate multi-group cross sections! First, let's define an 8-group structure using the built-in `EnergyGroups` class."
   ]
  },
  {
   "cell_type": "code",
   "execution_count": 3,
   "metadata": {
    "collapsed": false
   },
   "outputs": [],
   "source": [
    "# Create 8 energy group structure\n",
    "groups = mgxs.EnergyGroups([0., 0.058, 0.14, 0.28, 0.625,\n",
    "                            4.0, 5.53e3, 821.0e3, 20.0e6])"
   ]
  },
  {
   "cell_type": "markdown",
   "metadata": {},
   "source": [
    "We can now use the `EnergyGroups` object, along with our previously created materials and geometry, to instantiate some `MGXS` objects from the `openmc.mgxs` module. In particular, the following are subclasses of the generic and abstract `MGXS` class:\n",
    "\n",
    "* `TotalXS`\n",
    "* `TransportXS`\n",
    "* `AbsorptionXS`\n",
    "* `CaptureXS`\n",
    "* `FissionXS`\n",
    "* `KappaFissionXS`\n",
    "* `ScatterXS`\n",
    "* `ScatterMatrixXS`\n",
    "* `Chi`\n",
    "* `ChiPrompt`\n",
    "* `InverseVelocity`\n",
    "* `PromptNuFissionXS`\n",
    "\n",
    "Of course, we are aware that the fission cross section (`FissionXS`) can sometimes be paired with the fission neutron multiplication to become $\\nu\\sigma_f$. This can be accomodated in to the `FissionXS` class by setting the `nu` parameter to `True` as shown below.\n",
    "\n",
    "Additionally, scattering reactions (like (n,2n)) can also be defined to take in to account the neutron multiplication to become $\\nu\\sigma_s$. This can be accomodated in the the transport (`TransportXS`), scattering (`ScatterXS`), and scattering-matrix (`ScatterMatrixXS`) cross sections types by setting the `nu` parameter to `True` as shown below.\n",
    "\n",
    "These classes provide us with an interface to generate the tally inputs as well as perform post-processing of OpenMC's tally data to compute the respective multi-group cross sections. In this case, let's create the multi-group total, absorption and scattering cross sections with our 2-group structure."
   ]
  },
  {
   "cell_type": "code",
   "execution_count": 15,
   "metadata": {
    "collapsed": false
   },
   "outputs": [],
   "source": [
    "fuel_cell = pincell.geometry.get_cells_by_fill_name('fuel')[0]"
   ]
  },
  {
   "cell_type": "code",
   "execution_count": 5,
   "metadata": {
    "collapsed": false
   },
   "outputs": [],
   "source": [
    "# Instantiate a few different sections\n",
    "total = mgxs.TotalXS(domain=fuel_cell, groups=groups)\n",
    "absorption = mgxs.AbsorptionXS(domain=fuel_cell, groups=groups)\n",
    "scattering = mgxs.ScatterXS(domain=fuel_cell, groups=groups)"
   ]
  },
  {
   "cell_type": "markdown",
   "metadata": {},
   "source": [
    "Each multi-group cross section object stores its tallies in a Python dictionary called `tallies`. We can inspect the tallies in the dictionary for our `Absorption` object as follows. "
   ]
  },
  {
   "cell_type": "code",
   "execution_count": 6,
   "metadata": {
    "collapsed": false
   },
   "outputs": [
    {
     "data": {
      "text/plain": [
       "OrderedDict([('flux', Tally\n",
       "              \tID             =\t10000\n",
       "              \tName           =\t\n",
       "              \tFilters        =\tCellFilter, EnergyFilter\n",
       "              \tNuclides       =\ttotal \n",
       "              \tScores         =\t['flux']\n",
       "              \tEstimator      =\ttracklength), ('absorption', Tally\n",
       "              \tID             =\t10001\n",
       "              \tName           =\t\n",
       "              \tFilters        =\tCellFilter, EnergyFilter\n",
       "              \tNuclides       =\ttotal \n",
       "              \tScores         =\t['absorption']\n",
       "              \tEstimator      =\ttracklength)])"
      ]
     },
     "execution_count": 6,
     "metadata": {},
     "output_type": "execute_result"
    }
   ],
   "source": [
    "absorption.tallies"
   ]
  },
  {
   "cell_type": "markdown",
   "metadata": {},
   "source": [
    "The `Absorption` object includes tracklength tallies for the 'absorption' and 'flux' scores in the 2-group structure in cell 1. Now that each `MGXS` object contains the tallies that it needs, we must add these tallies to a `Tallies` object to generate the \"tallies.xml\" input file for OpenMC."
   ]
  },
  {
   "cell_type": "code",
   "execution_count": 7,
   "metadata": {
    "collapsed": false
   },
   "outputs": [],
   "source": [
    "# Add total tallies to the tallies file\n",
    "pincell.tallies.clear()\n",
    "pincell.tallies += total.tallies.values()\n",
    "\n",
    "# Add absorption tallies to the tallies file\n",
    "pincell.tallies += absorption.tallies.values()\n",
    "\n",
    "# Add scattering tallies to the tallies file\n",
    "pincell.tallies += scattering.tallies.values()\n",
    "\n",
    "# Export all input files\n",
    "pincell.export()"
   ]
  },
  {
   "cell_type": "markdown",
   "metadata": {},
   "source": [
    "Now we a have a complete set of inputs, so we can go ahead and run our simulation."
   ]
  },
  {
   "cell_type": "code",
   "execution_count": 8,
   "metadata": {
    "collapsed": false
   },
   "outputs": [
    {
     "name": "stdout",
     "output_type": "stream",
     "text": [
      "\n",
      "                               %%%%%%%%%%%%%%%\n",
      "                          %%%%%%%%%%%%%%%%%%%%%%%%\n",
      "                       %%%%%%%%%%%%%%%%%%%%%%%%%%%%%%\n",
      "                     %%%%%%%%%%%%%%%%%%%%%%%%%%%%%%%%%%\n",
      "                   %%%%%%%%%%%%%%%%%%%%%%%%%%%%%%%%%%%%%%\n",
      "                  %%%%%%%%%%%%%%%%%%%%%%%%%%%%%%%%%%%%%%%%\n",
      "                                   %%%%%%%%%%%%%%%%%%%%%%%%\n",
      "                                    %%%%%%%%%%%%%%%%%%%%%%%%\n",
      "                ###############      %%%%%%%%%%%%%%%%%%%%%%%%\n",
      "               ##################     %%%%%%%%%%%%%%%%%%%%%%%\n",
      "               ###################     %%%%%%%%%%%%%%%%%%%%%%%\n",
      "               ####################     %%%%%%%%%%%%%%%%%%%%%%\n",
      "               #####################     %%%%%%%%%%%%%%%%%%%%%\n",
      "               ######################     %%%%%%%%%%%%%%%%%%%%\n",
      "               #######################     %%%%%%%%%%%%%%%%%%\n",
      "                #######################     %%%%%%%%%%%%%%%%%\n",
      "                ######################     %%%%%%%%%%%%%%%%%\n",
      "                 ####################     %%%%%%%%%%%%%%%%%\n",
      "                   #################     %%%%%%%%%%%%%%%%%\n",
      "                    ###############     %%%%%%%%%%%%%%%%\n",
      "                      ############     %%%%%%%%%%%%%%%\n",
      "                         ########     %%%%%%%%%%%%%%\n",
      "                                     %%%%%%%%%%%\n",
      "\n",
      "                   | The OpenMC Monte Carlo Code\n",
      "         Copyright | 2011-2017 Massachusetts Institute of Technology\n",
      "           License | http://openmc.readthedocs.io/en/latest/license.html\n",
      "           Version | 0.8.0\n",
      "          Git SHA1 | 561cf39b63b3f132bfa60427fe509b5d59f7a125\n",
      "         Date/Time | 2017-03-12 14:08:09\n",
      "    OpenMP Threads | 4\n",
      "\n",
      " Reading settings XML file...\n",
      " Reading geometry XML file...\n",
      " Reading materials XML file...\n",
      " Reading cross sections XML file...\n",
      " Reading U234 from /home/romano/openmc/scripts/nndc_hdf5/U234.h5\n",
      " Reading U235 from /home/romano/openmc/scripts/nndc_hdf5/U235.h5\n",
      " Reading U238 from /home/romano/openmc/scripts/nndc_hdf5/U238.h5\n",
      " Reading O16 from /home/romano/openmc/scripts/nndc_hdf5/O16.h5\n",
      " Reading Zr90 from /home/romano/openmc/scripts/nndc_hdf5/Zr90.h5\n",
      " Reading Zr91 from /home/romano/openmc/scripts/nndc_hdf5/Zr91.h5\n",
      " Reading Zr92 from /home/romano/openmc/scripts/nndc_hdf5/Zr92.h5\n",
      " Reading Zr94 from /home/romano/openmc/scripts/nndc_hdf5/Zr94.h5\n",
      " Reading Zr96 from /home/romano/openmc/scripts/nndc_hdf5/Zr96.h5\n",
      " Reading H1 from /home/romano/openmc/scripts/nndc_hdf5/H1.h5\n",
      " Reading B10 from /home/romano/openmc/scripts/nndc_hdf5/B10.h5\n",
      " Reading B11 from /home/romano/openmc/scripts/nndc_hdf5/B11.h5\n",
      " Reading c_H_in_H2O from /home/romano/openmc/scripts/nndc_hdf5/c_H_in_H2O.h5\n",
      " Maximum neutron transport energy: 2.00000E+07 eV for U235\n",
      " Reading tallies XML file...\n",
      " Building neighboring cells lists for each surface...\n",
      " Initializing source particles...\n",
      "\n",
      " ====================>     K EIGENVALUE SIMULATION     <====================\n",
      "\n",
      "  Bat./Gen.      k            Average k         \n",
      "  =========   ========   ====================   \n",
      "        1/1    1.20516                       \n",
      "        2/1    1.16920                       \n",
      "        3/1    1.13712                       \n",
      "        4/1    1.17370                       \n",
      "        5/1    1.22330                       \n",
      "        6/1    1.18937                       \n",
      "        7/1    1.09914                       \n",
      "        8/1    1.13259                       \n",
      "        9/1    1.19849                       \n",
      "       10/1    1.13283                       \n",
      "       11/1    1.09304                       \n",
      "       12/1    1.17268    1.13286 +/- 0.03982\n",
      "       13/1    1.14506    1.13692 +/- 0.02335\n",
      "       14/1    1.25394    1.16618 +/- 0.03359\n",
      "       15/1    1.16337    1.16562 +/- 0.02602\n",
      "       16/1    1.21693    1.17417 +/- 0.02291\n",
      "       17/1    1.18783    1.17612 +/- 0.01946\n",
      "       18/1    1.22169    1.18182 +/- 0.01779\n",
      "       19/1    1.23651    1.18789 +/- 0.01682\n",
      "       20/1    1.24655    1.19376 +/- 0.01615\n",
      "       21/1    1.15247    1.19001 +/- 0.01508\n",
      "       22/1    1.16111    1.18760 +/- 0.01398\n",
      "       23/1    1.10671    1.18138 +/- 0.01428\n",
      "       24/1    1.12897    1.17763 +/- 0.01374\n",
      "       25/1    1.19370    1.17870 +/- 0.01284\n",
      "       26/1    1.11860    1.17495 +/- 0.01258\n",
      "       27/1    1.13936    1.17285 +/- 0.01200\n",
      "       28/1    1.09159    1.16834 +/- 0.01219\n",
      "       29/1    1.14478    1.16710 +/- 0.01159\n",
      "       30/1    1.17516    1.16750 +/- 0.01101\n",
      "       31/1    1.10777    1.16466 +/- 0.01085\n",
      "       32/1    1.13340    1.16324 +/- 0.01044\n",
      "       33/1    1.13573    1.16204 +/- 0.01005\n",
      "       34/1    1.24489    1.16549 +/- 0.01022\n",
      "       35/1    1.13962    1.16446 +/- 0.00986\n",
      "       36/1    1.16362    1.16443 +/- 0.00947\n",
      "       37/1    1.16304    1.16437 +/- 0.00911\n",
      "       38/1    1.23053    1.16674 +/- 0.00909\n",
      "       39/1    1.14178    1.16588 +/- 0.00882\n",
      "       40/1    1.18141    1.16639 +/- 0.00853\n",
      "       41/1    1.11895    1.16486 +/- 0.00839\n",
      "       42/1    1.15039    1.16441 +/- 0.00814\n",
      "       43/1    1.13431    1.16350 +/- 0.00794\n",
      "       44/1    1.05354    1.16027 +/- 0.00836\n",
      "       45/1    1.04964    1.15710 +/- 0.00871\n",
      "       46/1    1.17099    1.15749 +/- 0.00847\n",
      "       47/1    1.17770    1.15804 +/- 0.00826\n",
      "       48/1    1.14328    1.15765 +/- 0.00805\n",
      "       49/1    1.14010    1.15720 +/- 0.00785\n",
      "       50/1    1.08869    1.15549 +/- 0.00784\n",
      " Creating state point statepoint.50.h5...\n",
      "\n",
      " =======================>     TIMING STATISTICS     <=======================\n",
      "\n",
      " Total time for initialization     =  1.0194E+00 seconds\n",
      "   Reading cross sections          =  9.7948E-01 seconds\n",
      " Total time in simulation          =  3.0867E+00 seconds\n",
      "   Time in transport only          =  2.8567E+00 seconds\n",
      "   Time in inactive batches        =  4.6248E-01 seconds\n",
      "   Time in active batches          =  2.6242E+00 seconds\n",
      "   Time synchronizing fission bank =  1.2555E-03 seconds\n",
      "     Sampling source sites         =  8.5023E-04 seconds\n",
      "     SEND/RECV source sites        =  3.5993E-04 seconds\n",
      "   Time accumulating tallies       =  1.0782E-04 seconds\n",
      " Total time for finalization       =  1.1277E-03 seconds\n",
      " Total time elapsed                =  4.1105E+00 seconds\n",
      " Calculation Rate (inactive)       =  21622.3 neutrons/second\n",
      " Calculation Rate (active)         =  15242.8 neutrons/second\n",
      "\n",
      " ============================>     RESULTS     <============================\n",
      "\n",
      " k-effective (Collision)     =  1.15640 +/-  0.00709\n",
      " k-effective (Track-length)  =  1.15549 +/-  0.00784\n",
      " k-effective (Absorption)    =  1.17038 +/-  0.00652\n",
      " Combined k-effective        =  1.16415 +/-  0.00583\n",
      " Leakage Fraction            =  0.00000 +/-  0.00000\n",
      "\n"
     ]
    },
    {
     "data": {
      "text/plain": [
       "0"
      ]
     },
     "execution_count": 8,
     "metadata": {},
     "output_type": "execute_result"
    }
   ],
   "source": [
    "# Run OpenMC\n",
    "openmc.run()"
   ]
  },
  {
   "cell_type": "markdown",
   "metadata": {},
   "source": [
    "## Tally Data Processing"
   ]
  },
  {
   "cell_type": "markdown",
   "metadata": {},
   "source": [
    "Our simulation ran successfully and created statepoint and summary output files. We begin our analysis by instantiating a `StatePoint` object. "
   ]
  },
  {
   "cell_type": "code",
   "execution_count": 9,
   "metadata": {
    "collapsed": false
   },
   "outputs": [],
   "source": [
    "# Load the last statepoint file\n",
    "sp = openmc.StatePoint('statepoint.50.h5')"
   ]
  },
  {
   "cell_type": "markdown",
   "metadata": {},
   "source": [
    "In addition to the statepoint file, our simulation also created a summary file which encapsulates information about the materials and geometry. By default, a `Summary` object is automatically linked when a `StatePoint` is loaded. This is necessary for the `openmc.mgxs` module to properly process the tally data."
   ]
  },
  {
   "cell_type": "markdown",
   "metadata": {},
   "source": [
    "The statepoint is now ready to be analyzed by our multi-group cross sections. We simply have to load the tallies from the `StatePoint` into each object as follows and our `MGXS` objects will compute the cross sections for us under-the-hood."
   ]
  },
  {
   "cell_type": "code",
   "execution_count": 10,
   "metadata": {
    "collapsed": false
   },
   "outputs": [],
   "source": [
    "# Load the tallies from the statepoint into each MGXS object\n",
    "total.load_from_statepoint(sp)\n",
    "absorption.load_from_statepoint(sp)\n",
    "scattering.load_from_statepoint(sp)"
   ]
  },
  {
   "cell_type": "markdown",
   "metadata": {},
   "source": [
    "Voila! Our multi-group cross sections are now ready to rock 'n roll!"
   ]
  },
  {
   "cell_type": "markdown",
   "metadata": {},
   "source": [
    "## Extracting and Storing MGXS Data"
   ]
  },
  {
   "cell_type": "markdown",
   "metadata": {},
   "source": [
    "Let's first inspect our total cross section by printing it to the screen."
   ]
  },
  {
   "cell_type": "code",
   "execution_count": 11,
   "metadata": {
    "collapsed": false
   },
   "outputs": [
    {
     "name": "stdout",
     "output_type": "stream",
     "text": [
      "Multi-Group XS\n",
      "\tReaction Type  =\ttotal\n",
      "\tDomain Type    =\tcell\n",
      "\tDomain ID      =\t10000\n",
      "\tCross Sections [cm^-1]:\n",
      "            Group 1 [821000.0   - 20000000.0eV]:\t2.74e-01 +/- 8.86e-01%\n",
      "            Group 2 [5530.0     - 821000.0  eV]:\t4.30e-01 +/- 5.72e-01%\n",
      "            Group 3 [4.0        - 5530.0    eV]:\t5.56e-01 +/- 4.73e-01%\n",
      "            Group 4 [0.625      - 4.0       eV]:\t4.22e-01 +/- 1.20e+00%\n",
      "            Group 5 [0.28       - 0.625     eV]:\t4.86e-01 +/- 1.71e+00%\n",
      "            Group 6 [0.14       - 0.28      eV]:\t5.40e-01 +/- 1.78e+00%\n",
      "            Group 7 [0.058      - 0.14      eV]:\t6.08e-01 +/- 1.40e+00%\n",
      "            Group 8 [0.0        - 0.058     eV]:\t8.31e-01 +/- 1.49e+00%\n",
      "\n",
      "\n",
      "\n"
     ]
    }
   ],
   "source": [
    "total.print_xs()"
   ]
  },
  {
   "cell_type": "markdown",
   "metadata": {},
   "source": [
    "Since the `openmc.mgxs` module uses [tally arithmetic](https://mit-crpg.github.io/openmc/pythonapi/examples/tally-arithmetic.html) under-the-hood, the cross section is stored as a \"derived\" `Tally` object. This means that it can be queried and manipulated using all of the same methods supported for the `Tally` class in the OpenMC Python API. For example, we can construct a [Pandas](http://pandas.pydata.org/) `DataFrame` of the multi-group cross section data."
   ]
  },
  {
   "cell_type": "code",
   "execution_count": 12,
   "metadata": {
    "collapsed": false
   },
   "outputs": [
    {
     "data": {
      "text/html": [
       "<div>\n",
       "<table border=\"1\" class=\"dataframe\">\n",
       "  <thead>\n",
       "    <tr style=\"text-align: right;\">\n",
       "      <th></th>\n",
       "      <th>cell</th>\n",
       "      <th>group in</th>\n",
       "      <th>nuclide</th>\n",
       "      <th>mean</th>\n",
       "      <th>std. dev.</th>\n",
       "    </tr>\n",
       "  </thead>\n",
       "  <tbody>\n",
       "    <tr>\n",
       "      <th>7</th>\n",
       "      <td>10000</td>\n",
       "      <td>1</td>\n",
       "      <td>total</td>\n",
       "      <td>0.263491</td>\n",
       "      <td>0.002329</td>\n",
       "    </tr>\n",
       "    <tr>\n",
       "      <th>6</th>\n",
       "      <td>10000</td>\n",
       "      <td>2</td>\n",
       "      <td>total</td>\n",
       "      <td>0.423204</td>\n",
       "      <td>0.002423</td>\n",
       "    </tr>\n",
       "    <tr>\n",
       "      <th>5</th>\n",
       "      <td>10000</td>\n",
       "      <td>3</td>\n",
       "      <td>total</td>\n",
       "      <td>0.480060</td>\n",
       "      <td>0.002237</td>\n",
       "    </tr>\n",
       "    <tr>\n",
       "      <th>4</th>\n",
       "      <td>10000</td>\n",
       "      <td>4</td>\n",
       "      <td>total</td>\n",
       "      <td>0.384721</td>\n",
       "      <td>0.004603</td>\n",
       "    </tr>\n",
       "    <tr>\n",
       "      <th>3</th>\n",
       "      <td>10000</td>\n",
       "      <td>5</td>\n",
       "      <td>total</td>\n",
       "      <td>0.391593</td>\n",
       "      <td>0.006674</td>\n",
       "    </tr>\n",
       "    <tr>\n",
       "      <th>2</th>\n",
       "      <td>10000</td>\n",
       "      <td>6</td>\n",
       "      <td>total</td>\n",
       "      <td>0.392966</td>\n",
       "      <td>0.006983</td>\n",
       "    </tr>\n",
       "    <tr>\n",
       "      <th>1</th>\n",
       "      <td>10000</td>\n",
       "      <td>7</td>\n",
       "      <td>total</td>\n",
       "      <td>0.394517</td>\n",
       "      <td>0.005523</td>\n",
       "    </tr>\n",
       "    <tr>\n",
       "      <th>0</th>\n",
       "      <td>10000</td>\n",
       "      <td>8</td>\n",
       "      <td>total</td>\n",
       "      <td>0.399670</td>\n",
       "      <td>0.005984</td>\n",
       "    </tr>\n",
       "  </tbody>\n",
       "</table>\n",
       "</div>"
      ],
      "text/plain": [
       "    cell  group in nuclide      mean  std. dev.\n",
       "7  10000         1   total  0.263491   0.002329\n",
       "6  10000         2   total  0.423204   0.002423\n",
       "5  10000         3   total  0.480060   0.002237\n",
       "4  10000         4   total  0.384721   0.004603\n",
       "3  10000         5   total  0.391593   0.006674\n",
       "2  10000         6   total  0.392966   0.006983\n",
       "1  10000         7   total  0.394517   0.005523\n",
       "0  10000         8   total  0.399670   0.005984"
      ]
     },
     "execution_count": 12,
     "metadata": {},
     "output_type": "execute_result"
    }
   ],
   "source": [
    "df = scattering.get_pandas_dataframe()\n",
    "df.head(10)"
   ]
  },
  {
   "cell_type": "markdown",
   "metadata": {},
   "source": [
    "Each multi-group cross section object can be easily exported to a variety of file formats, including CSV, Excel, and LaTeX for storage or data processing."
   ]
  },
  {
   "cell_type": "code",
   "execution_count": 13,
   "metadata": {
    "collapsed": false
   },
   "outputs": [],
   "source": [
    "absorption.export_xs_data(filename='absorption-xs', format='excel')"
   ]
  },
  {
   "cell_type": "markdown",
   "metadata": {},
   "source": [
    "The following code snippet shows how to export all three `MGXS` to the same HDF5 binary data store."
   ]
  },
  {
   "cell_type": "code",
   "execution_count": 14,
   "metadata": {
    "collapsed": false
   },
   "outputs": [],
   "source": [
    "total.build_hdf5_store(filename='mgxs', append=True)\n",
    "absorption.build_hdf5_store(filename='mgxs', append=True)\n",
    "scattering.build_hdf5_store(filename='mgxs', append=True)"
   ]
  },
  {
   "cell_type": "markdown",
   "metadata": {},
   "source": [
    "## Comparing MGXS with Tally Arithmetic"
   ]
  },
  {
   "cell_type": "markdown",
   "metadata": {},
   "source": [
    "Finally, we illustrate how one can leverage OpenMC's [tally arithmetic](https://mit-crpg.github.io/openmc/pythonapi/examples/tally-arithmetic.html) data processing feature with `MGXS` objects. The `openmc.mgxs` module uses tally arithmetic to compute multi-group cross sections with automated uncertainty propagation. Each `MGXS` object includes an `xs_tally` attribute which is a \"derived\" `Tally` based on the tallies needed to compute the cross section type of interest. These derived tallies can be used in subsequent tally arithmetic operations. For example, we can use tally artithmetic to confirm that the `TotalXS` is equal to the sum of the `AbsorptionXS` and `ScatterXS` objects."
   ]
  },
  {
   "cell_type": "code",
   "execution_count": 15,
   "metadata": {
    "collapsed": false
   },
   "outputs": [
    {
     "data": {
      "text/html": [
       "<div>\n",
       "<table border=\"1\" class=\"dataframe\">\n",
       "  <thead>\n",
       "    <tr style=\"text-align: right;\">\n",
       "      <th></th>\n",
       "      <th>cell</th>\n",
       "      <th>energy low [eV]</th>\n",
       "      <th>energy high [eV]</th>\n",
       "      <th>nuclide</th>\n",
       "      <th>score</th>\n",
       "      <th>mean</th>\n",
       "      <th>std. dev.</th>\n",
       "    </tr>\n",
       "  </thead>\n",
       "  <tbody>\n",
       "    <tr>\n",
       "      <th>0</th>\n",
       "      <td>10000</td>\n",
       "      <td>0.000</td>\n",
       "      <td>5.800000e-02</td>\n",
       "      <td>total</td>\n",
       "      <td>(((total / flux) - (absorption / flux)) - (sca...</td>\n",
       "      <td>0.000000e+00</td>\n",
       "      <td>0.015175</td>\n",
       "    </tr>\n",
       "    <tr>\n",
       "      <th>1</th>\n",
       "      <td>10000</td>\n",
       "      <td>0.058</td>\n",
       "      <td>1.400000e-01</td>\n",
       "      <td>total</td>\n",
       "      <td>(((total / flux) - (absorption / flux)) - (sca...</td>\n",
       "      <td>2.220446e-16</td>\n",
       "      <td>0.010585</td>\n",
       "    </tr>\n",
       "    <tr>\n",
       "      <th>2</th>\n",
       "      <td>10000</td>\n",
       "      <td>0.140</td>\n",
       "      <td>2.800000e-01</td>\n",
       "      <td>total</td>\n",
       "      <td>(((total / flux) - (absorption / flux)) - (sca...</td>\n",
       "      <td>2.220446e-16</td>\n",
       "      <td>0.012141</td>\n",
       "    </tr>\n",
       "    <tr>\n",
       "      <th>3</th>\n",
       "      <td>10000</td>\n",
       "      <td>0.280</td>\n",
       "      <td>6.250000e-01</td>\n",
       "      <td>total</td>\n",
       "      <td>(((total / flux) - (absorption / flux)) - (sca...</td>\n",
       "      <td>1.665335e-16</td>\n",
       "      <td>0.010771</td>\n",
       "    </tr>\n",
       "    <tr>\n",
       "      <th>4</th>\n",
       "      <td>10000</td>\n",
       "      <td>0.625</td>\n",
       "      <td>4.000000e+00</td>\n",
       "      <td>total</td>\n",
       "      <td>(((total / flux) - (absorption / flux)) - (sca...</td>\n",
       "      <td>1.665335e-16</td>\n",
       "      <td>0.006857</td>\n",
       "    </tr>\n",
       "    <tr>\n",
       "      <th>5</th>\n",
       "      <td>10000</td>\n",
       "      <td>4.000</td>\n",
       "      <td>5.530000e+03</td>\n",
       "      <td>total</td>\n",
       "      <td>(((total / flux) - (absorption / flux)) - (sca...</td>\n",
       "      <td>3.330669e-16</td>\n",
       "      <td>0.003511</td>\n",
       "    </tr>\n",
       "    <tr>\n",
       "      <th>6</th>\n",
       "      <td>10000</td>\n",
       "      <td>5530.000</td>\n",
       "      <td>8.210000e+05</td>\n",
       "      <td>total</td>\n",
       "      <td>(((total / flux) - (absorption / flux)) - (sca...</td>\n",
       "      <td>3.330669e-16</td>\n",
       "      <td>0.003452</td>\n",
       "    </tr>\n",
       "    <tr>\n",
       "      <th>7</th>\n",
       "      <td>10000</td>\n",
       "      <td>821000.000</td>\n",
       "      <td>2.000000e+07</td>\n",
       "      <td>total</td>\n",
       "      <td>(((total / flux) - (absorption / flux)) - (sca...</td>\n",
       "      <td>2.220446e-16</td>\n",
       "      <td>0.003369</td>\n",
       "    </tr>\n",
       "  </tbody>\n",
       "</table>\n",
       "</div>"
      ],
      "text/plain": [
       "    cell  energy low [eV]  energy high [eV] nuclide  \\\n",
       "0  10000         0.00e+00          5.80e-02   total   \n",
       "1  10000         5.80e-02          1.40e-01   total   \n",
       "2  10000         1.40e-01          2.80e-01   total   \n",
       "3  10000         2.80e-01          6.25e-01   total   \n",
       "4  10000         6.25e-01          4.00e+00   total   \n",
       "5  10000         4.00e+00          5.53e+03   total   \n",
       "6  10000         5.53e+03          8.21e+05   total   \n",
       "7  10000         8.21e+05          2.00e+07   total   \n",
       "\n",
       "                                               score     mean  std. dev.  \n",
       "0  (((total / flux) - (absorption / flux)) - (sca... 0.00e+00   1.52e-02  \n",
       "1  (((total / flux) - (absorption / flux)) - (sca... 2.22e-16   1.06e-02  \n",
       "2  (((total / flux) - (absorption / flux)) - (sca... 2.22e-16   1.21e-02  \n",
       "3  (((total / flux) - (absorption / flux)) - (sca... 1.67e-16   1.08e-02  \n",
       "4  (((total / flux) - (absorption / flux)) - (sca... 1.67e-16   6.86e-03  \n",
       "5  (((total / flux) - (absorption / flux)) - (sca... 3.33e-16   3.51e-03  \n",
       "6  (((total / flux) - (absorption / flux)) - (sca... 3.33e-16   3.45e-03  \n",
       "7  (((total / flux) - (absorption / flux)) - (sca... 2.22e-16   3.37e-03  "
      ]
     },
     "execution_count": 15,
     "metadata": {},
     "output_type": "execute_result"
    }
   ],
   "source": [
    "# Use tally arithmetic to compute the difference between the total, absorption and scattering\n",
    "difference = total.xs_tally - absorption.xs_tally - scattering.xs_tally\n",
    "\n",
    "# The difference is a derived tally which can generate Pandas DataFrames for inspection\n",
    "difference.get_pandas_dataframe()"
   ]
  },
  {
   "cell_type": "markdown",
   "metadata": {},
   "source": [
    "Similarly, we can use tally arithmetic to compute the ratio of `AbsorptionXS` and `ScatterXS` to the `TotalXS`."
   ]
  },
  {
   "cell_type": "code",
   "execution_count": 16,
   "metadata": {
    "collapsed": false
   },
   "outputs": [
    {
     "data": {
      "text/html": [
       "<div>\n",
       "<table border=\"1\" class=\"dataframe\">\n",
       "  <thead>\n",
       "    <tr style=\"text-align: right;\">\n",
       "      <th></th>\n",
       "      <th>cell</th>\n",
       "      <th>energy low [eV]</th>\n",
       "      <th>energy high [eV]</th>\n",
       "      <th>nuclide</th>\n",
       "      <th>score</th>\n",
       "      <th>mean</th>\n",
       "      <th>std. dev.</th>\n",
       "    </tr>\n",
       "  </thead>\n",
       "  <tbody>\n",
       "    <tr>\n",
       "      <th>0</th>\n",
       "      <td>10000</td>\n",
       "      <td>0.000</td>\n",
       "      <td>5.800000e-02</td>\n",
       "      <td>total</td>\n",
       "      <td>((absorption / flux) / (total / flux))</td>\n",
       "      <td>0.519239</td>\n",
       "      <td>0.010935</td>\n",
       "    </tr>\n",
       "    <tr>\n",
       "      <th>1</th>\n",
       "      <td>10000</td>\n",
       "      <td>0.058</td>\n",
       "      <td>1.400000e-01</td>\n",
       "      <td>total</td>\n",
       "      <td>((absorption / flux) / (total / flux))</td>\n",
       "      <td>0.351600</td>\n",
       "      <td>0.006968</td>\n",
       "    </tr>\n",
       "    <tr>\n",
       "      <th>2</th>\n",
       "      <td>10000</td>\n",
       "      <td>0.140</td>\n",
       "      <td>2.800000e-01</td>\n",
       "      <td>total</td>\n",
       "      <td>((absorption / flux) / (total / flux))</td>\n",
       "      <td>0.272140</td>\n",
       "      <td>0.006825</td>\n",
       "    </tr>\n",
       "    <tr>\n",
       "      <th>3</th>\n",
       "      <td>10000</td>\n",
       "      <td>0.280</td>\n",
       "      <td>6.250000e-01</td>\n",
       "      <td>total</td>\n",
       "      <td>((absorption / flux) / (total / flux))</td>\n",
       "      <td>0.193745</td>\n",
       "      <td>0.004753</td>\n",
       "    </tr>\n",
       "    <tr>\n",
       "      <th>4</th>\n",
       "      <td>10000</td>\n",
       "      <td>0.625</td>\n",
       "      <td>4.000000e+00</td>\n",
       "      <td>total</td>\n",
       "      <td>((absorption / flux) / (total / flux))</td>\n",
       "      <td>0.088373</td>\n",
       "      <td>0.001554</td>\n",
       "    </tr>\n",
       "    <tr>\n",
       "      <th>5</th>\n",
       "      <td>10000</td>\n",
       "      <td>4.000</td>\n",
       "      <td>5.530000e+03</td>\n",
       "      <td>total</td>\n",
       "      <td>((absorption / flux) / (total / flux))</td>\n",
       "      <td>0.137221</td>\n",
       "      <td>0.001318</td>\n",
       "    </tr>\n",
       "    <tr>\n",
       "      <th>6</th>\n",
       "      <td>10000</td>\n",
       "      <td>5530.000</td>\n",
       "      <td>8.210000e+05</td>\n",
       "      <td>total</td>\n",
       "      <td>((absorption / flux) / (total / flux))</td>\n",
       "      <td>0.015156</td>\n",
       "      <td>0.000129</td>\n",
       "    </tr>\n",
       "    <tr>\n",
       "      <th>7</th>\n",
       "      <td>10000</td>\n",
       "      <td>821000.000</td>\n",
       "      <td>2.000000e+07</td>\n",
       "      <td>total</td>\n",
       "      <td>((absorption / flux) / (total / flux))</td>\n",
       "      <td>0.039825</td>\n",
       "      <td>0.000544</td>\n",
       "    </tr>\n",
       "  </tbody>\n",
       "</table>\n",
       "</div>"
      ],
      "text/plain": [
       "    cell  energy low [eV]  energy high [eV] nuclide  \\\n",
       "0  10000         0.00e+00          5.80e-02   total   \n",
       "1  10000         5.80e-02          1.40e-01   total   \n",
       "2  10000         1.40e-01          2.80e-01   total   \n",
       "3  10000         2.80e-01          6.25e-01   total   \n",
       "4  10000         6.25e-01          4.00e+00   total   \n",
       "5  10000         4.00e+00          5.53e+03   total   \n",
       "6  10000         5.53e+03          8.21e+05   total   \n",
       "7  10000         8.21e+05          2.00e+07   total   \n",
       "\n",
       "                                    score     mean  std. dev.  \n",
       "0  ((absorption / flux) / (total / flux)) 5.19e-01   1.09e-02  \n",
       "1  ((absorption / flux) / (total / flux)) 3.52e-01   6.97e-03  \n",
       "2  ((absorption / flux) / (total / flux)) 2.72e-01   6.82e-03  \n",
       "3  ((absorption / flux) / (total / flux)) 1.94e-01   4.75e-03  \n",
       "4  ((absorption / flux) / (total / flux)) 8.84e-02   1.55e-03  \n",
       "5  ((absorption / flux) / (total / flux)) 1.37e-01   1.32e-03  \n",
       "6  ((absorption / flux) / (total / flux)) 1.52e-02   1.29e-04  \n",
       "7  ((absorption / flux) / (total / flux)) 3.98e-02   5.44e-04  "
      ]
     },
     "execution_count": 16,
     "metadata": {},
     "output_type": "execute_result"
    }
   ],
   "source": [
    "# Use tally arithmetic to compute the absorption-to-total MGXS ratio\n",
    "absorption_to_total = absorption.xs_tally / total.xs_tally\n",
    "\n",
    "# The absorption-to-total ratio is a derived tally which can generate Pandas DataFrames for inspection\n",
    "absorption_to_total.get_pandas_dataframe()"
   ]
  },
  {
   "cell_type": "code",
   "execution_count": 17,
   "metadata": {
    "collapsed": false
   },
   "outputs": [
    {
     "data": {
      "text/html": [
       "<div>\n",
       "<table border=\"1\" class=\"dataframe\">\n",
       "  <thead>\n",
       "    <tr style=\"text-align: right;\">\n",
       "      <th></th>\n",
       "      <th>cell</th>\n",
       "      <th>energy low [eV]</th>\n",
       "      <th>energy high [eV]</th>\n",
       "      <th>nuclide</th>\n",
       "      <th>score</th>\n",
       "      <th>mean</th>\n",
       "      <th>std. dev.</th>\n",
       "    </tr>\n",
       "  </thead>\n",
       "  <tbody>\n",
       "    <tr>\n",
       "      <th>0</th>\n",
       "      <td>10000</td>\n",
       "      <td>0.000</td>\n",
       "      <td>5.800000e-02</td>\n",
       "      <td>total</td>\n",
       "      <td>((scatter / flux) / (total / flux))</td>\n",
       "      <td>0.480761</td>\n",
       "      <td>0.010150</td>\n",
       "    </tr>\n",
       "    <tr>\n",
       "      <th>1</th>\n",
       "      <td>10000</td>\n",
       "      <td>0.058</td>\n",
       "      <td>1.400000e-01</td>\n",
       "      <td>total</td>\n",
       "      <td>((scatter / flux) / (total / flux))</td>\n",
       "      <td>0.648400</td>\n",
       "      <td>0.012835</td>\n",
       "    </tr>\n",
       "    <tr>\n",
       "      <th>2</th>\n",
       "      <td>10000</td>\n",
       "      <td>0.140</td>\n",
       "      <td>2.800000e-01</td>\n",
       "      <td>total</td>\n",
       "      <td>((scatter / flux) / (total / flux))</td>\n",
       "      <td>0.727860</td>\n",
       "      <td>0.018282</td>\n",
       "    </tr>\n",
       "    <tr>\n",
       "      <th>3</th>\n",
       "      <td>10000</td>\n",
       "      <td>0.280</td>\n",
       "      <td>6.250000e-01</td>\n",
       "      <td>total</td>\n",
       "      <td>((scatter / flux) / (total / flux))</td>\n",
       "      <td>0.806255</td>\n",
       "      <td>0.019447</td>\n",
       "    </tr>\n",
       "    <tr>\n",
       "      <th>4</th>\n",
       "      <td>10000</td>\n",
       "      <td>0.625</td>\n",
       "      <td>4.000000e+00</td>\n",
       "      <td>total</td>\n",
       "      <td>((scatter / flux) / (total / flux))</td>\n",
       "      <td>0.911627</td>\n",
       "      <td>0.015441</td>\n",
       "    </tr>\n",
       "    <tr>\n",
       "      <th>5</th>\n",
       "      <td>10000</td>\n",
       "      <td>4.000</td>\n",
       "      <td>5.530000e+03</td>\n",
       "      <td>total</td>\n",
       "      <td>((scatter / flux) / (total / flux))</td>\n",
       "      <td>0.862779</td>\n",
       "      <td>0.005726</td>\n",
       "    </tr>\n",
       "    <tr>\n",
       "      <th>6</th>\n",
       "      <td>10000</td>\n",
       "      <td>5530.000</td>\n",
       "      <td>8.210000e+05</td>\n",
       "      <td>total</td>\n",
       "      <td>((scatter / flux) / (total / flux))</td>\n",
       "      <td>0.984844</td>\n",
       "      <td>0.007972</td>\n",
       "    </tr>\n",
       "    <tr>\n",
       "      <th>7</th>\n",
       "      <td>10000</td>\n",
       "      <td>821000.000</td>\n",
       "      <td>2.000000e+07</td>\n",
       "      <td>total</td>\n",
       "      <td>((scatter / flux) / (total / flux))</td>\n",
       "      <td>0.960175</td>\n",
       "      <td>0.012017</td>\n",
       "    </tr>\n",
       "  </tbody>\n",
       "</table>\n",
       "</div>"
      ],
      "text/plain": [
       "    cell  energy low [eV]  energy high [eV] nuclide  \\\n",
       "0  10000         0.00e+00          5.80e-02   total   \n",
       "1  10000         5.80e-02          1.40e-01   total   \n",
       "2  10000         1.40e-01          2.80e-01   total   \n",
       "3  10000         2.80e-01          6.25e-01   total   \n",
       "4  10000         6.25e-01          4.00e+00   total   \n",
       "5  10000         4.00e+00          5.53e+03   total   \n",
       "6  10000         5.53e+03          8.21e+05   total   \n",
       "7  10000         8.21e+05          2.00e+07   total   \n",
       "\n",
       "                                 score     mean  std. dev.  \n",
       "0  ((scatter / flux) / (total / flux)) 4.81e-01   1.02e-02  \n",
       "1  ((scatter / flux) / (total / flux)) 6.48e-01   1.28e-02  \n",
       "2  ((scatter / flux) / (total / flux)) 7.28e-01   1.83e-02  \n",
       "3  ((scatter / flux) / (total / flux)) 8.06e-01   1.94e-02  \n",
       "4  ((scatter / flux) / (total / flux)) 9.12e-01   1.54e-02  \n",
       "5  ((scatter / flux) / (total / flux)) 8.63e-01   5.73e-03  \n",
       "6  ((scatter / flux) / (total / flux)) 9.85e-01   7.97e-03  \n",
       "7  ((scatter / flux) / (total / flux)) 9.60e-01   1.20e-02  "
      ]
     },
     "execution_count": 17,
     "metadata": {},
     "output_type": "execute_result"
    }
   ],
   "source": [
    "# Use tally arithmetic to compute the scattering-to-total MGXS ratio\n",
    "scattering_to_total = scattering.xs_tally / total.xs_tally\n",
    "\n",
    "# The scattering-to-total ratio is a derived tally which can generate Pandas DataFrames for inspection\n",
    "scattering_to_total.get_pandas_dataframe()"
   ]
  },
  {
   "cell_type": "markdown",
   "metadata": {},
   "source": [
    "Lastly, we sum the derived scatter-to-total and absorption-to-total ratios to confirm that they sum to unity."
   ]
  },
  {
   "cell_type": "code",
   "execution_count": 18,
   "metadata": {
    "collapsed": false
   },
   "outputs": [
    {
     "data": {
      "text/html": [
       "<div>\n",
       "<table border=\"1\" class=\"dataframe\">\n",
       "  <thead>\n",
       "    <tr style=\"text-align: right;\">\n",
       "      <th></th>\n",
       "      <th>cell</th>\n",
       "      <th>energy low [eV]</th>\n",
       "      <th>energy high [eV]</th>\n",
       "      <th>nuclide</th>\n",
       "      <th>score</th>\n",
       "      <th>mean</th>\n",
       "      <th>std. dev.</th>\n",
       "    </tr>\n",
       "  </thead>\n",
       "  <tbody>\n",
       "    <tr>\n",
       "      <th>0</th>\n",
       "      <td>10000</td>\n",
       "      <td>0.000</td>\n",
       "      <td>5.800000e-02</td>\n",
       "      <td>total</td>\n",
       "      <td>(((absorption / flux) / (total / flux)) + ((sc...</td>\n",
       "      <td>1.0</td>\n",
       "      <td>0.014920</td>\n",
       "    </tr>\n",
       "    <tr>\n",
       "      <th>1</th>\n",
       "      <td>10000</td>\n",
       "      <td>0.058</td>\n",
       "      <td>1.400000e-01</td>\n",
       "      <td>total</td>\n",
       "      <td>(((absorption / flux) / (total / flux)) + ((sc...</td>\n",
       "      <td>1.0</td>\n",
       "      <td>0.014605</td>\n",
       "    </tr>\n",
       "    <tr>\n",
       "      <th>2</th>\n",
       "      <td>10000</td>\n",
       "      <td>0.140</td>\n",
       "      <td>2.800000e-01</td>\n",
       "      <td>total</td>\n",
       "      <td>(((absorption / flux) / (total / flux)) + ((sc...</td>\n",
       "      <td>1.0</td>\n",
       "      <td>0.019514</td>\n",
       "    </tr>\n",
       "    <tr>\n",
       "      <th>3</th>\n",
       "      <td>10000</td>\n",
       "      <td>0.280</td>\n",
       "      <td>6.250000e-01</td>\n",
       "      <td>total</td>\n",
       "      <td>(((absorption / flux) / (total / flux)) + ((sc...</td>\n",
       "      <td>1.0</td>\n",
       "      <td>0.020019</td>\n",
       "    </tr>\n",
       "    <tr>\n",
       "      <th>4</th>\n",
       "      <td>10000</td>\n",
       "      <td>0.625</td>\n",
       "      <td>4.000000e+00</td>\n",
       "      <td>total</td>\n",
       "      <td>(((absorption / flux) / (total / flux)) + ((sc...</td>\n",
       "      <td>1.0</td>\n",
       "      <td>0.015519</td>\n",
       "    </tr>\n",
       "    <tr>\n",
       "      <th>5</th>\n",
       "      <td>10000</td>\n",
       "      <td>4.000</td>\n",
       "      <td>5.530000e+03</td>\n",
       "      <td>total</td>\n",
       "      <td>(((absorption / flux) / (total / flux)) + ((sc...</td>\n",
       "      <td>1.0</td>\n",
       "      <td>0.005876</td>\n",
       "    </tr>\n",
       "    <tr>\n",
       "      <th>6</th>\n",
       "      <td>10000</td>\n",
       "      <td>5530.000</td>\n",
       "      <td>8.210000e+05</td>\n",
       "      <td>total</td>\n",
       "      <td>(((absorption / flux) / (total / flux)) + ((sc...</td>\n",
       "      <td>1.0</td>\n",
       "      <td>0.007973</td>\n",
       "    </tr>\n",
       "    <tr>\n",
       "      <th>7</th>\n",
       "      <td>10000</td>\n",
       "      <td>821000.000</td>\n",
       "      <td>2.000000e+07</td>\n",
       "      <td>total</td>\n",
       "      <td>(((absorption / flux) / (total / flux)) + ((sc...</td>\n",
       "      <td>1.0</td>\n",
       "      <td>0.012029</td>\n",
       "    </tr>\n",
       "  </tbody>\n",
       "</table>\n",
       "</div>"
      ],
      "text/plain": [
       "    cell  energy low [eV]  energy high [eV] nuclide  \\\n",
       "0  10000         0.00e+00          5.80e-02   total   \n",
       "1  10000         5.80e-02          1.40e-01   total   \n",
       "2  10000         1.40e-01          2.80e-01   total   \n",
       "3  10000         2.80e-01          6.25e-01   total   \n",
       "4  10000         6.25e-01          4.00e+00   total   \n",
       "5  10000         4.00e+00          5.53e+03   total   \n",
       "6  10000         5.53e+03          8.21e+05   total   \n",
       "7  10000         8.21e+05          2.00e+07   total   \n",
       "\n",
       "                                               score     mean  std. dev.  \n",
       "0  (((absorption / flux) / (total / flux)) + ((sc... 1.00e+00   1.49e-02  \n",
       "1  (((absorption / flux) / (total / flux)) + ((sc... 1.00e+00   1.46e-02  \n",
       "2  (((absorption / flux) / (total / flux)) + ((sc... 1.00e+00   1.95e-02  \n",
       "3  (((absorption / flux) / (total / flux)) + ((sc... 1.00e+00   2.00e-02  \n",
       "4  (((absorption / flux) / (total / flux)) + ((sc... 1.00e+00   1.55e-02  \n",
       "5  (((absorption / flux) / (total / flux)) + ((sc... 1.00e+00   5.88e-03  \n",
       "6  (((absorption / flux) / (total / flux)) + ((sc... 1.00e+00   7.97e-03  \n",
       "7  (((absorption / flux) / (total / flux)) + ((sc... 1.00e+00   1.20e-02  "
      ]
     },
     "execution_count": 18,
     "metadata": {},
     "output_type": "execute_result"
    }
   ],
   "source": [
    "# Use tally arithmetic to ensure that the absorption- and scattering-to-total MGXS ratios sum to unity\n",
    "sum_ratio = absorption_to_total + scattering_to_total\n",
    "\n",
    "# The scattering-to-total ratio is a derived tally which can generate Pandas DataFrames for inspection\n",
    "sum_ratio.get_pandas_dataframe()"
   ]
  },
  {
   "cell_type": "markdown",
   "metadata": {},
   "source": [
    "## Energy Group Collapse\n",
    "\n",
    "\n",
    "Next, we illustate how one can easily take multi-group cross sections and condense them down to a coarser energy group structure. The `MGXS` class includes a `get_condensed_xs(...)` method which takes an `EnergyGroups` parameter with a coarse(r) group structure and returns a new `MGXS` condensed to the coarse groups. We illustrate this process below using the 2-group structure created earlier."
   ]
  },
  {
   "cell_type": "code",
   "execution_count": 19,
   "metadata": {
    "collapsed": false
   },
   "outputs": [
    {
     "name": "stdout",
     "output_type": "stream",
     "text": [
      "Multi-Group XS\n",
      "\tReaction Type  =\tscatter\n",
      "\tDomain Type    =\tcell\n",
      "\tDomain ID      =\t10000\n",
      "\tCross Sections [cm^-1]:\n",
      "            Group 1 [0.625      - 20000000.0eV]:\t3.88e-01 +/- 3.59e-01%\n",
      "            Group 2 [0.0        - 0.625     eV]:\t3.96e-01 +/- 8.13e-01%\n",
      "\n",
      "\n",
      "\n"
     ]
    }
   ],
   "source": [
    "coarse_groups = mgxs.EnergyGroups([0.0, 0.625, 20.0e6])\n",
    "\n",
    "coarse_scattering = scattering.get_condensed_xs(coarse_groups)\n",
    "\n",
    "coarse_scattering.print_xs()"
   ]
  },
  {
   "cell_type": "markdown",
   "metadata": {},
   "source": [
    "## Cross Section Libraries\n",
    "\n",
    "Often we want to get multiple multi-group cross sections for multiple domains. In this case, it is easier to use the `mgxs.Library` class to help us generate all the tallies necessary. To create a `Library` we have to pass it a copy of our geometry."
   ]
  },
  {
   "cell_type": "code",
   "execution_count": 4,
   "metadata": {
    "collapsed": false
   },
   "outputs": [],
   "source": [
    "mgxs_lib = mgxs.Library(pincell.geometry)"
   ]
  },
  {
   "cell_type": "markdown",
   "metadata": {},
   "source": [
    "Now we need to assign energy groups that will be used for our library."
   ]
  },
  {
   "cell_type": "code",
   "execution_count": 5,
   "metadata": {
    "collapsed": false
   },
   "outputs": [],
   "source": [
    "mgxs_lib.energy_groups = groups"
   ]
  },
  {
   "cell_type": "markdown",
   "metadata": {},
   "source": [
    "Then we tell it what cross sections we want:"
   ]
  },
  {
   "cell_type": "code",
   "execution_count": 6,
   "metadata": {
    "collapsed": true
   },
   "outputs": [],
   "source": [
    "mgxs_lib.mgxs_types = ['total', 'fission', 'scatter matrix', 'chi']"
   ]
  },
  {
   "cell_type": "markdown",
   "metadata": {},
   "source": [
    "And which domains to compute cross sections for:"
   ]
  },
  {
   "cell_type": "code",
   "execution_count": 7,
   "metadata": {
    "collapsed": false
   },
   "outputs": [],
   "source": [
    "mgxs_lib.domain_type = 'cell'\n",
    "mgxs_lib.domains = pincell.geometry.get_all_cells().values()"
   ]
  },
  {
   "cell_type": "markdown",
   "metadata": {},
   "source": [
    "If we want cross sections for each nuclide, we can also specify that on a library-basis."
   ]
  },
  {
   "cell_type": "code",
   "execution_count": 8,
   "metadata": {
    "collapsed": true
   },
   "outputs": [],
   "source": [
    "mgxs_lib.by_nuclide = True"
   ]
  },
  {
   "cell_type": "markdown",
   "metadata": {},
   "source": [
    "When we done, we can create all the tallies necessary by calling `build_library()`."
   ]
  },
  {
   "cell_type": "code",
   "execution_count": 9,
   "metadata": {
    "collapsed": true
   },
   "outputs": [],
   "source": [
    "mgxs_lib.build_library()"
   ]
  },
  {
   "cell_type": "markdown",
   "metadata": {},
   "source": [
    "Now we need to add all the tallies to our `Tallies` object. One problem is that if we simply add all the tallies necessary for many domains and cross section types, we could end up with > 100 distinct `Tally` objects. The overhead to tally in OpenMC scales as $O(N)$ for $N$ tallies, which can become a bottleneck for large tally datasets. To compensate for this, the Python API's `Tally`, `Filter` and `Tallies` classes allow for the smart *merging* of tallies when possible. The `Library` class supports this runtime optimization with the use of the optional `merge` paramter (`False` by default) for the `Library.add_to_tallies_file(...)` method, as shown below."
   ]
  },
  {
   "cell_type": "code",
   "execution_count": 10,
   "metadata": {
    "collapsed": false
   },
   "outputs": [],
   "source": [
    "pincell.tallies.clear()\n",
    "mgxs_lib.add_to_tallies_file(pincell.tallies, merge=True)\n",
    "pincell.export()"
   ]
  },
  {
   "cell_type": "markdown",
   "metadata": {},
   "source": [
    "At this point, we can run OpenMC and pull in the tally results using `Library.load_from_statepoint` which works exactly like `MGXS.load_from_statepoint`."
   ]
  },
  {
   "cell_type": "code",
   "execution_count": 11,
   "metadata": {
    "collapsed": false
   },
   "outputs": [
    {
     "data": {
      "text/plain": [
       "0"
      ]
     },
     "execution_count": 11,
     "metadata": {},
     "output_type": "execute_result"
    }
   ],
   "source": [
    "openmc.run(output=False)"
   ]
  },
  {
   "cell_type": "code",
   "execution_count": 13,
   "metadata": {
    "collapsed": false
   },
   "outputs": [],
   "source": [
    "sp = openmc.StatePoint('statepoint.50.h5')\n",
    "mgxs_lib.load_from_statepoint(sp)"
   ]
  },
  {
   "cell_type": "markdown",
   "metadata": {},
   "source": [
    "Our results have been loaded in now. To get a specific MGXS, we can use the `Library.get_mgxs()` method which takes the domain and MGXS type as arguments. Let's say we want to look at the fission cross section in fuel."
   ]
  },
  {
   "cell_type": "code",
   "execution_count": 16,
   "metadata": {
    "collapsed": false
   },
   "outputs": [
    {
     "data": {
      "text/plain": [
       "<openmc.mgxs.mgxs.FissionXS at 0x7f6d4f1172b0>"
      ]
     },
     "execution_count": 16,
     "metadata": {},
     "output_type": "execute_result"
    }
   ],
   "source": [
    "fuel_fission = mgxs_lib.get_mgxs(fuel_cell, 'fission')\n",
    "fuel_fission"
   ]
  },
  {
   "cell_type": "markdown",
   "metadata": {},
   "source": [
    "If we wanted to, say, look at the U238 cross section in particular. We can use `print_xs` or `get_pandas_dataframe` to get that one in particle."
   ]
  },
  {
   "cell_type": "code",
   "execution_count": 17,
   "metadata": {
    "collapsed": false
   },
   "outputs": [
    {
     "name": "stdout",
     "output_type": "stream",
     "text": [
      "Multi-Group XS\n",
      "\tReaction Type  =\tfission\n",
      "\tDomain Type    =\tcell\n",
      "\tDomain ID      =\t10000\n",
      "\tNuclide        =\tU238\n",
      "\tCross Sections [barns]:\n",
      "            Group 1 [821000.0   - 20000000.0eV]:\t3.80e-01 +/- 1.09e+00%\n",
      "            Group 2 [5530.0     - 821000.0  eV]:\t4.78e-04 +/- 1.40e+00%\n",
      "            Group 3 [4.0        - 5530.0    eV]:\t1.98e-04 +/- 1.52e+01%\n",
      "            Group 4 [0.625      - 4.0       eV]:\t2.63e-06 +/- 1.21e+00%\n",
      "            Group 5 [0.28       - 0.625     eV]:\t4.31e-06 +/- 1.71e+00%\n",
      "            Group 6 [0.14       - 0.28      eV]:\t6.20e-06 +/- 1.78e+00%\n",
      "            Group 7 [0.058      - 0.14      eV]:\t9.14e-06 +/- 1.40e+00%\n",
      "            Group 8 [0.0        - 0.058     eV]:\t1.65e-05 +/- 1.49e+00%\n",
      "\n",
      "\n",
      "\n"
     ]
    },
    {
     "name": "stderr",
     "output_type": "stream",
     "text": [
      "/home/romano/openmc/openmc/tallies.py:1875: RuntimeWarning: invalid value encountered in true_divide\n",
      "  self_rel_err = data['self']['std. dev.'] / data['self']['mean']\n"
     ]
    }
   ],
   "source": [
    "fuel_fission.print_xs(nuclides=['U238'], xs_type='micro')"
   ]
  },
  {
   "cell_type": "code",
   "execution_count": null,
   "metadata": {
    "collapsed": true
   },
   "outputs": [],
   "source": []
  }
 ],
 "metadata": {
  "anaconda-cloud": {},
  "kernelspec": {
   "display_name": "Python [default]",
   "language": "python",
   "name": "python3"
  },
  "language_info": {
   "codemirror_mode": {
    "name": "ipython",
    "version": 3
   },
   "file_extension": ".py",
   "mimetype": "text/x-python",
   "name": "python",
   "nbconvert_exporter": "python",
   "pygments_lexer": "ipython3",
   "version": "3.5.2"
  }
 },
 "nbformat": 4,
 "nbformat_minor": 0
}
