{
 "cells": [
  {
   "cell_type": "markdown",
   "metadata": {},
   "source": [
    "# Output Files and Post-Processing\n",
    "\n",
    "Now that we have seen how to construct models and run OpenMC, let's focus on the back end of things -- OpenMC's output files. After you run OpenMC, you'll usually get three files:\n",
    "\n",
    "1. `tallies.out`\n",
    "2. `summary.h5`\n",
    "3. `statepoint.###.h5`\n",
    "\n",
    "We have already seen how `tallies.out` is an ASCII file with the results of user-defined tallies. The other two output files are a little more sophisticated. `summary.h5` contains the full geometry model and can be used to reconstruct a `Geometry` object. It is also used to help annotate tally results. `statepoint.h5` on the other hand contains the full state of the simulation (including tally results). It can be used to restart a simulation; more commonly, it is used to analyze tally results. While `tallies.out` is convenient in that it allows us to view results with only a text editor, `statepoint.h5` stores the state of the tallies as they were in memory (so no precision is lost), and using the Python API, we can get at the tally data, plot it, analyze it, etc. "
   ]
  },
  {
   "cell_type": "code",
   "execution_count": null,
   "metadata": {
    "collapsed": false
   },
   "outputs": [],
   "source": [
    "%matplotlib inline\n",
    "import numpy as np\n",
    "import matplotlib.pyplot as plt\n",
    "\n",
    "import openmc"
   ]
  },
  {
   "cell_type": "markdown",
   "metadata": {},
   "source": [
    "## Summary File\n",
    "\n",
    "In this directory, we have the summary file and a statepoint file generated from a simulation of a 17x17 BEAVRS assembly. For the summary file, we can read its contents by using the `openmc.Summary` object."
   ]
  },
  {
   "cell_type": "code",
   "execution_count": null,
   "metadata": {
    "collapsed": false
   },
   "outputs": [],
   "source": [
    "s = openmc.Summary('summary.h5')"
   ]
  },
  {
   "cell_type": "code",
   "execution_count": null,
   "metadata": {
    "collapsed": true
   },
   "outputs": [],
   "source": []
  },
  {
   "cell_type": "markdown",
   "metadata": {},
   "source": [
    "## Statepoint File\n",
    "\n",
    "As cool as the summary file is, the statepoint file is usually more useful because it actually contains our simulation results. Here, we have statepoint file that was generated for the assembly model. We can read it is by creating a `StatePoint `object. Note that by default, data from the statepoint file is only read into memory when it is requested. This helps keep the memory use to a minimum even when a statepoint file may be huge."
   ]
  },
  {
   "cell_type": "code",
   "execution_count": null,
   "metadata": {
    "collapsed": false,
    "scrolled": true
   },
   "outputs": [],
   "source": [
    "# Load the statepoint file\n",
    "sp = openmc.StatePoint('statepoint.50.h5')"
   ]
  },
  {
   "cell_type": "markdown",
   "metadata": {},
   "source": [
    "The statepoint file has lots of interesting information inside: the $k_{\\text{eff}}$ values by generation, the final $k_{\\text{eff}}$, the final fission source, and of course the tallies. When `StatePoint` is instantiated, it will also look for a `summary.h5` file in the same directory and if present, it will automatically link it in so that geometry information is available as well.\n",
    "\n",
    "Let's start off with a basic task -- plotting $k_\\text{eff}$ by generation in our simulation."
   ]
  },
  {
   "cell_type": "code",
   "execution_count": null,
   "metadata": {
    "collapsed": true
   },
   "outputs": [],
   "source": []
  },
  {
   "cell_type": "markdown",
   "metadata": {},
   "source": [
    "### Pandas Dataframes\n",
    "\n",
    "So far, we've been dealing with raw tally data, and it's not always so obvious what the numbers that we're looking at mean. To get a \"big picture\" view of the tally results much in the same manner as the `tallies.out` does, there is a `get_pandas_dataframe()` method that leveras the [Pandas](http://pandas.pydata.org/) package. A `DataFrame` is essentially a table. When we ask a tally for its `DataFrame`, this shows us what each tally bin corresponds to."
   ]
  },
  {
   "cell_type": "code",
   "execution_count": null,
   "metadata": {
    "collapsed": true
   },
   "outputs": [],
   "source": []
  },
  {
   "cell_type": "markdown",
   "metadata": {},
   "source": [
    "## Source Sites"
   ]
  },
  {
   "cell_type": "markdown",
   "metadata": {},
   "source": [
    "Source sites can be accessed from the ``source`` property. As shown below, the source sites are represented as a numpy array with a structured datatype."
   ]
  },
  {
   "cell_type": "code",
   "execution_count": null,
   "metadata": {
    "collapsed": false
   },
   "outputs": [],
   "source": []
  }
 ],
 "metadata": {
  "anaconda-cloud": {},
  "kernelspec": {
   "display_name": "Python [default]",
   "language": "python",
   "name": "python3"
  },
  "language_info": {
   "codemirror_mode": {
    "name": "ipython",
    "version": 3
   },
   "file_extension": ".py",
   "mimetype": "text/x-python",
   "name": "python",
   "nbconvert_exporter": "python",
   "pygments_lexer": "ipython3",
   "version": "3.5.2"
  }
 },
 "nbformat": 4,
 "nbformat_minor": 0
}
