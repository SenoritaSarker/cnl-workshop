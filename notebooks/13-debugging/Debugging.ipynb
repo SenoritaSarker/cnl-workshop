{
 "cells": [
  {
   "cell_type": "markdown",
   "metadata": {},
   "source": [
    "# Debugging\n",
    "\n",
    "Every so often, you will run into a situation where you simulation fails, either gracefully with a nice error message that tells you exactly what went wrong or with a dreaded segmentation fault. When such errors occur, OpenMC gives you several tools to figure out what's going on. First, the most important thing you'll want to do when debugging is making sure that you've compiled OpenMC with debug flags on.\n",
    "\n",
    "```sh\n",
    "cmake -Ddebug=on ..\n",
    "make\n",
    "```\n",
    "\n",
    "With debug flags on, when a segfault or other catastrophic error occurs, you should get a \"traceback\" which shows exactly which line in the source code the segfault happened at. This may give you some indication of what's wrong. If you're confused about a traceback, your best bet is to send a message to the OpenMC [user's group](groups.google.com/forum/#!forum/openmc-users) and seek help there."
   ]
  },
  {
   "cell_type": "markdown",
   "metadata": {},
   "source": [
    "## Run-time settings\n",
    "\n",
    "There are a number of run-time settings that can also help with debugging. If you are experiencing problems with your geometry, you may want to run in geometry debugging mode, which can be enabled either by a command-line flag (if you're running directly from a command line) or through the `geometry_debug` argument of `openmc.run()`."
   ]
  },
  {
   "cell_type": "code",
   "execution_count": null,
   "metadata": {
    "collapsed": true
   },
   "outputs": [],
   "source": [
    "import openmc\n",
    "\n",
    "import sys\n",
    "sys.path.append('..')\n",
    "from inputs import *"
   ]
  },
  {
   "cell_type": "code",
   "execution_count": null,
   "metadata": {
    "collapsed": true
   },
   "outputs": [],
   "source": []
  },
  {
   "cell_type": "markdown",
   "metadata": {},
   "source": [
    "## Restarting Simulations\n",
    "\n",
    "The statepoint files that we have been working with to look at simulation results also have a second purpose -- they can be used to restart a simulation. This is especially useful for debugging a long simulation where you don't want to have to restart the simulation from the beginning just to figure out what went wrong.\n",
    "\n",
    "As we've seen, by default a statepoint file is only written at the very last batch of our simulation. We can change this behavior with the `Settings.statepoint` attribute which should be a dictionary of the form `{'batches': [10, 50, 100]}`, i.e. mapping a string to an iterable of integers. For example, if you wanted to generate a statepoint at every single batch and you have `N` batches, you could set\n",
    "\n",
    "```Python\n",
    "settings.statepoint = {'batches': range(1, N + 1)}\n",
    "```\n",
    "\n",
    "To actually restart a run, use the `restart_file` argument of `openmc.run()`."
   ]
  },
  {
   "cell_type": "code",
   "execution_count": null,
   "metadata": {
    "collapsed": false
   },
   "outputs": [],
   "source": [
    "pincell = PinCellInputSet()\n",
    "pincell.export()"
   ]
  }
 ],
 "metadata": {
  "anaconda-cloud": {},
  "kernelspec": {
   "display_name": "Python [default]",
   "language": "python",
   "name": "python3"
  },
  "language_info": {
   "codemirror_mode": {
    "name": "ipython",
    "version": 3
   },
   "file_extension": ".py",
   "mimetype": "text/x-python",
   "name": "python",
   "nbconvert_exporter": "python",
   "pygments_lexer": "ipython3",
   "version": "3.5.2"
  }
 },
 "nbformat": 4,
 "nbformat_minor": 2
}
