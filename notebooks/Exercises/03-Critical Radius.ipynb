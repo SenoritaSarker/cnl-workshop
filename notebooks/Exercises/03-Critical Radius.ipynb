{
 "cells": [
  {
   "cell_type": "markdown",
   "metadata": {},
   "source": [
    "# Critical Radius\n",
    "\n",
    "Many of you smart reactor physicists probably know the critical radius of a sphere of uranium or plutonium off the top of your head. However, let's assume for the time being that you didn't and you wanted to use OpenMC to figure that out. In this exercise, you are tasked to determine the critical radius of a sphere of $^{239}$Pu with density 19.7 g/cm$^3$. You are to figure it out by following the steps below:\n",
    "\n",
    "1. Iteratively run OpenMC, changing the radius of the sphere each time, ranging from 1 cm up to 20 cm.\n",
    "2. Collect a list (or array) of keff values.\n",
    "3. Use `scipy.optimize.curve_fit` to fit a quadratic curve through the points of keff vs radius.\n",
    "4. Use `scipy.optimize.newton` to solve a root finding problem where keff(r) = 1."
   ]
  },
  {
   "cell_type": "code",
   "execution_count": null,
   "metadata": {
    "collapsed": true
   },
   "outputs": [],
   "source": [
    "%matplotlib inline\n",
    "import numpy as np\n",
    "import matplotlib.pyplot as plt\n",
    "from scipy.optimize import curve_fit, newton\n",
    "import openmc"
   ]
  },
  {
   "cell_type": "code",
   "execution_count": null,
   "metadata": {
    "collapsed": false
   },
   "outputs": [],
   "source": []
  }
 ],
 "metadata": {
  "kernelspec": {
   "display_name": "Python [default]",
   "language": "python",
   "name": "python3"
  },
  "language_info": {
   "codemirror_mode": {
    "name": "ipython",
    "version": 3
   },
   "file_extension": ".py",
   "mimetype": "text/x-python",
   "name": "python",
   "nbconvert_exporter": "python",
   "pygments_lexer": "ipython3",
   "version": "3.5.2"
  }
 },
 "nbformat": 4,
 "nbformat_minor": 2
}
