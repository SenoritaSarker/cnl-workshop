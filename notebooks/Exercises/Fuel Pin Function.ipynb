{
 "cells": [
  {
   "cell_type": "markdown",
   "metadata": {},
   "source": [
    "# Fuel Pin Function\n",
    "\n",
    "The [Serpent](http://montecarlo.vtt.fi) Monte Carlo code provides a pin card that looks like:\n",
    "\n",
    "```\n",
    "pin <id>\n",
    "<mat 1> <r1>\n",
    "<mat 2> <r2>\n",
    "...\n",
    "<mat n>\n",
    "```\n",
    "where `id` is the universe ID, `<mat 1> <mat 2> ...` are materials, and `<r1> <r2>` are the outer radii of regions. Write a function in Python that mimics this capability. The function should take three arguments: the universe ID, a list of `Material` objects, and a list of radii. It should return a `Universe`."
   ]
  },
  {
   "cell_type": "code",
   "execution_count": null,
   "metadata": {
    "collapsed": true
   },
   "outputs": [],
   "source": []
  }
 ],
 "metadata": {
  "anaconda-cloud": {},
  "kernelspec": {
   "display_name": "Python [default]",
   "language": "python",
   "name": "python3"
  },
  "language_info": {
   "codemirror_mode": {
    "name": "ipython",
    "version": 3
   },
   "file_extension": ".py",
   "mimetype": "text/x-python",
   "name": "python",
   "nbconvert_exporter": "python",
   "pygments_lexer": "ipython3",
   "version": "3.5.2"
  }
 },
 "nbformat": 4,
 "nbformat_minor": 2
}
