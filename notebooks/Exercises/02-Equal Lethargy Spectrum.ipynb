{
 "cells": [
  {
   "cell_type": "markdown",
   "metadata": {},
   "source": [
    "# Equal Lethargy Flux Spectrum\n",
    "\n",
    "The beauty of creating our inputs in Python is that we have access to the full power of a real programming language and all its third-party packages. In this exercise, you are asked to determine (and plot) the flux spectrum in 1000 equal lethargy-width groups covering $10^{-5}$ eV to 20 MeV. The model is already set up for you, so you just need to create an appropriate tally, run the model, and retrieve the data from the statepoint file.\n",
    "\n",
    "HINT: You may want to use `math.log10`, `numpy.logspace`, and `matplotlib.pyplot.loglog`."
   ]
  },
  {
   "cell_type": "code",
   "execution_count": null,
   "metadata": {
    "collapsed": true
   },
   "outputs": [],
   "source": [
    "%matplotlib inline\n",
    "from math import log10\n",
    "import matplotlib.pyplot as plt\n",
    "import numpy as np\n",
    "import openmc\n",
    "\n",
    "import sys\n",
    "sys.path.append('..')\n",
    "from inputs import *"
   ]
  },
  {
   "cell_type": "code",
   "execution_count": null,
   "metadata": {
    "collapsed": true
   },
   "outputs": [],
   "source": [
    "pincell = PinCellInputSet()\n",
    "pincell.export()"
   ]
  },
  {
   "cell_type": "code",
   "execution_count": null,
   "metadata": {
    "collapsed": true
   },
   "outputs": [],
   "source": []
  }
 ],
 "metadata": {
  "anaconda-cloud": {},
  "kernelspec": {
   "display_name": "Python [default]",
   "language": "python",
   "name": "python3"
  },
  "language_info": {
   "codemirror_mode": {
    "name": "ipython",
    "version": 3
   },
   "file_extension": ".py",
   "mimetype": "text/x-python",
   "name": "python",
   "nbconvert_exporter": "python",
   "pygments_lexer": "ipython3",
   "version": "3.5.2"
  }
 },
 "nbformat": 4,
 "nbformat_minor": 2
}
