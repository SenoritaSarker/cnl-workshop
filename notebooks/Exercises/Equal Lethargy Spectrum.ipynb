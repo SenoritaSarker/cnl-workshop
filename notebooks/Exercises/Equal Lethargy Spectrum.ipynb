{
 "cells": [
  {
   "cell_type": "markdown",
   "metadata": {},
   "source": [
    "# Equal Lethargy Flux Spectrum\n",
    "\n",
    "The beauty of creating our inputs in Python is that we have access to the full power of a real programming language and all its third-party packages. In this exercise, you are asked to determine the flux spectrum in 1000 equal lethargy-width groups covering $10^{-5}$ eV to 20 MeV. The model is already set up for you, so you just need to create an appropriate tally, run the model, and retrieve the data from the statepoint file.\n",
    "\n",
    "HINT: You may want to use `math.log10` and `numpy.logspace`."
   ]
  },
  {
   "cell_type": "code",
   "execution_count": null,
   "metadata": {
    "collapsed": true
   },
   "outputs": [],
   "source": [
    "%matplotlib inline\n",
    "from math import log10\n",
    "import numpy as np\n",
    "import openmc"
   ]
  },
  {
   "cell_type": "code",
   "execution_count": null,
   "metadata": {
    "collapsed": true
   },
   "outputs": [],
   "source": [
    "uo2 = openmc.Material(name='uo2')\n",
    "uo2.add_element('U', 1.0, enrichment=3.0)\n",
    "uo2.add_nuclide('O16', 2.0)\n",
    "uo2.set_density('g/cm3', 10.0)\n",
    "\n",
    "zirconium = openmc.Material(name='zirconium')\n",
    "zirconium.add_element('Zr', 1.0)\n",
    "zirconium.set_density('g/cm3', 6.6)\n",
    "\n",
    "water = openmc.Material(name='water')\n",
    "water.add_nuclide('H1', 2)\n",
    "water.add_nuclide('O16', 1)\n",
    "water.set_density('g/cm3', 0.7)\n",
    "water.add_s_alpha_beta('c_H_in_H2O')\n",
    "\n",
    "mats = openmc.Materials((uo2, zirconium, water))\n",
    "mats.export_to_xml()"
   ]
  },
  {
   "cell_type": "code",
   "execution_count": null,
   "metadata": {
    "collapsed": true
   },
   "outputs": [],
   "source": [
    "fuel_or = openmc.ZCylinder(R=0.39)\n",
    "clad_ir = openmc.ZCylinder(R=0.40)\n",
    "clad_or = openmc.ZCylinder(R=0.46)\n",
    "\n",
    "fuel = openmc.Cell(name='fuel', fill=uo2, region=-fuel_or)\n",
    "gap = openmc.Cell(name='air gap', region=+fuel_or & -clad_ir)\n",
    "clad = openmc.Cell(name='clad', fill=zirconium,\n",
    "                   region = +clad_ir & -clad_or)\n",
    "\n",
    "pitch = 1.26\n",
    "box = openmc.get_rectangular_prism(pitch, pitch, boundary_type='reflective')\n",
    "moderator = openmc.Cell(name='moderator', fill=water,\n",
    "                        region=box & +clad_or)\n",
    "\n",
    "fuel_pin = openmc.Universe(cells=(fuel, gap, clad, moderator))\n",
    "geom = openmc.Geometry(fuel_pin)\n",
    "geom.export_to_xml()"
   ]
  },
  {
   "cell_type": "code",
   "execution_count": null,
   "metadata": {
    "collapsed": true
   },
   "outputs": [],
   "source": [
    "settings = openmc.Settings()\n",
    "settings.batches = 100\n",
    "settings.inactive = 10\n",
    "settings.particles = 1000\n",
    "settings.source = openmc.Source(space=openmc.stats.Point())\n",
    "settings.export_to_xml()"
   ]
  },
  {
   "cell_type": "code",
   "execution_count": null,
   "metadata": {
    "collapsed": true
   },
   "outputs": [],
   "source": []
  }
 ],
 "metadata": {
  "anaconda-cloud": {},
  "kernelspec": {
   "display_name": "Python [default]",
   "language": "python",
   "name": "python3"
  },
  "language_info": {
   "codemirror_mode": {
    "name": "ipython",
    "version": 3
   },
   "file_extension": ".py",
   "mimetype": "text/x-python",
   "name": "python",
   "nbconvert_exporter": "python",
   "pygments_lexer": "ipython3",
   "version": "3.5.2"
  }
 },
 "nbformat": 4,
 "nbformat_minor": 2
}
