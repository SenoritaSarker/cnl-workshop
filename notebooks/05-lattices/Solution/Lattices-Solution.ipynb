{
 "cells": [
  {
   "cell_type": "markdown",
   "metadata": {},
   "source": [
    "# Lattice computations"
   ]
  },
  {
   "cell_type": "code",
   "execution_count": 1,
   "metadata": {
    "collapsed": false
   },
   "outputs": [],
   "source": [
    "%matplotlib inline\n",
    "import openmc\n",
    "import numpy as np\n",
    "from IPython.display import Image"
   ]
  },
  {
   "cell_type": "markdown",
   "metadata": {},
   "source": [
    "In this section, we will build one of the assemblies from the BEAVRS benchmark.  This is a PWR assembly with fuel pins, guide tubes, and borosilicate glass burnable poisons.  A diagram of th assembly is plotted below.  To make it a little easier (and improve our statistics!) we will only build one quarter of it."
   ]
  },
  {
   "cell_type": "code",
   "execution_count": 2,
   "metadata": {
    "collapsed": false
   },
   "outputs": [
    {
     "data": {
      "image/png": "[encoded data removed]",
      "text/plain": [
       "<IPython.core.display.Image object>"
      ]
     },
     "execution_count": 2,
     "metadata": {},
     "output_type": "execute_result"
    }
   ],
   "source": [
    "Image('assembly_diagram.png')"
   ]
  },
  {
   "cell_type": "markdown",
   "metadata": {},
   "source": [
    "## Materials\n",
    "\n",
    "Again we have UO2, Zr, and H2O.  We also have borosilicate glass (pyrex).  This time we'll use the shortcut for defining enriched uranium."
   ]
  },
  {
   "cell_type": "code",
   "execution_count": 3,
   "metadata": {
    "collapsed": false
   },
   "outputs": [],
   "source": [
    "uo2 = openmc.Material(name='uo2')\n",
    "uo2.add_element('U', 1.0, enrichment=3.0)\n",
    "uo2.add_nuclide('O16', 2.0)\n",
    "uo2.set_density('g/cm3', 10.0)\n",
    "\n",
    "zirconium = openmc.Material(name='zirconium')\n",
    "zirconium.add_element('Zr', 1.0)\n",
    "zirconium.set_density('g/cm3', 6.6)\n",
    "\n",
    "water = openmc.Material(name='water')\n",
    "water.add_nuclide('H1', 2)\n",
    "water.add_nuclide('O16', 1)\n",
    "water.set_density('g/cm3', 0.7)\n",
    "water.add_s_alpha_beta('c_H_in_H2O')\n",
    "\n",
    "pyrex = openmc.Material(name='pyrex')\n",
    "pyrex.add_element('B', 0.49)\n",
    "pyrex.add_element('O', 4.7)\n",
    "pyrex.add_element('Al', 0.17)\n",
    "pyrex.add_element('Si', 1.8)\n",
    "pyrex.set_density('g/cm3', 2.26)"
   ]
  },
  {
   "cell_type": "code",
   "execution_count": 4,
   "metadata": {
    "collapsed": false
   },
   "outputs": [],
   "source": [
    "mf = openmc.Materials((uo2, zirconium, water, pyrex))\n",
    "mf.export_to_xml()"
   ]
  },
  {
   "cell_type": "markdown",
   "metadata": {},
   "source": [
    "Later in this example, we will make a bunch of geometry plots.  By default, every region is colored randomly and the results are Now that we know our materials, let's define a \"color specification\" to use when plotting our geometry."
   ]
  },
  {
   "cell_type": "code",
   "execution_count": 5,
   "metadata": {
    "collapsed": true
   },
   "outputs": [],
   "source": [
    "colors = {}\n",
    "colors[water] = 'lightblue'\n",
    "colors[zirconium] = 'gray'\n",
    "colors[pyrex] = 'green'\n",
    "colors[uo2] = 'red'"
   ]
  },
  {
   "cell_type": "markdown",
   "metadata": {},
   "source": [
    "## Fuel pin\n",
    "\n",
    "This is similar to the pincell example, but we don't have boundary conditions.  This `fuel_pin` universe extends to infinity"
   ]
  },
  {
   "cell_type": "code",
   "execution_count": 6,
   "metadata": {
    "collapsed": false
   },
   "outputs": [],
   "source": [
    "pitch = 1.26\n",
    "\n",
    "fuel_or = openmc.ZCylinder(R=0.39)\n",
    "clad_ir = openmc.ZCylinder(R=0.40)\n",
    "clad_or = openmc.ZCylinder(R=0.46)\n",
    "\n",
    "fuel = openmc.Cell(name='fuel', fill=uo2)\n",
    "fuel.region = -fuel_or\n",
    "\n",
    "gap = openmc.Cell(name='air gap')\n",
    "gap.region = +fuel_or & -clad_ir\n",
    "\n",
    "clad = openmc.Cell(name='clad', fill=zirconium)\n",
    "clad.region = +clad_ir & -clad_or\n",
    "\n",
    "moderator = openmc.Cell(name='moderator', fill=water)\n",
    "moderator.region = +clad_or\n",
    "\n",
    "fuel_pin = openmc.Universe(cells=(fuel, gap, clad, moderator))"
   ]
  },
  {
   "cell_type": "markdown",
   "metadata": {},
   "source": [
    "When building a complex geometry, it is helpful to plot each universe as you go along.  Let's plot this pincell now"
   ]
  },
  {
   "cell_type": "code",
   "execution_count": 7,
   "metadata": {
    "collapsed": false
   },
   "outputs": [
    {
     "data": {
      "image/png": "[encoded data removed]",
      "text/plain": [
       "<matplotlib.figure.Figure at 0x7f0a53259eb8>"
      ]
     },
     "metadata": {},
     "output_type": "display_data"
    }
   ],
   "source": [
    "fuel_pin.plot(width=(pitch, pitch), color_by='material',\n",
    "              colors=colors)"
   ]
  },
  {
   "cell_type": "markdown",
   "metadata": {},
   "source": [
    "## Guide tube"
   ]
  },
  {
   "cell_type": "code",
   "execution_count": 8,
   "metadata": {
    "collapsed": false
   },
   "outputs": [],
   "source": [
    "clad_ir = openmc.ZCylinder(R=0.56)\n",
    "clad_or = openmc.ZCylinder(R=0.60)\n",
    "\n",
    "inner = openmc.Cell(fill=water, region=-clad_ir)\n",
    "clad = openmc.Cell(fill=zirconium, region=+clad_ir & -clad_or)\n",
    "outer = openmc.Cell(fill=water, region=+clad_or)\n",
    "\n",
    "guide_tube = openmc.Universe(cells=(inner, clad, outer))"
   ]
  },
  {
   "cell_type": "code",
   "execution_count": 9,
   "metadata": {
    "collapsed": false
   },
   "outputs": [
    {
     "data": {
      "image/png": "[encoded data removed]",
      "text/plain": [
       "<matplotlib.figure.Figure at 0x7f0a5326fe48>"
      ]
     },
     "metadata": {},
     "output_type": "display_data"
    }
   ],
   "source": [
    "guide_tube.plot(width=(pitch, pitch), color_by='material',\n",
    "                colors=colors)"
   ]
  },
  {
   "cell_type": "markdown",
   "metadata": {},
   "source": [
    "## Pyrex burnable poison"
   ]
  },
  {
   "cell_type": "code",
   "execution_count": 10,
   "metadata": {
    "collapsed": false
   },
   "outputs": [],
   "source": [
    "# Define the cylinders which bound each radial zone.\n",
    "radii = [0.21, 0.23, 0.24, 0.43, 0.44, 0.48, 0.56, 0.60]\n",
    "cyls = [openmc.ZCylinder(R=R) for R in radii]\n",
    "\n",
    "# Initialize a list of cells.\n",
    "bp_cells = []\n",
    "\n",
    "# Define the inner void zone first.\n",
    "c = openmc.Cell(region=-cyls[0])\n",
    "bp_cells.append(c)\n",
    "\n",
    "# Now all the sandwiched layers.\n",
    "mats = [zirconium, None, pyrex, None, zirconium, water, zirconium]\n",
    "for i, mat in enumerate(mats):\n",
    "    c = openmc.Cell(\n",
    "        fill=mat,\n",
    "        region = +cyls[i] & -cyls[i+1]\n",
    "    )\n",
    "    bp_cells.append(c)\n",
    "\n",
    "# And the outer moderator region.\n",
    "c = openmc.Cell(fill=water, region = +cyls[-1])\n",
    "bp_cells.append(c)\n",
    "\n",
    "# Make a universe containing these cells\n",
    "burn = openmc.Universe(cells=bp_cells)"
   ]
  },
  {
   "cell_type": "code",
   "execution_count": 11,
   "metadata": {
    "collapsed": false
   },
   "outputs": [
    {
     "data": {
      "image/png": "[encoded data removed]",
      "text/plain": [
       "<matplotlib.figure.Figure at 0x7f0a5326fb38>"
      ]
     },
     "metadata": {},
     "output_type": "display_data"
    }
   ],
   "source": [
    "burn.plot(width=(pitch, pitch), color_by='material',\n",
    "          colors=colors)"
   ]
  },
  {
   "cell_type": "markdown",
   "metadata": {},
   "source": [
    "## Lattices in OpenMC\n",
    "\n",
    "OpenMC has `RectLattice` and `HexLattice` objects.  This demo will use a `RectLattice`.  Let's look at a simple one before we do the quarter assembly.\n",
    "\n",
    "First, we also need to define a universe that is all water."
   ]
  },
  {
   "cell_type": "code",
   "execution_count": 12,
   "metadata": {
    "collapsed": true
   },
   "outputs": [],
   "source": [
    "moderator = openmc.Cell(fill=water)\n",
    "all_water = openmc.Universe(cells=[moderator])"
   ]
  },
  {
   "cell_type": "code",
   "execution_count": 13,
   "metadata": {
    "collapsed": false
   },
   "outputs": [],
   "source": [
    "lattice = openmc.RectLattice()\n",
    "\n",
    "# First we specify the dimension---the number of lattice tiles in x and y.\n",
    "lattice.dimension = (2, 2)\n",
    "\n",
    "# Next are the xy-coordiantes of the lower-left corner of the lattice.\n",
    "lattice.lower_left = (0., 0.)\n",
    "\n",
    "# Next is the pitch---the size of the lattice tiles in each direction.\n",
    "lattice.pitch = (pitch, pitch)\n",
    "\n",
    "# Now we specify what is actually inside the lattice.  This 2D lattice will be a\n",
    "# list of lists like\n",
    "# lattice.universes = [ [a1, a2, ...], [b1, b2, ...], ...]\n",
    "# The inner lists specify columns from left to right.  The outer lists specify\n",
    "# rows from top to bottom.\n",
    "lattice.universes = [\n",
    "    [fuel_pin,   fuel_pin],\n",
    "    [guide_tube, fuel_pin]\n",
    "]\n",
    "\n",
    "# We also need to specify what is outside of the lattice.  In this case, it is\n",
    "# the infinite water universe.\n",
    "lattice.outer = all_water"
   ]
  },
  {
   "cell_type": "code",
   "execution_count": 14,
   "metadata": {
    "collapsed": false
   },
   "outputs": [
    {
     "data": {
      "image/png": "[encoded data removed]",
      "text/plain": [
       "<matplotlib.figure.Figure at 0x7f0a509b8198>"
      ]
     },
     "metadata": {},
     "output_type": "display_data"
    }
   ],
   "source": [
    "main = openmc.Cell(fill=lattice)\n",
    "root = openmc.Universe(cells=[main])\n",
    "\n",
    "plot_args = {\n",
    "    'width': (3*pitch, 3*pitch),\n",
    "    'center': (pitch, pitch, 0),\n",
    "    'color_by': 'material',\n",
    "    'colors': colors\n",
    "}\n",
    "root.plot(**plot_args)"
   ]
  },
  {
   "cell_type": "markdown",
   "metadata": {},
   "source": [
    "## What exactly does `outer` mean?\n",
    "\n",
    "We are taking that one universe and tiling it infinitely outside the lattice."
   ]
  },
  {
   "cell_type": "code",
   "execution_count": 15,
   "metadata": {
    "collapsed": false
   },
   "outputs": [
    {
     "data": {
      "image/png": "[encoded data removed]",
      "text/plain": [
       "<matplotlib.figure.Figure at 0x7f0a7c516dd8>"
      ]
     },
     "metadata": {},
     "output_type": "display_data"
    }
   ],
   "source": [
    "# Try a different outer universe to see what I mean\n",
    "lattice.outer = guide_tube\n",
    "root.plot(**plot_args)"
   ]
  },
  {
   "cell_type": "markdown",
   "metadata": {},
   "source": [
    "## The BEAVRS assembly"
   ]
  },
  {
   "cell_type": "code",
   "execution_count": 16,
   "metadata": {
    "collapsed": false
   },
   "outputs": [
    {
     "data": {
      "image/png": "[encoded data removed]",
      "text/plain": [
       "<IPython.core.display.Image object>"
      ]
     },
     "execution_count": 16,
     "metadata": {},
     "output_type": "execute_result"
    }
   ],
   "source": [
    "Image('assembly_diagram.png')"
   ]
  },
  {
   "cell_type": "code",
   "execution_count": 17,
   "metadata": {
    "collapsed": false
   },
   "outputs": [],
   "source": [
    "lattice = openmc.RectLattice()\n",
    "\n",
    "lattice.dimension = (9, 9)\n",
    "lattice.pitch = (pitch, pitch)\n",
    "lattice.outer = all_water\n",
    "\n",
    "# I want (x0, y0) = (0, 0) to be the center of the instrument tube so that means\n",
    "# the lower-left will be -half a pin pitch in x and y.\n",
    "lattice.lower_left = (-pitch/2, -pitch/2)\n",
    "\n",
    "# Most of the lattice positions are fuel pins so rather than type all of those\n",
    "# out, we use a list comprehension to start with a 9x9 array of fuel.\n",
    "lattice.universes = [[fuel_pin for i in range(9)] for j in range(9)]\n",
    "\n",
    "# Or we can take advantage of numpy!\n",
    "lattice.universes = np.tile(fuel_pin, (9, 9))\n",
    "\n",
    "# Then I will replace some fuel pins with guide tubes.  First index is the row,\n",
    "# starting from the top, and the second is the column (like a matrix).\n",
    "lattice.universes[2,0] = guide_tube\n",
    "lattice.universes[2,3] = guide_tube\n",
    "lattice.universes[5,0] = guide_tube\n",
    "lattice.universes[5,3] = guide_tube\n",
    "lattice.universes[5,6] = guide_tube\n",
    "lattice.universes[8,0] = guide_tube\n",
    "lattice.universes[8,3] = guide_tube\n",
    "lattice.universes[8,6] = guide_tube\n",
    "\n",
    "# And the burnable poison rod.\n",
    "lattice.universes[3,5] = burn"
   ]
  },
  {
   "cell_type": "markdown",
   "metadata": {},
   "source": [
    "Now we just have to add the boundary conditions and root universe to finish the geometry."
   ]
  },
  {
   "cell_type": "code",
   "execution_count": 18,
   "metadata": {
    "collapsed": false
   },
   "outputs": [],
   "source": [
    "height = 100 # Finite height is not strictly necessary but may avoid floating-point errors\n",
    "assembly_pitch = 17*pitch\n",
    "\n",
    "x0 = openmc.XPlane(x0=0.0, boundary_type='reflective')\n",
    "x1 = openmc.XPlane(x0=assembly_pitch/2, boundary_type='reflective')\n",
    "y0 = openmc.YPlane(y0=0.0, boundary_type='reflective')\n",
    "y1 = openmc.YPlane(y0=assembly_pitch/2, boundary_type='reflective')\n",
    "z0 = openmc.ZPlane(z0=-height/2, boundary_type='reflective')\n",
    "z1 = openmc.ZPlane(z0=height/2, boundary_type='reflective')\n",
    "\n",
    "main = openmc.Cell(fill=lattice)\n",
    "main.region = +x0 & -x1 & +y0 & -y1 & +z0 & -z1"
   ]
  },
  {
   "cell_type": "code",
   "execution_count": 19,
   "metadata": {
    "collapsed": false
   },
   "outputs": [
    {
     "data": {
      "image/png": "[encoded data removed]",
      "text/plain": [
       "<matplotlib.figure.Figure at 0x7f0a509c8710>"
      ]
     },
     "metadata": {},
     "output_type": "display_data"
    }
   ],
   "source": [
    "root = openmc.Universe(cells=(main,))\n",
    "plot_args['width'] = (assembly_pitch/2, assembly_pitch/2)\n",
    "plot_args['center'] = (assembly_pitch/4, assembly_pitch/4, 0)\n",
    "plot_args['pixels'] = (500, 500)\n",
    "root.plot(**plot_args)"
   ]
  },
  {
   "cell_type": "code",
   "execution_count": 20,
   "metadata": {
    "collapsed": true
   },
   "outputs": [],
   "source": [
    "geom = openmc.Geometry(root)\n",
    "geom.export_to_xml()"
   ]
  },
  {
   "cell_type": "code",
   "execution_count": 21,
   "metadata": {
    "collapsed": false
   },
   "outputs": [],
   "source": [
    "settings = openmc.Settings()\n",
    "\n",
    "lower_left, upper_right = main.region.bounding_box\n",
    "spatial_dist = openmc.stats.Box(lower_left, upper_right)\n",
    "settings.source = openmc.Source(space=spatial_dist)\n",
    "settings.batches = 50\n",
    "settings.inactive = 10\n",
    "settings.particles = 1000\n",
    "settings.verbosity = 5\n",
    "settings.export_to_xml()"
   ]
  },
  {
   "cell_type": "code",
   "execution_count": 22,
   "metadata": {
    "collapsed": false,
    "scrolled": true
   },
   "outputs": [
    {
     "name": "stdout",
     "output_type": "stream",
     "text": [
      "\n",
      "                               %%%%%%%%%%%%%%%\n",
      "                          %%%%%%%%%%%%%%%%%%%%%%%%\n",
      "                       %%%%%%%%%%%%%%%%%%%%%%%%%%%%%%\n",
      "                     %%%%%%%%%%%%%%%%%%%%%%%%%%%%%%%%%%\n",
      "                   %%%%%%%%%%%%%%%%%%%%%%%%%%%%%%%%%%%%%%\n",
      "                  %%%%%%%%%%%%%%%%%%%%%%%%%%%%%%%%%%%%%%%%\n",
      "                                   %%%%%%%%%%%%%%%%%%%%%%%%\n",
      "                                    %%%%%%%%%%%%%%%%%%%%%%%%\n",
      "                ###############      %%%%%%%%%%%%%%%%%%%%%%%%\n",
      "               ##################     %%%%%%%%%%%%%%%%%%%%%%%\n",
      "               ###################     %%%%%%%%%%%%%%%%%%%%%%%\n",
      "               ####################     %%%%%%%%%%%%%%%%%%%%%%\n",
      "               #####################     %%%%%%%%%%%%%%%%%%%%%\n",
      "               ######################     %%%%%%%%%%%%%%%%%%%%\n",
      "               #######################     %%%%%%%%%%%%%%%%%%\n",
      "                #######################     %%%%%%%%%%%%%%%%%\n",
      "                ######################     %%%%%%%%%%%%%%%%%\n",
      "                 ####################     %%%%%%%%%%%%%%%%%\n",
      "                   #################     %%%%%%%%%%%%%%%%%\n",
      "                    ###############     %%%%%%%%%%%%%%%%\n",
      "                      ############     %%%%%%%%%%%%%%%\n",
      "                         ########     %%%%%%%%%%%%%%\n",
      "                                     %%%%%%%%%%%\n",
      "\n",
      "                   | The OpenMC Monte Carlo Code\n",
      "         Copyright | 2011-2017 Massachusetts Institute of Technology\n",
      "           License | http://openmc.readthedocs.io/en/latest/license.html\n",
      "           Version | 0.8.0\n",
      "          Git SHA1 | 9dec183b539cf6c9cdf090fece72e6a085d0aac9\n",
      "         Date/Time | 2017-03-09 17:47:10\n",
      "    OpenMP Threads | 4\n",
      "\n",
      " Reading settings XML file...\n",
      " Reading geometry XML file...\n",
      " Reading materials XML file...\n",
      " Reading cross sections XML file...\n",
      " Reading tallies XML file...\n",
      " Initializing source particles...\n",
      "\n",
      " ====================>     K EIGENVALUE SIMULATION     <====================\n",
      "\n",
      " Creating state point statepoint.50.h5...\n",
      "\n",
      " ============================>     RESULTS     <============================\n",
      "\n",
      " k-effective (Collision)     =  1.32329 +/-  0.00667\n",
      " k-effective (Track-length)  =  1.33332 +/-  0.00950\n",
      " k-effective (Absorption)    =  1.32464 +/-  0.00576\n",
      " Combined k-effective        =  1.32645 +/-  0.00517\n",
      " Leakage Fraction            =  0.00000 +/-  0.00000\n",
      "\n"
     ]
    },
    {
     "data": {
      "text/plain": [
       "0"
      ]
     },
     "execution_count": 22,
     "metadata": {},
     "output_type": "execute_result"
    }
   ],
   "source": [
    "openmc.run()"
   ]
  },
  {
   "cell_type": "markdown",
   "metadata": {},
   "source": [
    "## Tallies\n",
    "\n",
    "Okay, that was cool, but $k_\\text{eff}$ isn't everyting.  We also want to know reaction rates so we can compute the power distribution, depletion rate, etc.  If we want pin-by-pin reaction rates, we have two options.  First, we can use a tally mesh.  This will lay a rectangular grid over the geometry and tally the reaction rates in each mesh bin."
   ]
  },
  {
   "cell_type": "code",
   "execution_count": 23,
   "metadata": {
    "collapsed": false
   },
   "outputs": [],
   "source": [
    "tallies = openmc.Tallies()\n",
    "\n",
    "mesh = openmc.Mesh()\n",
    "#mesh.dimension = lattice.dimension # Could set dimension from the lattice\n",
    "mesh.dimension = [3, 3] # But we will use 3x3 for this example\n",
    "mesh.lower_left = lattice.lower_left\n",
    "mesh.width = lattice.pitch\n",
    "\n",
    "mesh_filt = openmc.MeshFilter(mesh)\n",
    "\n",
    "t = openmc.Tally(1)\n",
    "t.filters = [mesh_filt]\n",
    "t.scores = ['total', 'fission']\n",
    "t.nuclides = ['total', 'U235']\n",
    "tallies.append(t)"
   ]
  },
  {
   "cell_type": "markdown",
   "metadata": {},
   "source": [
    "Or we can use something called a \"distribcell\" filter.  Note that the bin specifies a cell id."
   ]
  },
  {
   "cell_type": "code",
   "execution_count": 24,
   "metadata": {
    "collapsed": false
   },
   "outputs": [],
   "source": [
    "dist_filt = openmc.DistribcellFilter(fuel.id)\n",
    "t = openmc.Tally(2)\n",
    "t.filters = [dist_filt]\n",
    "t.scores = ['total', 'fission']\n",
    "t.nuclides = ['total', 'U235']\n",
    "tallies.append(t)\n",
    "\n",
    "tallies.export_to_xml()"
   ]
  },
  {
   "cell_type": "code",
   "execution_count": 25,
   "metadata": {
    "collapsed": false,
    "scrolled": true
   },
   "outputs": [
    {
     "name": "stdout",
     "output_type": "stream",
     "text": [
      "\n",
      "                               %%%%%%%%%%%%%%%\n",
      "                          %%%%%%%%%%%%%%%%%%%%%%%%\n",
      "                       %%%%%%%%%%%%%%%%%%%%%%%%%%%%%%\n",
      "                     %%%%%%%%%%%%%%%%%%%%%%%%%%%%%%%%%%\n",
      "                   %%%%%%%%%%%%%%%%%%%%%%%%%%%%%%%%%%%%%%\n",
      "                  %%%%%%%%%%%%%%%%%%%%%%%%%%%%%%%%%%%%%%%%\n",
      "                                   %%%%%%%%%%%%%%%%%%%%%%%%\n",
      "                                    %%%%%%%%%%%%%%%%%%%%%%%%\n",
      "                ###############      %%%%%%%%%%%%%%%%%%%%%%%%\n",
      "               ##################     %%%%%%%%%%%%%%%%%%%%%%%\n",
      "               ###################     %%%%%%%%%%%%%%%%%%%%%%%\n",
      "               ####################     %%%%%%%%%%%%%%%%%%%%%%\n",
      "               #####################     %%%%%%%%%%%%%%%%%%%%%\n",
      "               ######################     %%%%%%%%%%%%%%%%%%%%\n",
      "               #######################     %%%%%%%%%%%%%%%%%%\n",
      "                #######################     %%%%%%%%%%%%%%%%%\n",
      "                ######################     %%%%%%%%%%%%%%%%%\n",
      "                 ####################     %%%%%%%%%%%%%%%%%\n",
      "                   #################     %%%%%%%%%%%%%%%%%\n",
      "                    ###############     %%%%%%%%%%%%%%%%\n",
      "                      ############     %%%%%%%%%%%%%%%\n",
      "                         ########     %%%%%%%%%%%%%%\n",
      "                                     %%%%%%%%%%%\n",
      "\n",
      "                   | The OpenMC Monte Carlo Code\n",
      "         Copyright | 2011-2017 Massachusetts Institute of Technology\n",
      "           License | http://openmc.readthedocs.io/en/latest/license.html\n",
      "           Version | 0.8.0\n",
      "          Git SHA1 | 9dec183b539cf6c9cdf090fece72e6a085d0aac9\n",
      "         Date/Time | 2017-03-09 17:47:16\n",
      "    OpenMP Threads | 4\n",
      "\n",
      " Reading settings XML file...\n",
      " Reading geometry XML file...\n",
      " Reading materials XML file...\n",
      " Reading cross sections XML file...\n",
      " Reading tallies XML file...\n",
      " Initializing source particles...\n",
      "\n",
      " ====================>     K EIGENVALUE SIMULATION     <====================\n",
      "\n",
      " Creating state point statepoint.50.h5...\n",
      "\n",
      " ============================>     RESULTS     <============================\n",
      "\n",
      " k-effective (Collision)     =  1.32329 +/-  0.00667\n",
      " k-effective (Track-length)  =  1.33332 +/-  0.00950\n",
      " k-effective (Absorption)    =  1.32464 +/-  0.00576\n",
      " Combined k-effective        =  1.32645 +/-  0.00517\n",
      " Leakage Fraction            =  0.00000 +/-  0.00000\n",
      "\n"
     ]
    },
    {
     "data": {
      "text/plain": [
       "0"
      ]
     },
     "execution_count": 25,
     "metadata": {},
     "output_type": "execute_result"
    }
   ],
   "source": [
    "openmc.run()"
   ]
  },
  {
   "cell_type": "code",
   "execution_count": 26,
   "metadata": {
    "collapsed": false,
    "scrolled": true
   },
   "outputs": [
    {
     "name": "stdout",
     "output_type": "stream",
     "text": [
      "\r\n",
      " ============================>     TALLY 1     <============================\r\n",
      "\r\n",
      " Mesh Index (1, 1)\r\n",
      "   Total Material\r\n",
      "     Total Reaction Rate                  0.137215       +/- 4.26773E-03\r\n",
      "     Fission Rate                         0.0            +/- 0.0\r\n",
      "   U235\r\n",
      "     Total Reaction Rate                  0.0            +/- 0.0\r\n",
      "     Fission Rate                         0.0            +/- 0.0\r\n",
      " Mesh Index (2, 1)\r\n",
      "   Total Material\r\n",
      "     Total Reaction Rate                  0.220738       +/- 4.11056E-03\r\n",
      "     Fission Rate                         4.47589E-03    +/- 2.08441E-04\r\n",
      "   U235\r\n",
      "     Total Reaction Rate                  5.79803E-03    +/- 2.50500E-04\r\n",
      "     Fission Rate                         4.26045E-03    +/- 2.07607E-04\r\n",
      " Mesh Index (3, 1)\r\n",
      "   Total Material\r\n",
      "     Total Reaction Rate                  0.219389       +/- 3.02443E-03\r\n",
      "     Fission Rate                         4.49940E-03    +/- 1.75036E-04\r\n",
      "   U235\r\n",
      "     Total Reaction Rate                  5.82275E-03    +/- 2.10259E-04\r\n",
      "     Fission Rate                         4.29228E-03    +/- 1.74747E-04\r\n",
      " Mesh Index (1, 2)\r\n",
      "   Total Material\r\n",
      "     Total Reaction Rate                  0.219499       +/- 4.60050E-03\r\n",
      "     Fission Rate                         4.47456E-03    +/- 2.23484E-04\r\n",
      "   U235\r\n",
      "     Total Reaction Rate                  5.78871E-03    +/- 2.76095E-04\r\n",
      "     Fission Rate                         4.27168E-03    +/- 2.22345E-04\r\n",
      " Mesh Index (2, 2)\r\n",
      "   Total Material\r\n",
      "     Total Reaction Rate                  0.429830       +/- 5.75100E-03\r\n",
      "     Fission Rate                         8.85597E-03    +/- 2.79830E-04\r\n",
      "   U235\r\n",
      "     Total Reaction Rate                  1.14638E-02    +/- 3.41091E-04\r\n",
      "     Fission Rate                         8.42331E-03    +/- 2.79766E-04\r\n",
      " Mesh Index (3, 2)\r\n",
      "   Total Material\r\n",
      "     Total Reaction Rate                  0.432413       +/- 5.43489E-03\r\n",
      "     Fission Rate                         8.66198E-03    +/- 3.32604E-04\r\n",
      "   U235\r\n",
      "     Total Reaction Rate                  1.12062E-02    +/- 4.02000E-04\r\n",
      "     Fission Rate                         8.24009E-03    +/- 3.30848E-04\r\n",
      " Mesh Index (1, 3)\r\n",
      "   Total Material\r\n",
      "     Total Reaction Rate                  0.219028       +/- 3.87972E-03\r\n",
      "     Fission Rate                         4.43633E-03    +/- 1.94514E-04\r\n",
      "   U235\r\n",
      "     Total Reaction Rate                  5.71055E-03    +/- 2.36723E-04\r\n",
      "     Fission Rate                         4.23172E-03    +/- 1.94938E-04\r\n",
      " Mesh Index (2, 3)\r\n",
      "   Total Material\r\n",
      "     Total Reaction Rate                  0.424643       +/- 5.88478E-03\r\n",
      "     Fission Rate                         8.48861E-03    +/- 2.81702E-04\r\n",
      "   U235\r\n",
      "     Total Reaction Rate                  1.10082E-02    +/- 3.42357E-04\r\n",
      "     Fission Rate                         8.06763E-03    +/- 2.81340E-04\r\n",
      " Mesh Index (3, 3)\r\n",
      "   Total Material\r\n",
      "     Total Reaction Rate                  0.434112       +/- 4.93202E-03\r\n",
      "     Fission Rate                         8.87411E-03    +/- 2.94805E-04\r\n",
      "   U235\r\n",
      "     Total Reaction Rate                  1.15160E-02    +/- 3.57905E-04\r\n",
      "     Fission Rate                         8.47758E-03    +/- 2.92137E-04\r\n",
      "\r\n",
      " ============================>     TALLY 2     <============================\r\n",
      "\r\n",
      " Distributed Cell u10007->c10018->l10006(0,1)->u10000->c10000\r\n",
      "   Total Material\r\n",
      "     Total Reaction Rate                  4.42577E-02    +/- 1.24312E-03\r\n",
      "     Fission Rate                         4.47456E-03    +/- 2.23484E-04\r\n",
      "   U235\r\n",
      "     Total Reaction Rate                  5.78871E-03    +/- 2.76095E-04\r\n",
      "     Fission Rate                         4.27168E-03    +/- 2.22345E-04\r\n",
      " Distributed Cell u10007->c10018->l10006(0,2)->u10000->c10000\r\n",
      "   Total Material\r\n",
      "     Total Reaction Rate                  4.23248E-02    +/- 8.45184E-04\r\n",
      "     Fission Rate                         4.43633E-03    +/- 1.94514E-04\r\n",
      "   U235\r\n",
      "     Total Reaction Rate                  5.71055E-03    +/- 2.36723E-04\r\n",
      "     Fission Rate                         4.23172E-03    +/- 1.94938E-04\r\n",
      " Distributed Cell u10007->c10018->l10006(0,4)->u10000->c10000\r\n",
      "   Total Material\r\n",
      "     Total Reaction Rate                  4.47043E-02    +/- 8.19605E-04\r\n",
      "     Fission Rate                         4.76450E-03    +/- 2.14387E-04\r\n",
      "   U235\r\n",
      "     Total Reaction Rate                  6.12741E-03    +/- 2.65097E-04\r\n",
      "     Fission Rate                         4.54717E-03    +/- 2.15816E-04\r\n",
      " Distributed Cell u10007->c10018->l10006(0,5)->u10000->c10000\r\n",
      "   Total Material\r\n",
      "     Total Reaction Rate                  4.44157E-02    +/- 9.44803E-04\r\n",
      "     Fission Rate                         4.69462E-03    +/- 2.01343E-04\r\n",
      "   U235\r\n",
      "     Total Reaction Rate                  6.07925E-03    +/- 2.50059E-04\r\n",
      "     Fission Rate                         4.49340E-03    +/- 2.03673E-04\r\n",
      " Distributed Cell u10007->c10018->l10006(0,7)->u10000->c10000\r\n",
      "   Total Material\r\n",
      "     Total Reaction Rate                  4.43725E-02    +/- 8.06057E-04\r\n",
      "     Fission Rate                         4.51465E-03    +/- 2.05338E-04\r\n",
      "   U235\r\n",
      "     Total Reaction Rate                  5.85729E-03    +/- 2.54114E-04\r\n",
      "     Fission Rate                         4.29385E-03    +/- 2.05605E-04\r\n",
      " Distributed Cell u10007->c10018->l10006(0,8)->u10000->c10000\r\n",
      "   Total Material\r\n",
      "     Total Reaction Rate                  4.47043E-02    +/- 8.72961E-04\r\n",
      "     Fission Rate                         4.19151E-03    +/- 1.55730E-04\r\n",
      "   U235\r\n",
      "     Total Reaction Rate                  5.46601E-03    +/- 1.86084E-04\r\n",
      "     Fission Rate                         3.97851E-03    +/- 1.53859E-04\r\n",
      " Distributed Cell u10007->c10018->l10006(1,0)->u10000->c10000\r\n",
      "   Total Material\r\n",
      "     Total Reaction Rate                  4.41347E-02    +/- 9.20056E-04\r\n",
      "     Fission Rate                         4.47589E-03    +/- 2.08441E-04\r\n",
      "   U235\r\n",
      "     Total Reaction Rate                  5.79803E-03    +/- 2.50500E-04\r\n",
      "     Fission Rate                         4.26045E-03    +/- 2.07607E-04\r\n",
      " Distributed Cell u10007->c10018->l10006(1,1)->u10000->c10000\r\n",
      "   Total Material\r\n",
      "     Total Reaction Rate                  8.71088E-02    +/- 1.35755E-03\r\n",
      "     Fission Rate                         8.85597E-03    +/- 2.79830E-04\r\n",
      "   U235\r\n",
      "     Total Reaction Rate                  1.14638E-02    +/- 3.41091E-04\r\n",
      "     Fission Rate                         8.42331E-03    +/- 2.79766E-04\r\n",
      " Distributed Cell u10007->c10018->l10006(1,2)->u10000->c10000\r\n",
      "   Total Material\r\n",
      "     Total Reaction Rate                  8.66188E-02    +/- 1.41814E-03\r\n",
      "     Fission Rate                         8.48861E-03    +/- 2.81702E-04\r\n",
      "   U235\r\n",
      "     Total Reaction Rate                  1.10082E-02    +/- 3.42357E-04\r\n",
      "     Fission Rate                         8.06763E-03    +/- 2.81340E-04\r\n",
      " Distributed Cell u10007->c10018->l10006(1,3)->u10000->c10000\r\n",
      "   Total Material\r\n",
      "     Total Reaction Rate                  8.94078E-02    +/- 1.26598E-03\r\n",
      "     Fission Rate                         9.33711E-03    +/- 3.12004E-04\r\n",
      "   U235\r\n",
      "     Total Reaction Rate                  1.20472E-02    +/- 3.70875E-04\r\n",
      "     Fission Rate                         8.90662E-03    +/- 3.11924E-04\r\n",
      " Distributed Cell u10007->c10018->l10006(1,4)->u10000->c10000\r\n",
      "   Total Material\r\n",
      "     Total Reaction Rate                  8.88125E-02    +/- 1.37804E-03\r\n",
      "     Fission Rate                         8.73897E-03    +/- 2.80638E-04\r\n",
      "   U235\r\n",
      "     Total Reaction Rate                  1.13505E-02    +/- 3.46743E-04\r\n",
      "     Fission Rate                         8.31669E-03    +/- 2.80970E-04\r\n",
      " Distributed Cell u10007->c10018->l10006(1,5)->u10000->c10000\r\n",
      "   Total Material\r\n",
      "     Total Reaction Rate                  8.68760E-02    +/- 1.14824E-03\r\n",
      "     Fission Rate                         8.56654E-03    +/- 3.06499E-04\r\n",
      "   U235\r\n",
      "     Total Reaction Rate                  1.11148E-02    +/- 3.68295E-04\r\n",
      "     Fission Rate                         8.16740E-03    +/- 3.10576E-04\r\n",
      " Distributed Cell u10007->c10018->l10006(1,6)->u10000->c10000\r\n",
      "   Total Material\r\n",
      "     Total Reaction Rate                  8.83553E-02    +/- 1.02450E-03\r\n",
      "     Fission Rate                         8.93875E-03    +/- 2.91537E-04\r\n",
      "   U235\r\n",
      "     Total Reaction Rate                  1.16032E-02    +/- 3.44451E-04\r\n",
      "     Fission Rate                         8.52503E-03    +/- 2.93136E-04\r\n",
      " Distributed Cell u10007->c10018->l10006(1,7)->u10000->c10000\r\n",
      "   Total Material\r\n",
      "     Total Reaction Rate                  8.88726E-02    +/- 1.45836E-03\r\n",
      "     Fission Rate                         8.76102E-03    +/- 3.25390E-04\r\n",
      "   U235\r\n",
      "     Total Reaction Rate                  1.14177E-02    +/- 3.96211E-04\r\n",
      "     Fission Rate                         8.33820E-03    +/- 3.24092E-04\r\n",
      " Distributed Cell u10007->c10018->l10006(1,8)->u10000->c10000\r\n",
      "   Total Material\r\n",
      "     Total Reaction Rate                  8.92016E-02    +/- 1.41458E-03\r\n",
      "     Fission Rate                         8.73177E-03    +/- 2.79056E-04\r\n",
      "   U235\r\n",
      "     Total Reaction Rate                  1.13518E-02    +/- 3.38352E-04\r\n",
      "     Fission Rate                         8.29210E-03    +/- 2.80184E-04\r\n",
      " Distributed Cell u10007->c10018->l10006(2,0)->u10000->c10000\r\n",
      "   Total Material\r\n",
      "     Total Reaction Rate                  4.34821E-02    +/- 6.02857E-04\r\n",
      "     Fission Rate                         4.49940E-03    +/- 1.75036E-04\r\n",
      "   U235\r\n",
      "     Total Reaction Rate                  5.82275E-03    +/- 2.10259E-04\r\n",
      "     Fission Rate                         4.29228E-03    +/- 1.74747E-04\r\n",
      " Distributed Cell u10007->c10018->l10006(2,1)->u10000->c10000\r\n",
      "   Total Material\r\n",
      "     Total Reaction Rate                  8.69957E-02    +/- 1.20904E-03\r\n",
      "     Fission Rate                         8.66198E-03    +/- 3.32604E-04\r\n",
      "   U235\r\n",
      "     Total Reaction Rate                  1.12062E-02    +/- 4.02000E-04\r\n",
      "     Fission Rate                         8.24009E-03    +/- 3.30848E-04\r\n",
      " Distributed Cell u10007->c10018->l10006(2,2)->u10000->c10000\r\n",
      "   Total Material\r\n",
      "     Total Reaction Rate                  8.75773E-02    +/- 1.20703E-03\r\n",
      "     Fission Rate                         8.87411E-03    +/- 2.94805E-04\r\n",
      "   U235\r\n",
      "     Total Reaction Rate                  1.15160E-02    +/- 3.57905E-04\r\n",
      "     Fission Rate                         8.47758E-03    +/- 2.92137E-04\r\n",
      " Distributed Cell u10007->c10018->l10006(2,3)->u10000->c10000\r\n",
      "   Total Material\r\n",
      "     Total Reaction Rate                  8.83866E-02    +/- 1.00072E-03\r\n",
      "     Fission Rate                         9.01559E-03    +/- 2.37085E-04\r\n",
      "   U235\r\n",
      "     Total Reaction Rate                  1.16607E-02    +/- 2.84723E-04\r\n",
      "     Fission Rate                         8.60832E-03    +/- 2.37408E-04\r\n",
      " Distributed Cell u10007->c10018->l10006(2,4)->u10000->c10000\r\n",
      "   Total Material\r\n",
      "     Total Reaction Rate                  8.72949E-02    +/- 1.27737E-03\r\n",
      "     Fission Rate                         8.31387E-03    +/- 2.83498E-04\r\n",
      "   U235\r\n",
      "     Total Reaction Rate                  1.08404E-02    +/- 3.50017E-04\r\n",
      "     Fission Rate                         7.89416E-03    +/- 2.84557E-04\r\n",
      " Distributed Cell u10007->c10018->l10006(2,5)->u10000->c10000\r\n",
      "   Total Material\r\n",
      "     Total Reaction Rate                  8.69782E-02    +/- 1.03181E-03\r\n",
      "     Fission Rate                         8.32611E-03    +/- 2.34744E-04\r\n",
      "   U235\r\n",
      "     Total Reaction Rate                  1.08900E-02    +/- 2.89825E-04\r\n",
      "     Fission Rate                         7.91527E-03    +/- 2.34947E-04\r\n",
      " Distributed Cell u10007->c10018->l10006(2,6)->u10000->c10000\r\n",
      "   Total Material\r\n",
      "     Total Reaction Rate                  8.77118E-02    +/- 9.19643E-04\r\n",
      "     Fission Rate                         8.86927E-03    +/- 2.64357E-04\r\n",
      "   U235\r\n",
      "     Total Reaction Rate                  1.14784E-02    +/- 3.10515E-04\r\n",
      "     Fission Rate                         8.47343E-03    +/- 2.62499E-04\r\n",
      " Distributed Cell u10007->c10018->l10006(2,7)->u10000->c10000\r\n",
      "   Total Material\r\n",
      "     Total Reaction Rate                  8.77990E-02    +/- 1.15495E-03\r\n",
      "     Fission Rate                         8.60877E-03    +/- 3.11789E-04\r\n",
      "   U235\r\n",
      "     Total Reaction Rate                  1.11853E-02    +/- 3.78644E-04\r\n",
      "     Fission Rate                         8.18967E-03    +/- 3.11572E-04\r\n",
      " Distributed Cell u10007->c10018->l10006(2,8)->u10000->c10000\r\n",
      "   Total Material\r\n",
      "     Total Reaction Rate                  8.74694E-02    +/- 1.19463E-03\r\n",
      "     Fission Rate                         8.12791E-03    +/- 3.54059E-04\r\n",
      "   U235\r\n",
      "     Total Reaction Rate                  1.05854E-02    +/- 4.27082E-04\r\n",
      "     Fission Rate                         7.67164E-03    +/- 3.52955E-04\r\n",
      " Distributed Cell u10007->c10018->l10006(3,1)->u10000->c10000\r\n",
      "   Total Material\r\n",
      "     Total Reaction Rate                  8.63429E-02    +/- 1.02872E-03\r\n",
      "     Fission Rate                         8.71019E-03    +/- 2.54749E-04\r\n",
      "   U235\r\n",
      "     Total Reaction Rate                  1.12714E-02    +/- 3.05592E-04\r\n",
      "     Fission Rate                         8.29470E-03    +/- 2.54975E-04\r\n",
      " Distributed Cell u10007->c10018->l10006(3,2)->u10000->c10000\r\n",
      "   Total Material\r\n",
      "     Total Reaction Rate                  8.54095E-02    +/- 1.10414E-03\r\n",
      "     Fission Rate                         8.70669E-03    +/- 2.42334E-04\r\n",
      "   U235\r\n",
      "     Total Reaction Rate                  1.12613E-02    +/- 2.91608E-04\r\n",
      "     Fission Rate                         8.30363E-03    +/- 2.40539E-04\r\n",
      " Distributed Cell u10007->c10018->l10006(3,4)->u10000->c10000\r\n",
      "   Total Material\r\n",
      "     Total Reaction Rate                  8.74126E-02    +/- 1.18885E-03\r\n",
      "     Fission Rate                         8.85796E-03    +/- 2.86919E-04\r\n",
      "   U235\r\n",
      "     Total Reaction Rate                  1.14894E-02    +/- 3.43520E-04\r\n",
      "     Fission Rate                         8.45518E-03    +/- 2.83095E-04\r\n",
      " Distributed Cell u10007->c10018->l10006(3,5)->u10000->c10000\r\n",
      "   Total Material\r\n",
      "     Total Reaction Rate                  8.57415E-02    +/- 1.28205E-03\r\n",
      "     Fission Rate                         8.53826E-03    +/- 2.48575E-04\r\n",
      "   U235\r\n",
      "     Total Reaction Rate                  1.10925E-02    +/- 3.09678E-04\r\n",
      "     Fission Rate                         8.14172E-03    +/- 2.48176E-04\r\n",
      " Distributed Cell u10007->c10018->l10006(3,7)->u10000->c10000\r\n",
      "   Total Material\r\n",
      "     Total Reaction Rate                  8.51068E-02    +/- 1.29445E-03\r\n",
      "     Fission Rate                         8.49564E-03    +/- 3.03706E-04\r\n",
      "   U235\r\n",
      "     Total Reaction Rate                  1.10154E-02    +/- 3.75110E-04\r\n",
      "     Fission Rate                         8.08312E-03    +/- 3.03504E-04\r\n",
      " Distributed Cell u10007->c10018->l10006(3,8)->u10000->c10000\r\n",
      "   Total Material\r\n",
      "     Total Reaction Rate                  8.34536E-02    +/- 1.26847E-03\r\n",
      "     Fission Rate                         7.84313E-03    +/- 2.89713E-04\r\n",
      "   U235\r\n",
      "     Total Reaction Rate                  1.02194E-02    +/- 3.48514E-04\r\n",
      "     Fission Rate                         7.41031E-03    +/- 2.88124E-04\r\n",
      " Distributed Cell u10007->c10018->l10006(4,0)->u10000->c10000\r\n",
      "   Total Material\r\n",
      "     Total Reaction Rate                  4.40467E-02    +/- 7.28925E-04\r\n",
      "     Fission Rate                         4.43618E-03    +/- 2.26693E-04\r\n",
      "   U235\r\n",
      "     Total Reaction Rate                  5.73600E-03    +/- 2.71528E-04\r\n",
      "     Fission Rate                         4.23185E-03    +/- 2.26588E-04\r\n",
      " Distributed Cell u10007->c10018->l10006(4,1)->u10000->c10000\r\n",
      "   Total Material\r\n",
      "     Total Reaction Rate                  8.56875E-02    +/- 1.43365E-03\r\n",
      "     Fission Rate                         8.36075E-03    +/- 2.66843E-04\r\n",
      "   U235\r\n",
      "     Total Reaction Rate                  1.08543E-02    +/- 3.27586E-04\r\n",
      "     Fission Rate                         7.95676E-03    +/- 2.65183E-04\r\n",
      " Distributed Cell u10007->c10018->l10006(4,2)->u10000->c10000\r\n",
      "   Total Material\r\n",
      "     Total Reaction Rate                  8.89761E-02    +/- 1.33239E-03\r\n",
      "     Fission Rate                         8.72701E-03    +/- 3.11532E-04\r\n",
      "   U235\r\n",
      "     Total Reaction Rate                  1.13232E-02    +/- 3.83615E-04\r\n",
      "     Fission Rate                         8.29196E-03    +/- 3.11092E-04\r\n",
      " Distributed Cell u10007->c10018->l10006(4,3)->u10000->c10000\r\n",
      "   Total Material\r\n",
      "     Total Reaction Rate                  8.84485E-02    +/- 1.31939E-03\r\n",
      "     Fission Rate                         8.74440E-03    +/- 2.75678E-04\r\n",
      "   U235\r\n",
      "     Total Reaction Rate                  1.13568E-02    +/- 3.32262E-04\r\n",
      "     Fission Rate                         8.32548E-03    +/- 2.75447E-04\r\n",
      " Distributed Cell u10007->c10018->l10006(4,4)->u10000->c10000\r\n",
      "   Total Material\r\n",
      "     Total Reaction Rate                  8.46311E-02    +/- 1.05169E-03\r\n",
      "     Fission Rate                         7.91431E-03    +/- 2.51008E-04\r\n",
      "   U235\r\n",
      "     Total Reaction Rate                  1.03317E-02    +/- 3.02506E-04\r\n",
      "     Fission Rate                         7.50421E-03    +/- 2.51223E-04\r\n",
      " Distributed Cell u10007->c10018->l10006(4,5)->u10000->c10000\r\n",
      "   Total Material\r\n",
      "     Total Reaction Rate                  8.29907E-02    +/- 1.20258E-03\r\n",
      "     Fission Rate                         7.38088E-03    +/- 2.17585E-04\r\n",
      "   U235\r\n",
      "     Total Reaction Rate                  9.75774E-03    +/- 2.78263E-04\r\n",
      "     Fission Rate                         7.00312E-03    +/- 2.19177E-04\r\n",
      " Distributed Cell u10007->c10018->l10006(4,6)->u10000->c10000\r\n",
      "   Total Material\r\n",
      "     Total Reaction Rate                  8.40591E-02    +/- 1.18715E-03\r\n",
      "     Fission Rate                         7.58964E-03    +/- 2.07034E-04\r\n",
      "   U235\r\n",
      "     Total Reaction Rate                  9.92732E-03    +/- 2.52918E-04\r\n",
      "     Fission Rate                         7.18797E-03    +/- 2.05561E-04\r\n",
      " Distributed Cell u10007->c10018->l10006(4,7)->u10000->c10000\r\n",
      "   Total Material\r\n",
      "     Total Reaction Rate                  8.34952E-02    +/- 1.56909E-03\r\n",
      "     Fission Rate                         7.63321E-03    +/- 3.21137E-04\r\n",
      "   U235\r\n",
      "     Total Reaction Rate                  1.00282E-02    +/- 3.78635E-04\r\n",
      "     Fission Rate                         7.25057E-03    +/- 3.17049E-04\r\n",
      " Distributed Cell u10007->c10018->l10006(4,8)->u10000->c10000\r\n",
      "   Total Material\r\n",
      "     Total Reaction Rate                  8.12266E-02    +/- 1.22864E-03\r\n",
      "     Fission Rate                         7.54395E-03    +/- 2.63078E-04\r\n",
      "   U235\r\n",
      "     Total Reaction Rate                  9.86146E-03    +/- 3.25560E-04\r\n",
      "     Fission Rate                         7.15864E-03    +/- 2.66228E-04\r\n",
      " Distributed Cell u10007->c10018->l10006(5,0)->u10000->c10000\r\n",
      "   Total Material\r\n",
      "     Total Reaction Rate                  4.28944E-02    +/- 9.32755E-04\r\n",
      "     Fission Rate                         4.21867E-03    +/- 1.77106E-04\r\n",
      "   U235\r\n",
      "     Total Reaction Rate                  5.47268E-03    +/- 2.16930E-04\r\n",
      "     Fission Rate                         4.01936E-03    +/- 1.75693E-04\r\n",
      " Distributed Cell u10007->c10018->l10006(5,1)->u10000->c10000\r\n",
      "   Total Material\r\n",
      "     Total Reaction Rate                  9.01486E-02    +/- 1.15363E-03\r\n",
      "     Fission Rate                         8.88974E-03    +/- 3.33705E-04\r\n",
      "   U235\r\n",
      "     Total Reaction Rate                  1.15050E-02    +/- 3.99183E-04\r\n",
      "     Fission Rate                         8.45462E-03    +/- 3.32817E-04\r\n",
      " Distributed Cell u10007->c10018->l10006(5,2)->u10000->c10000\r\n",
      "   Total Material\r\n",
      "     Total Reaction Rate                  8.71228E-02    +/- 1.07353E-03\r\n",
      "     Fission Rate                         8.39262E-03    +/- 2.51456E-04\r\n",
      "   U235\r\n",
      "     Total Reaction Rate                  1.08811E-02    +/- 3.04154E-04\r\n",
      "     Fission Rate                         7.96080E-03    +/- 2.51644E-04\r\n",
      " Distributed Cell u10007->c10018->l10006(5,3)->u10000->c10000\r\n",
      "   Total Material\r\n",
      "     Total Reaction Rate                  8.86102E-02    +/- 1.00817E-03\r\n",
      "     Fission Rate                         8.37529E-03    +/- 2.31981E-04\r\n",
      "   U235\r\n",
      "     Total Reaction Rate                  1.09607E-02    +/- 2.82538E-04\r\n",
      "     Fission Rate                         7.94385E-03    +/- 2.29672E-04\r\n",
      " Distributed Cell u10007->c10018->l10006(5,4)->u10000->c10000\r\n",
      "   Total Material\r\n",
      "     Total Reaction Rate                  8.49301E-02    +/- 1.03622E-03\r\n",
      "     Fission Rate                         7.60644E-03    +/- 2.58459E-04\r\n",
      "   U235\r\n",
      "     Total Reaction Rate                  1.00466E-02    +/- 3.21051E-04\r\n",
      "     Fission Rate                         7.22125E-03    +/- 2.61292E-04\r\n",
      " Distributed Cell u10007->c10018->l10006(5,6)->u10000->c10000\r\n",
      "   Total Material\r\n",
      "     Total Reaction Rate                  8.15184E-02    +/- 1.16324E-03\r\n",
      "     Fission Rate                         6.94770E-03    +/- 2.61446E-04\r\n",
      "   U235\r\n",
      "     Total Reaction Rate                  9.19269E-03    +/- 3.19014E-04\r\n",
      "     Fission Rate                         6.55244E-03    +/- 2.61025E-04\r\n",
      " Distributed Cell u10007->c10018->l10006(5,7)->u10000->c10000\r\n",
      "   Total Material\r\n",
      "     Total Reaction Rate                  8.45283E-02    +/- 1.27843E-03\r\n",
      "     Fission Rate                         7.51120E-03    +/- 2.75754E-04\r\n",
      "   U235\r\n",
      "     Total Reaction Rate                  9.89700E-03    +/- 3.38139E-04\r\n",
      "     Fission Rate                         7.10970E-03    +/- 2.77543E-04\r\n",
      " Distributed Cell u10007->c10018->l10006(5,8)->u10000->c10000\r\n",
      "   Total Material\r\n",
      "     Total Reaction Rate                  8.33399E-02    +/- 1.15021E-03\r\n",
      "     Fission Rate                         7.32627E-03    +/- 2.52959E-04\r\n",
      "   U235\r\n",
      "     Total Reaction Rate                  9.62393E-03    +/- 3.09702E-04\r\n",
      "     Fission Rate                         6.92735E-03    +/- 2.56769E-04\r\n",
      " Distributed Cell u10007->c10018->l10006(6,1)->u10000->c10000\r\n",
      "   Total Material\r\n",
      "     Total Reaction Rate                  8.74105E-02    +/- 1.37872E-03\r\n",
      "     Fission Rate                         8.45836E-03    +/- 2.98620E-04\r\n",
      "   U235\r\n",
      "     Total Reaction Rate                  1.10233E-02    +/- 3.69504E-04\r\n",
      "     Fission Rate                         8.03126E-03    +/- 2.98478E-04\r\n",
      " Distributed Cell u10007->c10018->l10006(6,2)->u10000->c10000\r\n",
      "   Total Material\r\n",
      "     Total Reaction Rate                  8.84708E-02    +/- 9.66584E-04\r\n",
      "     Fission Rate                         8.41320E-03    +/- 2.47100E-04\r\n",
      "   U235\r\n",
      "     Total Reaction Rate                  1.09485E-02    +/- 3.01272E-04\r\n",
      "     Fission Rate                         7.98589E-03    +/- 2.48143E-04\r\n",
      " Distributed Cell u10007->c10018->l10006(6,4)->u10000->c10000\r\n",
      "   Total Material\r\n",
      "     Total Reaction Rate                  8.67808E-02    +/- 1.16965E-03\r\n",
      "     Fission Rate                         7.84634E-03    +/- 2.81161E-04\r\n",
      "   U235\r\n",
      "     Total Reaction Rate                  1.02982E-02    +/- 3.49014E-04\r\n",
      "     Fission Rate                         7.43850E-03    +/- 2.83254E-04\r\n",
      " Distributed Cell u10007->c10018->l10006(6,5)->u10000->c10000\r\n",
      "   Total Material\r\n",
      "     Total Reaction Rate                  8.40263E-02    +/- 1.08274E-03\r\n",
      "     Fission Rate                         7.27200E-03    +/- 2.56355E-04\r\n",
      "   U235\r\n",
      "     Total Reaction Rate                  9.59767E-03    +/- 3.14800E-04\r\n",
      "     Fission Rate                         6.86741E-03    +/- 2.58327E-04\r\n",
      " Distributed Cell u10007->c10018->l10006(6,6)->u10000->c10000\r\n",
      "   Total Material\r\n",
      "     Total Reaction Rate                  8.48166E-02    +/- 1.13922E-03\r\n",
      "     Fission Rate                         7.58934E-03    +/- 2.10990E-04\r\n",
      "   U235\r\n",
      "     Total Reaction Rate                  9.97219E-03    +/- 2.54634E-04\r\n",
      "     Fission Rate                         7.17841E-03    +/- 2.09479E-04\r\n",
      " Distributed Cell u10007->c10018->l10006(6,7)->u10000->c10000\r\n",
      "   Total Material\r\n",
      "     Total Reaction Rate                  8.48762E-02    +/- 1.32206E-03\r\n",
      "     Fission Rate                         7.79555E-03    +/- 2.45944E-04\r\n",
      "   U235\r\n",
      "     Total Reaction Rate                  1.02479E-02    +/- 3.05752E-04\r\n",
      "     Fission Rate                         7.39517E-03    +/- 2.47643E-04\r\n",
      " Distributed Cell u10007->c10018->l10006(6,8)->u10000->c10000\r\n",
      "   Total Material\r\n",
      "     Total Reaction Rate                  8.39939E-02    +/- 1.29711E-03\r\n",
      "     Fission Rate                         7.46335E-03    +/- 2.84728E-04\r\n",
      "   U235\r\n",
      "     Total Reaction Rate                  9.83690E-03    +/- 3.51654E-04\r\n",
      "     Fission Rate                         7.07316E-03    +/- 2.90160E-04\r\n",
      " Distributed Cell u10007->c10018->l10006(7,0)->u10000->c10000\r\n",
      "   Total Material\r\n",
      "     Total Reaction Rate                  4.39874E-02    +/- 7.97301E-04\r\n",
      "     Fission Rate                         4.30580E-03    +/- 1.91004E-04\r\n",
      "   U235\r\n",
      "     Total Reaction Rate                  5.57556E-03    +/- 2.30205E-04\r\n",
      "     Fission Rate                         4.08257E-03    +/- 1.90501E-04\r\n",
      " Distributed Cell u10007->c10018->l10006(7,1)->u10000->c10000\r\n",
      "   Total Material\r\n",
      "     Total Reaction Rate                  8.90232E-02    +/- 1.51068E-03\r\n",
      "     Fission Rate                         8.48114E-03    +/- 3.10407E-04\r\n",
      "   U235\r\n",
      "     Total Reaction Rate                  1.10264E-02    +/- 3.81014E-04\r\n",
      "     Fission Rate                         8.05527E-03    +/- 3.11104E-04\r\n",
      " Distributed Cell u10007->c10018->l10006(7,2)->u10000->c10000\r\n",
      "   Total Material\r\n",
      "     Total Reaction Rate                  8.56320E-02    +/- 1.31864E-03\r\n",
      "     Fission Rate                         8.15696E-03    +/- 3.12134E-04\r\n",
      "   U235\r\n",
      "     Total Reaction Rate                  1.05795E-02    +/- 3.75348E-04\r\n",
      "     Fission Rate                         7.73822E-03    +/- 3.10928E-04\r\n",
      " Distributed Cell u10007->c10018->l10006(7,3)->u10000->c10000\r\n",
      "   Total Material\r\n",
      "     Total Reaction Rate                  8.79597E-02    +/- 1.15935E-03\r\n",
      "     Fission Rate                         8.55153E-03    +/- 2.67867E-04\r\n",
      "   U235\r\n",
      "     Total Reaction Rate                  1.10947E-02    +/- 3.27139E-04\r\n",
      "     Fission Rate                         8.12605E-03    +/- 2.68401E-04\r\n",
      " Distributed Cell u10007->c10018->l10006(7,4)->u10000->c10000\r\n",
      "   Total Material\r\n",
      "     Total Reaction Rate                  8.53944E-02    +/- 1.42158E-03\r\n",
      "     Fission Rate                         7.94882E-03    +/- 2.87339E-04\r\n",
      "   U235\r\n",
      "     Total Reaction Rate                  1.04222E-02    +/- 3.52872E-04\r\n",
      "     Fission Rate                         7.54189E-03    +/- 2.87451E-04\r\n",
      " Distributed Cell u10007->c10018->l10006(7,5)->u10000->c10000\r\n",
      "   Total Material\r\n",
      "     Total Reaction Rate                  8.52112E-02    +/- 1.20935E-03\r\n",
      "     Fission Rate                         7.60307E-03    +/- 2.39802E-04\r\n",
      "   U235\r\n",
      "     Total Reaction Rate                  1.00039E-02    +/- 2.85183E-04\r\n",
      "     Fission Rate                         7.20439E-03    +/- 2.35833E-04\r\n",
      " Distributed Cell u10007->c10018->l10006(7,6)->u10000->c10000\r\n",
      "   Total Material\r\n",
      "     Total Reaction Rate                  8.36227E-02    +/- 1.04212E-03\r\n",
      "     Fission Rate                         7.40467E-03    +/- 2.72540E-04\r\n",
      "   U235\r\n",
      "     Total Reaction Rate                  9.72594E-03    +/- 3.25028E-04\r\n",
      "     Fission Rate                         7.01034E-03    +/- 2.74230E-04\r\n",
      " Distributed Cell u10007->c10018->l10006(7,7)->u10000->c10000\r\n",
      "   Total Material\r\n",
      "     Total Reaction Rate                  8.36343E-02    +/- 1.31473E-03\r\n",
      "     Fission Rate                         7.47593E-03    +/- 2.51266E-04\r\n",
      "   U235\r\n",
      "     Total Reaction Rate                  9.81227E-03    +/- 3.15272E-04\r\n",
      "     Fission Rate                         7.07828E-03    +/- 2.56115E-04\r\n",
      " Distributed Cell u10007->c10018->l10006(7,8)->u10000->c10000\r\n",
      "   Total Material\r\n",
      "     Total Reaction Rate                  8.27426E-02    +/- 1.19135E-03\r\n",
      "     Fission Rate                         7.22356E-03    +/- 2.43725E-04\r\n",
      "   U235\r\n",
      "     Total Reaction Rate                  9.55722E-03    +/- 2.90018E-04\r\n",
      "     Fission Rate                         6.82456E-03    +/- 2.43023E-04\r\n",
      " Distributed Cell u10007->c10018->l10006(8,0)->u10000->c10000\r\n",
      "   Total Material\r\n",
      "     Total Reaction Rate                  4.42274E-02    +/- 1.01849E-03\r\n",
      "     Fission Rate                         3.97650E-03    +/- 1.83335E-04\r\n",
      "   U235\r\n",
      "     Total Reaction Rate                  5.18731E-03    +/- 2.25811E-04\r\n",
      "     Fission Rate                         3.74683E-03    +/- 1.84748E-04\r\n",
      " Distributed Cell u10007->c10018->l10006(8,1)->u10000->c10000\r\n",
      "   Total Material\r\n",
      "     Total Reaction Rate                  8.72716E-02    +/- 1.47916E-03\r\n",
      "     Fission Rate                         8.16332E-03    +/- 3.01566E-04\r\n",
      "   U235\r\n",
      "     Total Reaction Rate                  1.07271E-02    +/- 3.74076E-04\r\n",
      "     Fission Rate                         7.76585E-03    +/- 3.02385E-04\r\n",
      " Distributed Cell u10007->c10018->l10006(8,2)->u10000->c10000\r\n",
      "   Total Material\r\n",
      "     Total Reaction Rate                  8.72200E-02    +/- 1.34901E-03\r\n",
      "     Fission Rate                         8.15465E-03    +/- 2.53093E-04\r\n",
      "   U235\r\n",
      "     Total Reaction Rate                  1.06450E-02    +/- 3.17355E-04\r\n",
      "     Fission Rate                         7.74079E-03    +/- 2.55895E-04\r\n",
      " Distributed Cell u10007->c10018->l10006(8,3)->u10000->c10000\r\n",
      "   Total Material\r\n",
      "     Total Reaction Rate                  8.72524E-02    +/- 1.31296E-03\r\n",
      "     Fission Rate                         8.14772E-03    +/- 2.79703E-04\r\n",
      "   U235\r\n",
      "     Total Reaction Rate                  1.06613E-02    +/- 3.50282E-04\r\n",
      "     Fission Rate                         7.75575E-03    +/- 2.80459E-04\r\n",
      " Distributed Cell u10007->c10018->l10006(8,4)->u10000->c10000\r\n",
      "   Total Material\r\n",
      "     Total Reaction Rate                  8.64443E-02    +/- 1.41575E-03\r\n",
      "     Fission Rate                         7.87323E-03    +/- 2.44502E-04\r\n",
      "   U235\r\n",
      "     Total Reaction Rate                  1.02902E-02    +/- 2.95359E-04\r\n",
      "     Fission Rate                         7.45045E-03    +/- 2.42880E-04\r\n",
      " Distributed Cell u10007->c10018->l10006(8,5)->u10000->c10000\r\n",
      "   Total Material\r\n",
      "     Total Reaction Rate                  8.62272E-02    +/- 1.37762E-03\r\n",
      "     Fission Rate                         7.54777E-03    +/- 3.03402E-04\r\n",
      "   U235\r\n",
      "     Total Reaction Rate                  9.90575E-03    +/- 3.67214E-04\r\n",
      "     Fission Rate                         7.12886E-03    +/- 3.02351E-04\r\n",
      " Distributed Cell u10007->c10018->l10006(8,6)->u10000->c10000\r\n",
      "   Total Material\r\n",
      "     Total Reaction Rate                  8.46269E-02    +/- 1.26045E-03\r\n",
      "     Fission Rate                         7.56716E-03    +/- 2.77734E-04\r\n",
      "   U235\r\n",
      "     Total Reaction Rate                  9.92519E-03    +/- 3.39761E-04\r\n",
      "     Fission Rate                         7.15130E-03    +/- 2.76565E-04\r\n",
      " Distributed Cell u10007->c10018->l10006(8,7)->u10000->c10000\r\n",
      "   Total Material\r\n",
      "     Total Reaction Rate                  8.43756E-02    +/- 1.22025E-03\r\n",
      "     Fission Rate                         7.89807E-03    +/- 3.04474E-04\r\n",
      "   U235\r\n",
      "     Total Reaction Rate                  1.03298E-02    +/- 3.78741E-04\r\n",
      "     Fission Rate                         7.47691E-03    +/- 3.07451E-04\r\n",
      " Distributed Cell u10007->c10018->l10006(8,8)->u10000->c10000\r\n",
      "   Total Material\r\n",
      "     Total Reaction Rate                  8.45089E-02    +/- 1.63204E-03\r\n",
      "     Fission Rate                         7.52688E-03    +/- 2.89690E-04\r\n",
      "   U235\r\n",
      "     Total Reaction Rate                  9.90164E-03    +/- 3.66738E-04\r\n",
      "     Fission Rate                         7.12099E-03    +/- 2.90765E-04\r\n"
     ]
    }
   ],
   "source": [
    "!cat tallies.out"
   ]
  },
  {
   "cell_type": "markdown",
   "metadata": {
    "collapsed": true
   },
   "source": [
    "## Distributed materials\n",
    "\n",
    "In a depletion problem, every fuel pin might need its own unique material.  We have a feature called \"distributed materials\" which makes this easier. The idea is that we can assign a different material to each unique instance of the cell. The first thing we want to know is how many instances of a particular cell there are. We first need to call the `Geometry.determine_paths()` method which determines all the unique paths to a particular cell. "
   ]
  },
  {
   "cell_type": "code",
   "execution_count": 27,
   "metadata": {
    "collapsed": false
   },
   "outputs": [],
   "source": [
    "geom.determine_paths()"
   ]
  },
  {
   "cell_type": "markdown",
   "metadata": {},
   "source": [
    "Now each cell and material will have a `paths` attribute that tells us where the cell appears in our geometry. For example, the first five instances of the fuel are:"
   ]
  },
  {
   "cell_type": "code",
   "execution_count": 28,
   "metadata": {
    "collapsed": false
   },
   "outputs": [
    {
     "data": {
      "text/plain": [
       "['u10007->c10018->l10006(0,1)->u10000->c10000',\n",
       " 'u10007->c10018->l10006(0,2)->u10000->c10000',\n",
       " 'u10007->c10018->l10006(0,4)->u10000->c10000',\n",
       " 'u10007->c10018->l10006(0,5)->u10000->c10000',\n",
       " 'u10007->c10018->l10006(0,7)->u10000->c10000']"
      ]
     },
     "execution_count": 28,
     "metadata": {},
     "output_type": "execute_result"
    }
   ],
   "source": [
    "fuel.paths[:5]"
   ]
  },
  {
   "cell_type": "markdown",
   "metadata": {},
   "source": [
    "The order of the unique instances in the `paths` attribute also indicates the order in which we should specify materials. To specify a different material for each instance, we assign a list of materials to `fuel.fill` that is as long as the number of instances. Let's create a unique copy of UO2 for each instance and assign it to the fuel cell."
   ]
  },
  {
   "cell_type": "code",
   "execution_count": 29,
   "metadata": {
    "collapsed": false
   },
   "outputs": [],
   "source": [
    "uo2_mats = []\n",
    "for i in range(fuel.num_instances):\n",
    "    m = openmc.Material(name='uo2')\n",
    "    m.add_element('U', 1.0, enrichment=3.0)\n",
    "    m.add_nuclide('O16', 2.0)\n",
    "    m.set_density('g/cm3', 10.0)\n",
    "    uo2_mats.append(m)\n",
    "\n",
    "mf += uo2_mats\n",
    "mf.export_to_xml()"
   ]
  },
  {
   "cell_type": "markdown",
   "metadata": {},
   "source": [
    "Now that we have a list of materials, let's assign it to the cell and re-export our geometry."
   ]
  },
  {
   "cell_type": "code",
   "execution_count": 30,
   "metadata": {
    "collapsed": false
   },
   "outputs": [],
   "source": [
    "fuel.fill = uo2_mats\n",
    "geom.export_to_xml()"
   ]
  },
  {
   "cell_type": "code",
   "execution_count": 31,
   "metadata": {
    "collapsed": false
   },
   "outputs": [
    {
     "data": {
      "image/png": "[encoded data removed]",
      "text/plain": [
       "<IPython.core.display.Image object>"
      ]
     },
     "metadata": {},
     "output_type": "display_data"
    }
   ],
   "source": [
    "p = openmc.Plot.from_geometry(geom)\n",
    "p.color_by = 'material'\n",
    "p.colors = plot_args['colors']\n",
    "\n",
    "openmc.plot_inline(p)"
   ]
  }
 ],
 "metadata": {
  "anaconda-cloud": {},
  "celltoolbar": "Raw Cell Format",
  "kernelspec": {
   "display_name": "Python [default]",
   "language": "python",
   "name": "python3"
  },
  "language_info": {
   "codemirror_mode": {
    "name": "ipython",
    "version": 3
   },
   "file_extension": ".py",
   "mimetype": "text/x-python",
   "name": "python",
   "nbconvert_exporter": "python",
   "pygments_lexer": "ipython3",
   "version": "3.5.2"
  }
 },
 "nbformat": 4,
 "nbformat_minor": 0
}
