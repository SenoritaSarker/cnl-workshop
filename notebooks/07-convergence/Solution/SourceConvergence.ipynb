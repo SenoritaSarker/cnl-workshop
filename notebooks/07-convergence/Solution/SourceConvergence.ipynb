{
 "cells": [
  {
   "cell_type": "markdown",
   "metadata": {},
   "source": [
    "# Source Convergence\n",
    "\n",
    "In this session, we demonstrate how to look at source convergence via a metric called Shannon entropy. Shannon entropy is a concept from information theory that characterizes how much \"information\" a bit stream stores. In the context of eigenvalue calculations, it has been shown that when a source distibution is discretized over a mesh, the entropy of the source probability converges as the distribution itself reaches stationarity.\n",
    "\n",
    "Shannon entropy is defined as\n",
    "\n",
    "$$ H = - \\sum_i p_i \\log_2 p_i $$\n",
    "\n",
    "where $p_i$ is the fraction of source particles in mesh cell $i$. The `Settings` object in OpenMC allows us to specify a mesh over which entropy should be calculated. Note that unlike MCNP, the entropy is not automatically calculated otherwise."
   ]
  },
  {
   "cell_type": "code",
   "execution_count": 1,
   "metadata": {
    "collapsed": true
   },
   "outputs": [],
   "source": [
    "%matplotlib inline\n",
    "import openmc\n",
    "import numpy as np\n",
    "import matplotlib.pyplot as plt"
   ]
  },
  {
   "cell_type": "markdown",
   "metadata": {},
   "source": [
    "In this notebook, rather than laboriously constructing inputs, we're going to use pre-generated inputs. A few classes have been defined in a script `inputs.py` that we will import. It is in a subdirectory, so we have to tell Python (via `sys.path`) that we want to be able to import modules from there."
   ]
  },
  {
   "cell_type": "code",
   "execution_count": 2,
   "metadata": {
    "collapsed": false
   },
   "outputs": [],
   "source": [
    "import sys\n",
    "sys.path.append('../..')\n",
    "from inputs import *"
   ]
  },
  {
   "cell_type": "markdown",
   "metadata": {},
   "source": [
    "The script defines three classes `CoreInputSet`, `AssemblyInputSet`, and `PinCellInputSet`. Each of these classes has `geometry`, `materials`, and `settings` attributes as well as an `export()` method that writes all the XML files. Let's create the core (which is based on the [OECD/NEA Performance Benchmark](https://www.oecd-nea.org/dbprog/documents/MonteCarlobenchmarkguideline_004.pdf)) model and export it to XML."
   ]
  },
  {
   "cell_type": "code",
   "execution_count": 3,
   "metadata": {
    "collapsed": false
   },
   "outputs": [],
   "source": [
    "core = CoreInputSet()\n",
    "core.export()"
   ]
  },
  {
   "cell_type": "markdown",
   "metadata": {},
   "source": [
    "We'll use the nifty `Plot.from_geometry` method to get a quick plot of the core. Note that you need to use a high resolution or else the plot will look weird."
   ]
  },
  {
   "cell_type": "code",
   "execution_count": 4,
   "metadata": {
    "collapsed": false
   },
   "outputs": [
    {
     "data": {
      "image/png": "[encoded data removed]",
      "text/plain": [
       "<IPython.core.display.Image object>"
      ]
     },
     "metadata": {},
     "output_type": "display_data"
    }
   ],
   "source": [
    "p = openmc.Plot.from_geometry(core.geometry)\n",
    "p.color_by = 'material'\n",
    "p.pixels = (1000, 1000)\n",
    "openmc.plot_inline(p)"
   ]
  },
  {
   "cell_type": "markdown",
   "metadata": {},
   "source": [
    "Ok, let's get down to business now. We'll need to create a `Mesh` object that will be used to count source particles over and calculate Shannon entropy. We'll take advantage of the fact that `Geometry` can tell us its bounding box, which we're going to use as the lower-left and upper-right coordinates of the mesh. Finally we'll make the mesh itself 10x10x10."
   ]
  },
  {
   "cell_type": "code",
   "execution_count": 5,
   "metadata": {
    "collapsed": false
   },
   "outputs": [
    {
     "data": {
      "text/plain": [
       "Mesh\n",
       "\tID             =\t10000\n",
       "\tName           =\t\n",
       "\tType           =\tregular\n",
       "\tBasis          =\t(10, 10, 10)\n",
       "\tWidth          =\t[-249. -249. -229.]\n",
       "\tOrigin         =\t[ 249.  249.  223.]\n",
       "\tPixels         =\tNone"
      ]
     },
     "execution_count": 5,
     "metadata": {},
     "output_type": "execute_result"
    }
   ],
   "source": [
    "entropy_mesh = openmc.Mesh()\n",
    "entropy_mesh.lower_left, entropy_mesh.upper_right = \\\n",
    "    core.geometry.bounding_box\n",
    "entropy_mesh.dimension = (10, 10, 10)\n",
    "entropy_mesh"
   ]
  },
  {
   "cell_type": "markdown",
   "metadata": {},
   "source": [
    "Now let's assign it to the `Settings` object, re-export the file, and run OpenMC."
   ]
  },
  {
   "cell_type": "code",
   "execution_count": 6,
   "metadata": {
    "collapsed": false
   },
   "outputs": [
    {
     "name": "stdout",
     "output_type": "stream",
     "text": [
      "\n",
      "                               %%%%%%%%%%%%%%%\n",
      "                          %%%%%%%%%%%%%%%%%%%%%%%%\n",
      "                       %%%%%%%%%%%%%%%%%%%%%%%%%%%%%%\n",
      "                     %%%%%%%%%%%%%%%%%%%%%%%%%%%%%%%%%%\n",
      "                   %%%%%%%%%%%%%%%%%%%%%%%%%%%%%%%%%%%%%%\n",
      "                  %%%%%%%%%%%%%%%%%%%%%%%%%%%%%%%%%%%%%%%%\n",
      "                                   %%%%%%%%%%%%%%%%%%%%%%%%\n",
      "                                    %%%%%%%%%%%%%%%%%%%%%%%%\n",
      "                ###############      %%%%%%%%%%%%%%%%%%%%%%%%\n",
      "               ##################     %%%%%%%%%%%%%%%%%%%%%%%\n",
      "               ###################     %%%%%%%%%%%%%%%%%%%%%%%\n",
      "               ####################     %%%%%%%%%%%%%%%%%%%%%%\n",
      "               #####################     %%%%%%%%%%%%%%%%%%%%%\n",
      "               ######################     %%%%%%%%%%%%%%%%%%%%\n",
      "               #######################     %%%%%%%%%%%%%%%%%%\n",
      "                #######################     %%%%%%%%%%%%%%%%%\n",
      "                ######################     %%%%%%%%%%%%%%%%%\n",
      "                 ####################     %%%%%%%%%%%%%%%%%\n",
      "                   #################     %%%%%%%%%%%%%%%%%\n",
      "                    ###############     %%%%%%%%%%%%%%%%\n",
      "                      ############     %%%%%%%%%%%%%%%\n",
      "                         ########     %%%%%%%%%%%%%%\n",
      "                                     %%%%%%%%%%%\n",
      "\n",
      "                   | The OpenMC Monte Carlo Code\n",
      "         Copyright | 2011-2017 Massachusetts Institute of Technology\n",
      "           License | http://openmc.readthedocs.io/en/latest/license.html\n",
      "           Version | 0.8.0\n",
      "          Git SHA1 | 561cf39b63b3f132bfa60427fe509b5d59f7a125\n",
      "         Date/Time | 2017-03-10 14:08:30\n",
      "    OpenMP Threads | 4\n",
      "\n",
      " Reading settings XML file...\n",
      " Reading geometry XML file...\n",
      " Reading materials XML file...\n",
      " Reading cross sections XML file...\n",
      " Reading U234 from /home/romano/openmc/scripts/nndc_hdf5/U234.h5\n",
      " Reading U235 from /home/romano/openmc/scripts/nndc_hdf5/U235.h5\n",
      " Reading U238 from /home/romano/openmc/scripts/nndc_hdf5/U238.h5\n",
      " Reading Xe135 from /home/romano/openmc/scripts/nndc_hdf5/Xe135.h5\n",
      " Reading O16 from /home/romano/openmc/scripts/nndc_hdf5/O16.h5\n",
      " Reading H1 from /home/romano/openmc/scripts/nndc_hdf5/H1.h5\n",
      " Reading B10 from /home/romano/openmc/scripts/nndc_hdf5/B10.h5\n",
      " Reading B11 from /home/romano/openmc/scripts/nndc_hdf5/B11.h5\n",
      " Reading Fe54 from /home/romano/openmc/scripts/nndc_hdf5/Fe54.h5\n",
      " Reading Fe56 from /home/romano/openmc/scripts/nndc_hdf5/Fe56.h5\n",
      " Reading Fe57 from /home/romano/openmc/scripts/nndc_hdf5/Fe57.h5\n",
      " Reading Fe58 from /home/romano/openmc/scripts/nndc_hdf5/Fe58.h5\n",
      " Reading Ni58 from /home/romano/openmc/scripts/nndc_hdf5/Ni58.h5\n",
      " Reading Mn55 from /home/romano/openmc/scripts/nndc_hdf5/Mn55.h5\n",
      " Reading Cr52 from /home/romano/openmc/scripts/nndc_hdf5/Cr52.h5\n",
      " Reading Zr90 from /home/romano/openmc/scripts/nndc_hdf5/Zr90.h5\n",
      " Reading Zr91 from /home/romano/openmc/scripts/nndc_hdf5/Zr91.h5\n",
      " Reading Zr92 from /home/romano/openmc/scripts/nndc_hdf5/Zr92.h5\n",
      " Reading Zr94 from /home/romano/openmc/scripts/nndc_hdf5/Zr94.h5\n",
      " Reading Zr96 from /home/romano/openmc/scripts/nndc_hdf5/Zr96.h5\n",
      " Reading Ni60 from /home/romano/openmc/scripts/nndc_hdf5/Ni60.h5\n",
      " Reading C0 from /home/romano/openmc/scripts/nndc_hdf5/C0.h5\n",
      " Reading Cu63 from /home/romano/openmc/scripts/nndc_hdf5/Cu63.h5\n",
      " Reading c_H_in_H2O from /home/romano/openmc/scripts/nndc_hdf5/c_H_in_H2O.h5\n",
      " Maximum neutron transport energy: 2.00000E+07 eV for U235\n",
      " Building neighboring cells lists for each surface...\n",
      " Initializing source particles...\n",
      "\n",
      " ====================>     K EIGENVALUE SIMULATION     <====================\n",
      "\n",
      "  Bat./Gen.      k       Entropy         Average k         \n",
      "  =========   ========   ========   ====================   \n",
      "        1/1    0.92323    7.84140                       \n",
      "        2/1    0.87024    7.69914                       \n",
      "        3/1    0.96117    7.59301                       \n",
      "        4/1    0.93216    7.49993                       \n",
      "        5/1    0.92924    7.45659                       \n",
      "        6/1    0.91299    7.44793                       \n",
      "        7/1    0.91182    7.38768                       \n",
      "        8/1    0.91805    7.39202                       \n",
      "        9/1    0.93141    7.38183                       \n",
      "       10/1    1.05780    7.40180                       \n",
      "       11/1    0.91361    7.38810                       \n",
      "       12/1    0.99380    7.42593                       \n",
      "       13/1    0.89475    7.37525                       \n",
      "       14/1    0.89805    7.29046                       \n",
      "       15/1    0.88736    7.30766                       \n",
      "       16/1    0.95302    7.31839                       \n",
      "       17/1    0.87443    7.29417                       \n",
      "       18/1    0.89076    7.25854                       \n",
      "       19/1    0.88467    7.29798                       \n",
      "       20/1    0.88712    7.19265                       \n",
      "       21/1    0.92832    7.32756                       \n",
      "       22/1    0.96185    7.32122                       \n",
      "       23/1    0.95426    7.28597                       \n",
      "       24/1    0.99275    7.29152                       \n",
      "       25/1    0.85501    7.29532                       \n",
      "       26/1    0.94781    7.21224                       \n",
      "       27/1    1.02244    7.23563                       \n",
      "       28/1    0.97413    7.21316                       \n",
      "       29/1    0.91400    7.11039                       \n",
      "       30/1    0.92553    7.16227                       \n",
      "       31/1    0.95316    7.15014                       \n",
      "       32/1    0.96629    7.13689                       \n",
      "       33/1    0.96315    7.11764                       \n",
      "       34/1    0.95777    7.02847                       \n",
      "       35/1    0.97625    6.97970                       \n",
      "       36/1    0.97291    7.11305                       \n",
      "       37/1    0.88268    7.00609                       \n",
      "       38/1    0.97169    7.05108                       \n",
      "       39/1    0.94490    7.05757                       \n",
      "       40/1    0.87141    7.00753                       \n",
      "       41/1    0.91973    6.98892                       \n",
      "       42/1    0.92144    7.02091                       \n",
      "       43/1    0.96520    6.96945                       \n",
      "       44/1    0.92050    6.95254                       \n",
      "       45/1    0.97440    7.03313                       \n",
      "       46/1    0.98951    7.04075                       \n",
      "       47/1    0.91267    7.02075                       \n",
      "       48/1    0.95531    7.09242                       \n",
      "       49/1    0.95678    7.08854                       \n",
      "       50/1    0.94163    7.05649                       \n",
      "       51/1    0.87876    7.07298                       \n",
      "       52/1    0.95112    7.04492    0.91494 +/- 0.03618\n",
      "       53/1    0.95800    6.98370    0.92929 +/- 0.02535\n",
      "       54/1    0.96481    7.00553    0.93817 +/- 0.02000\n",
      "       55/1    0.91330    7.02409    0.93320 +/- 0.01627\n",
      "       56/1    0.87317    7.00133    0.92319 +/- 0.01663\n",
      "       57/1    0.92449    7.06777    0.92338 +/- 0.01406\n",
      "       58/1    0.94623    7.07082    0.92623 +/- 0.01251\n",
      "       59/1    0.90626    7.03034    0.92401 +/- 0.01125\n",
      "       60/1    0.97156    7.10438    0.92877 +/- 0.01113\n",
      "       61/1    0.97957    7.04443    0.93339 +/- 0.01108\n",
      "       62/1    0.90650    7.01464    0.93115 +/- 0.01036\n",
      "       63/1    0.93541    6.93606    0.93147 +/- 0.00953\n",
      "       64/1    0.89789    7.01341    0.92908 +/- 0.00914\n",
      "       65/1    0.91694    6.89465    0.92827 +/- 0.00855\n",
      "       66/1    0.93901    7.04462    0.92894 +/- 0.00803\n",
      "       67/1    0.95121    6.90927    0.93025 +/- 0.00765\n",
      "       68/1    0.96931    6.87390    0.93242 +/- 0.00754\n",
      "       69/1    0.97629    6.89804    0.93473 +/- 0.00749\n",
      "       70/1    0.91719    6.82508    0.93385 +/- 0.00716\n",
      "       71/1    0.98949    6.88532    0.93650 +/- 0.00731\n",
      "       72/1    0.92558    6.87517    0.93600 +/- 0.00699\n",
      "       73/1    0.88742    6.92015    0.93389 +/- 0.00700\n",
      "       74/1    0.91757    6.96945    0.93321 +/- 0.00674\n",
      "       75/1    0.93999    6.90002    0.93348 +/- 0.00647\n",
      "       76/1    0.96360    6.84576    0.93464 +/- 0.00632\n",
      "       77/1    0.91846    6.83551    0.93404 +/- 0.00611\n",
      "       78/1    0.84463    6.87475    0.93085 +/- 0.00670\n",
      "       79/1    0.89686    6.79743    0.92968 +/- 0.00657\n",
      "       80/1    0.97053    6.85486    0.93104 +/- 0.00649\n",
      "       81/1    1.00294    6.93242    0.93336 +/- 0.00669\n",
      "       82/1    0.96174    6.94852    0.93424 +/- 0.00654\n",
      "       83/1    0.88063    7.01661    0.93262 +/- 0.00655\n",
      "       84/1    0.97490    6.90933    0.93386 +/- 0.00647\n",
      "       85/1    0.93203    6.93300    0.93381 +/- 0.00628\n",
      "       86/1    0.90252    6.99104    0.93294 +/- 0.00617\n",
      "       87/1    0.91865    7.03473    0.93256 +/- 0.00601\n",
      "       88/1    0.93451    6.98917    0.93261 +/- 0.00585\n",
      "       89/1    0.98517    6.99659    0.93395 +/- 0.00586\n",
      "       90/1    1.01005    6.99468    0.93586 +/- 0.00602\n",
      "       91/1    0.89936    6.97616    0.93497 +/- 0.00594\n",
      "       92/1    0.98657    6.99739    0.93620 +/- 0.00592\n",
      "       93/1    0.92111    6.89220    0.93584 +/- 0.00579\n",
      "       94/1    0.92979    6.86628    0.93571 +/- 0.00566\n",
      "       95/1    0.99005    7.00605    0.93691 +/- 0.00566\n",
      "       96/1    0.93815    6.90099    0.93694 +/- 0.00554\n",
      "       97/1    0.96350    6.88685    0.93751 +/- 0.00545\n",
      "       98/1    1.01653    6.90015    0.93915 +/- 0.00558\n",
      "       99/1    0.92077    6.98549    0.93878 +/- 0.00548\n",
      "      100/1    0.89015    7.01508    0.93781 +/- 0.00546\n",
      "      101/1    0.89100    6.93339    0.93689 +/- 0.00543\n",
      "      102/1    0.96594    6.87165    0.93745 +/- 0.00535\n",
      "      103/1    0.93488    6.85699    0.93740 +/- 0.00525\n",
      "      104/1    0.88979    6.94227    0.93652 +/- 0.00523\n",
      "      105/1    0.97087    6.87812    0.93714 +/- 0.00517\n",
      "      106/1    0.94020    6.82100    0.93720 +/- 0.00508\n",
      "      107/1    0.91475    6.98235    0.93680 +/- 0.00500\n",
      "      108/1    0.93457    6.92985    0.93676 +/- 0.00491\n",
      "      109/1    0.94552    6.95216    0.93691 +/- 0.00483\n",
      "      110/1    1.04202    6.88640    0.93866 +/- 0.00506\n",
      "      111/1    0.95478    6.92158    0.93893 +/- 0.00499\n",
      "      112/1    0.88757    6.88143    0.93810 +/- 0.00498\n",
      "      113/1    0.95818    6.86304    0.93842 +/- 0.00491\n",
      "      114/1    0.92602    6.90602    0.93822 +/- 0.00483\n",
      "      115/1    0.97305    6.91887    0.93876 +/- 0.00479\n",
      "      116/1    0.95766    6.90687    0.93905 +/- 0.00472\n",
      "      117/1    0.86174    6.95913    0.93789 +/- 0.00479\n",
      "      118/1    0.90129    6.99320    0.93735 +/- 0.00475\n",
      "      119/1    0.95417    7.06185    0.93760 +/- 0.00469\n",
      "      120/1    0.93498    7.13662    0.93756 +/- 0.00462\n",
      "      121/1    0.96326    7.11045    0.93792 +/- 0.00457\n",
      "      122/1    0.93889    7.09692    0.93794 +/- 0.00451\n",
      "      123/1    0.98797    7.07586    0.93862 +/- 0.00450\n",
      "      124/1    0.89726    7.07658    0.93806 +/- 0.00447\n",
      "      125/1    0.94019    7.09389    0.93809 +/- 0.00441\n",
      "      126/1    0.91079    7.07379    0.93773 +/- 0.00437\n",
      "      127/1    0.94355    7.06831    0.93781 +/- 0.00431\n",
      "      128/1    0.89856    6.99341    0.93730 +/- 0.00429\n",
      "      129/1    0.95261    6.96797    0.93750 +/- 0.00424\n",
      "      130/1    0.97257    6.97815    0.93794 +/- 0.00421\n",
      "      131/1    0.88552    6.89168    0.93729 +/- 0.00420\n",
      "      132/1    0.81248    6.94308    0.93577 +/- 0.00442\n",
      "      133/1    0.96170    6.95846    0.93608 +/- 0.00438\n",
      "      134/1    0.95397    7.04968    0.93629 +/- 0.00433\n",
      "      135/1    0.94851    7.01131    0.93644 +/- 0.00428\n",
      "      136/1    0.94407    6.94345    0.93653 +/- 0.00423\n",
      "      137/1    0.92018    6.98572    0.93634 +/- 0.00419\n",
      "      138/1    0.99386    7.01464    0.93699 +/- 0.00419\n",
      "      139/1    0.95264    7.01209    0.93717 +/- 0.00415\n",
      "      140/1    0.94344    7.02545    0.93724 +/- 0.00410\n",
      "      141/1    0.98200    7.04748    0.93773 +/- 0.00409\n",
      "      142/1    0.95830    7.11449    0.93795 +/- 0.00405\n",
      "      143/1    0.96364    7.14021    0.93823 +/- 0.00401\n",
      "      144/1    0.94201    7.13599    0.93827 +/- 0.00397\n",
      "      145/1    0.97873    7.08376    0.93869 +/- 0.00395\n",
      "      146/1    0.96694    7.02324    0.93899 +/- 0.00392\n",
      "      147/1    0.94387    6.98923    0.93904 +/- 0.00388\n",
      "      148/1    0.94308    7.00982    0.93908 +/- 0.00384\n",
      "      149/1    0.92750    7.10704    0.93896 +/- 0.00381\n",
      "      150/1    0.98682    7.18623    0.93944 +/- 0.00380\n",
      "      151/1    1.00025    7.15146    0.94004 +/- 0.00381\n",
      "      152/1    0.85271    7.15319    0.93919 +/- 0.00387\n",
      "      153/1    0.92506    7.15811    0.93905 +/- 0.00383\n",
      "      154/1    0.97301    7.28159    0.93938 +/- 0.00381\n",
      "      155/1    0.96469    7.21501    0.93962 +/- 0.00378\n",
      "      156/1    0.93284    7.13873    0.93955 +/- 0.00374\n",
      "      157/1    0.88850    7.19598    0.93908 +/- 0.00374\n",
      "      158/1    0.95008    7.18764    0.93918 +/- 0.00371\n",
      "      159/1    0.92731    7.14288    0.93907 +/- 0.00367\n",
      "      160/1    0.96619    7.21147    0.93932 +/- 0.00365\n",
      "      161/1    0.99348    7.15163    0.93980 +/- 0.00365\n",
      "      162/1    0.92663    7.17949    0.93969 +/- 0.00362\n",
      "      163/1    0.96848    7.15965    0.93994 +/- 0.00359\n",
      "      164/1    0.90040    7.19344    0.93959 +/- 0.00358\n",
      "      165/1    0.93091    7.12058    0.93952 +/- 0.00355\n",
      "      166/1    0.93947    7.05003    0.93952 +/- 0.00352\n",
      "      167/1    0.96979    7.13246    0.93978 +/- 0.00350\n",
      "      168/1    0.92738    7.08278    0.93967 +/- 0.00347\n",
      "      169/1    0.93892    7.13044    0.93967 +/- 0.00344\n",
      "      170/1    0.94955    7.21104    0.93975 +/- 0.00341\n",
      "      171/1    0.96245    7.19653    0.93994 +/- 0.00339\n",
      "      172/1    0.94671    7.18809    0.93999 +/- 0.00336\n",
      "      173/1    0.89086    7.19836    0.93959 +/- 0.00336\n",
      "      174/1    0.95889    7.10905    0.93975 +/- 0.00333\n",
      "      175/1    0.95559    7.19317    0.93987 +/- 0.00331\n",
      "      176/1    0.95136    7.08616    0.93997 +/- 0.00329\n",
      "      177/1    1.03769    7.13840    0.94074 +/- 0.00335\n",
      "      178/1    0.95532    7.18889    0.94085 +/- 0.00332\n",
      "      179/1    0.96710    7.11108    0.94105 +/- 0.00330\n",
      "      180/1    0.93170    7.08141    0.94098 +/- 0.00328\n",
      "      181/1    1.01199    7.05887    0.94152 +/- 0.00330\n",
      "      182/1    0.93060    7.07388    0.94144 +/- 0.00328\n",
      "      183/1    0.95291    7.14424    0.94153 +/- 0.00325\n",
      "      184/1    0.94529    7.04226    0.94155 +/- 0.00323\n",
      "      185/1    0.90170    7.12607    0.94126 +/- 0.00322\n",
      "      186/1    0.88834    7.12791    0.94087 +/- 0.00322\n",
      "      187/1    0.92784    7.09452    0.94077 +/- 0.00320\n",
      "      188/1    0.92411    7.03084    0.94065 +/- 0.00317\n",
      "      189/1    0.90143    7.01176    0.94037 +/- 0.00316\n",
      "      190/1    0.94447    7.08036    0.94040 +/- 0.00314\n",
      "      191/1    0.92460    7.13142    0.94029 +/- 0.00312\n",
      "      192/1    0.90751    7.19930    0.94006 +/- 0.00311\n",
      "      193/1    0.91754    7.19193    0.93990 +/- 0.00309\n",
      "      194/1    0.90594    7.14213    0.93966 +/- 0.00308\n",
      "      195/1    1.00095    7.08984    0.94009 +/- 0.00309\n",
      "      196/1    0.94126    7.05852    0.94010 +/- 0.00306\n",
      "      197/1    1.02905    7.06338    0.94070 +/- 0.00310\n",
      "      198/1    0.82274    7.08892    0.93990 +/- 0.00318\n",
      "      199/1    0.92465    7.04371    0.93980 +/- 0.00316\n",
      "      200/1    0.91577    7.03916    0.93964 +/- 0.00315\n",
      " Creating state point statepoint.200.h5...\n",
      "\n",
      " =======================>     TIMING STATISTICS     <=======================\n",
      "\n",
      " Total time for initialization     =  3.4491E+00 seconds\n",
      "   Reading cross sections          =  3.3594E+00 seconds\n",
      " Total time in simulation          =  1.0822E+01 seconds\n",
      "   Time in transport only          =  1.0206E+01 seconds\n",
      "   Time in inactive batches        =  3.5583E+00 seconds\n",
      "   Time in active batches          =  7.2638E+00 seconds\n",
      "   Time synchronizing fission bank =  4.5730E-03 seconds\n",
      "     Sampling source sites         =  3.0071E-03 seconds\n",
      "     SEND/RECV source sites        =  1.3964E-03 seconds\n",
      "   Time accumulating tallies       =  1.1274E-04 seconds\n",
      " Total time for finalization       =  2.1450E-06 seconds\n",
      " Total time elapsed                =  1.4278E+01 seconds\n",
      " Calculation Rate (inactive)       =  14051.7 neutrons/second\n",
      " Calculation Rate (active)         =  20650.4 neutrons/second\n",
      "\n",
      " ============================>     RESULTS     <============================\n",
      "\n",
      " k-effective (Collision)     =  0.94058 +/-  0.00252\n",
      " k-effective (Track-length)  =  0.93964 +/-  0.00315\n",
      " k-effective (Absorption)    =  0.94578 +/-  0.00253\n",
      " Combined k-effective        =  0.94308 +/-  0.00206\n",
      " Leakage Fraction            =  0.00007 +/-  0.00002\n",
      "\n"
     ]
    },
    {
     "data": {
      "text/plain": [
       "0"
      ]
     },
     "execution_count": 6,
     "metadata": {},
     "output_type": "execute_result"
    }
   ],
   "source": [
    "core.settings.entropy_mesh = entropy_mesh\n",
    "core.settings.export_to_xml()\n",
    "openmc.run()"
   ]
  },
  {
   "cell_type": "markdown",
   "metadata": {},
   "source": [
    "Great! We can see in the standard out that entropy was calculated. Now we'd like to see what it actually looks like to decide if we skipped enough generations. First, how many generations did we skip?"
   ]
  },
  {
   "cell_type": "code",
   "execution_count": 7,
   "metadata": {
    "collapsed": false
   },
   "outputs": [
    {
     "data": {
      "text/plain": [
       "50"
      ]
     },
     "execution_count": 7,
     "metadata": {},
     "output_type": "execute_result"
    }
   ],
   "source": [
    "core.settings.inactive"
   ]
  },
  {
   "cell_type": "markdown",
   "metadata": {},
   "source": [
    "Ok, so we want to make sure our entropy is settled by generation 50. Let's plot it from the statepoint file."
   ]
  },
  {
   "cell_type": "code",
   "execution_count": 8,
   "metadata": {
    "collapsed": false
   },
   "outputs": [
    {
     "data": {
      "text/plain": [
       "[<matplotlib.lines.Line2D at 0x7f5b76a5d2b0>]"
      ]
     },
     "execution_count": 8,
     "metadata": {},
     "output_type": "execute_result"
    },
    {
     "data": {
      "image/png": "[encoded data removed]",
      "text/plain": [
       "<matplotlib.figure.Figure at 0x7f5b790047b8>"
      ]
     },
     "metadata": {},
     "output_type": "display_data"
    }
   ],
   "source": [
    "sp = openmc.StatePoint('statepoint.200.h5')\n",
    "plt.plot(range(sp.n_batches), sp.entropy)"
   ]
  },
  {
   "cell_type": "markdown",
   "metadata": {},
   "source": [
    "It looks like we were justified by discarded 50 batches, but it's not clear because the entropy jumps around a lot. We can make it smoother by running more particles per generation."
   ]
  },
  {
   "cell_type": "code",
   "execution_count": 9,
   "metadata": {
    "collapsed": false
   },
   "outputs": [
    {
     "data": {
      "text/plain": [
       "1000"
      ]
     },
     "execution_count": 9,
     "metadata": {},
     "output_type": "execute_result"
    }
   ],
   "source": [
    "core.settings.particles"
   ]
  },
  {
   "cell_type": "markdown",
   "metadata": {},
   "source": [
    "Let's bump up the number of particles per generation by a factor of 10 and re-run OpenMC."
   ]
  },
  {
   "cell_type": "code",
   "execution_count": 10,
   "metadata": {
    "collapsed": false
   },
   "outputs": [
    {
     "name": "stdout",
     "output_type": "stream",
     "text": [
      "\n",
      "                               %%%%%%%%%%%%%%%\n",
      "                          %%%%%%%%%%%%%%%%%%%%%%%%\n",
      "                       %%%%%%%%%%%%%%%%%%%%%%%%%%%%%%\n",
      "                     %%%%%%%%%%%%%%%%%%%%%%%%%%%%%%%%%%\n",
      "                   %%%%%%%%%%%%%%%%%%%%%%%%%%%%%%%%%%%%%%\n",
      "                  %%%%%%%%%%%%%%%%%%%%%%%%%%%%%%%%%%%%%%%%\n",
      "                                   %%%%%%%%%%%%%%%%%%%%%%%%\n",
      "                                    %%%%%%%%%%%%%%%%%%%%%%%%\n",
      "                ###############      %%%%%%%%%%%%%%%%%%%%%%%%\n",
      "               ##################     %%%%%%%%%%%%%%%%%%%%%%%\n",
      "               ###################     %%%%%%%%%%%%%%%%%%%%%%%\n",
      "               ####################     %%%%%%%%%%%%%%%%%%%%%%\n",
      "               #####################     %%%%%%%%%%%%%%%%%%%%%\n",
      "               ######################     %%%%%%%%%%%%%%%%%%%%\n",
      "               #######################     %%%%%%%%%%%%%%%%%%\n",
      "                #######################     %%%%%%%%%%%%%%%%%\n",
      "                ######################     %%%%%%%%%%%%%%%%%\n",
      "                 ####################     %%%%%%%%%%%%%%%%%\n",
      "                   #################     %%%%%%%%%%%%%%%%%\n",
      "                    ###############     %%%%%%%%%%%%%%%%\n",
      "                      ############     %%%%%%%%%%%%%%%\n",
      "                         ########     %%%%%%%%%%%%%%\n",
      "                                     %%%%%%%%%%%\n",
      "\n",
      "                   | The OpenMC Monte Carlo Code\n",
      "         Copyright | 2011-2017 Massachusetts Institute of Technology\n",
      "           License | http://openmc.readthedocs.io/en/latest/license.html\n",
      "           Version | 0.8.0\n",
      "          Git SHA1 | 561cf39b63b3f132bfa60427fe509b5d59f7a125\n",
      "         Date/Time | 2017-03-10 14:08:45\n",
      "    OpenMP Threads | 4\n",
      "\n",
      " Reading settings XML file...\n",
      " Reading geometry XML file...\n",
      " Reading materials XML file...\n",
      " Reading cross sections XML file...\n",
      " Reading U234 from /home/romano/openmc/scripts/nndc_hdf5/U234.h5\n",
      " Reading U235 from /home/romano/openmc/scripts/nndc_hdf5/U235.h5\n",
      " Reading U238 from /home/romano/openmc/scripts/nndc_hdf5/U238.h5\n",
      " Reading Xe135 from /home/romano/openmc/scripts/nndc_hdf5/Xe135.h5\n",
      " Reading O16 from /home/romano/openmc/scripts/nndc_hdf5/O16.h5\n",
      " Reading H1 from /home/romano/openmc/scripts/nndc_hdf5/H1.h5\n",
      " Reading B10 from /home/romano/openmc/scripts/nndc_hdf5/B10.h5\n",
      " Reading B11 from /home/romano/openmc/scripts/nndc_hdf5/B11.h5\n",
      " Reading Fe54 from /home/romano/openmc/scripts/nndc_hdf5/Fe54.h5\n",
      " Reading Fe56 from /home/romano/openmc/scripts/nndc_hdf5/Fe56.h5\n",
      " Reading Fe57 from /home/romano/openmc/scripts/nndc_hdf5/Fe57.h5\n",
      " Reading Fe58 from /home/romano/openmc/scripts/nndc_hdf5/Fe58.h5\n",
      " Reading Ni58 from /home/romano/openmc/scripts/nndc_hdf5/Ni58.h5\n",
      " Reading Mn55 from /home/romano/openmc/scripts/nndc_hdf5/Mn55.h5\n",
      " Reading Cr52 from /home/romano/openmc/scripts/nndc_hdf5/Cr52.h5\n",
      " Reading Zr90 from /home/romano/openmc/scripts/nndc_hdf5/Zr90.h5\n",
      " Reading Zr91 from /home/romano/openmc/scripts/nndc_hdf5/Zr91.h5\n",
      " Reading Zr92 from /home/romano/openmc/scripts/nndc_hdf5/Zr92.h5\n",
      " Reading Zr94 from /home/romano/openmc/scripts/nndc_hdf5/Zr94.h5\n",
      " Reading Zr96 from /home/romano/openmc/scripts/nndc_hdf5/Zr96.h5\n",
      " Reading Ni60 from /home/romano/openmc/scripts/nndc_hdf5/Ni60.h5\n",
      " Reading C0 from /home/romano/openmc/scripts/nndc_hdf5/C0.h5\n",
      " Reading Cu63 from /home/romano/openmc/scripts/nndc_hdf5/Cu63.h5\n",
      " Reading c_H_in_H2O from /home/romano/openmc/scripts/nndc_hdf5/c_H_in_H2O.h5\n",
      " Maximum neutron transport energy: 2.00000E+07 eV for U235\n",
      " Building neighboring cells lists for each surface...\n",
      " Initializing source particles...\n",
      "\n",
      " ====================>     K EIGENVALUE SIMULATION     <====================\n",
      "\n",
      "  Bat./Gen.      k       Entropy         Average k         \n",
      "  =========   ========   ========   ====================   \n",
      "        1/1    0.86151    8.50470                       \n",
      "        2/1    0.94300    8.47201                       \n",
      "        3/1    0.92625    8.46937                       \n",
      "        4/1    0.94169    8.44113                       \n",
      "        5/1    0.92255    8.40411                       \n",
      "        6/1    0.94724    8.39867                       \n",
      "        7/1    0.92093    8.35912                       \n",
      "        8/1    0.94340    8.37236                       \n",
      "        9/1    0.91916    8.36703                       \n",
      "       10/1    0.93585    8.33228                       \n",
      "       11/1    0.93056    8.30332                       \n",
      "       12/1    0.94940    8.29111                       \n",
      "       13/1    0.92300    8.25719                       \n",
      "       14/1    0.93733    8.26129                       \n",
      "       15/1    0.94452    8.23949                       \n",
      "       16/1    0.93413    8.22819                       \n",
      "       17/1    0.93632    8.22250                       \n",
      "       18/1    0.94168    8.21615                       \n",
      "       19/1    0.94303    8.20270                       \n",
      "       20/1    0.93103    8.21503                       \n",
      "       21/1    0.93380    8.22011                       \n",
      "       22/1    0.93551    8.19436                       \n",
      "       23/1    0.92712    8.17392                       \n",
      "       24/1    0.94175    8.16471                       \n",
      "       25/1    0.94006    8.15729                       \n",
      "       26/1    0.95094    8.13087                       \n",
      "       27/1    0.95960    8.13558                       \n",
      "       28/1    0.93224    8.11196                       \n",
      "       29/1    0.95939    8.10937                       \n",
      "       30/1    0.93110    8.12083                       \n",
      "       31/1    0.95219    8.11361                       \n",
      "       32/1    0.93526    8.11395                       \n",
      "       33/1    0.93436    8.10838                       \n",
      "       34/1    0.95266    8.10181                       \n",
      "       35/1    0.95592    8.12011                       \n",
      "       36/1    0.95511    8.12979                       \n",
      "       37/1    0.94349    8.13426                       \n",
      "       38/1    0.93352    8.10183                       \n",
      "       39/1    0.94278    8.09394                       \n",
      "       40/1    0.96598    8.10087                       \n",
      "       41/1    0.94793    8.09025                       \n",
      "       42/1    0.93743    8.06072                       \n",
      "       43/1    0.94396    8.05250                       \n",
      "       44/1    0.96026    8.07358                       \n",
      "       45/1    0.94285    8.08471                       \n",
      "       46/1    0.94102    8.08252                       \n",
      "       47/1    0.95246    8.08616                       \n",
      "       48/1    0.95708    8.09472                       \n",
      "       49/1    0.93082    8.07178                       \n",
      "       50/1    0.95148    8.06269                       \n",
      "       51/1    0.93041    8.04504                       \n",
      "       52/1    0.96608    8.08221    0.94824 +/- 0.01783\n",
      "       53/1    0.94729    8.09334    0.94793 +/- 0.01030\n",
      "       54/1    0.94791    8.09775    0.94792 +/- 0.00728\n",
      "       55/1    0.95554    8.09464    0.94945 +/- 0.00584\n",
      "       56/1    0.94111    8.07895    0.94806 +/- 0.00497\n",
      "       57/1    0.95832    8.07230    0.94952 +/- 0.00445\n",
      "       58/1    0.95084    8.07712    0.94969 +/- 0.00386\n",
      "       59/1    0.96421    8.03365    0.95130 +/- 0.00376\n",
      "       60/1    0.95347    8.05759    0.95152 +/- 0.00337\n",
      "       61/1    0.96123    8.06593    0.95240 +/- 0.00318\n",
      "       62/1    0.93994    8.07075    0.95136 +/- 0.00308\n",
      "       63/1    0.93992    8.05423    0.95048 +/- 0.00297\n",
      "       64/1    0.94681    8.05904    0.95022 +/- 0.00276\n",
      "       65/1    0.92585    8.03135    0.94860 +/- 0.00304\n",
      "       66/1    0.95229    8.04157    0.94883 +/- 0.00285\n",
      "       67/1    0.96143    7.99839    0.94957 +/- 0.00278\n",
      "       68/1    0.96176    8.01888    0.95024 +/- 0.00271\n",
      "       69/1    0.94406    8.03072    0.94992 +/- 0.00258\n",
      "       70/1    0.93677    8.02172    0.94926 +/- 0.00254\n",
      "       71/1    0.94731    8.01419    0.94917 +/- 0.00241\n",
      "       72/1    0.93450    8.02531    0.94850 +/- 0.00240\n",
      "       73/1    0.95712    8.03156    0.94888 +/- 0.00232\n",
      "       74/1    0.95203    8.04210    0.94901 +/- 0.00222\n",
      "       75/1    0.93593    8.02787    0.94849 +/- 0.00220\n",
      "       76/1    0.93476    8.03257    0.94796 +/- 0.00218\n",
      "       77/1    0.92310    8.03655    0.94704 +/- 0.00229\n",
      "       78/1    0.94179    8.05043    0.94685 +/- 0.00221\n",
      "       79/1    0.93480    8.03036    0.94643 +/- 0.00217\n",
      "       80/1    0.94713    8.01840    0.94646 +/- 0.00210\n",
      "       81/1    0.95393    8.05627    0.94670 +/- 0.00205\n",
      "       82/1    0.92788    8.04889    0.94611 +/- 0.00207\n",
      "       83/1    0.94125    8.05982    0.94596 +/- 0.00201\n",
      "       84/1    0.93836    8.02808    0.94574 +/- 0.00196\n",
      "       85/1    0.92968    8.04382    0.94528 +/- 0.00196\n",
      "       86/1    0.93972    8.06338    0.94513 +/- 0.00191\n",
      "       87/1    0.94643    8.05493    0.94516 +/- 0.00186\n",
      "       88/1    0.92939    8.03831    0.94475 +/- 0.00186\n",
      "       89/1    0.95014    8.03890    0.94488 +/- 0.00181\n",
      "       90/1    0.95108    8.02417    0.94504 +/- 0.00177\n",
      "       91/1    0.94491    8.01057    0.94504 +/- 0.00173\n",
      "       92/1    0.94901    8.00217    0.94513 +/- 0.00169\n",
      "       93/1    0.94488    7.98972    0.94512 +/- 0.00165\n",
      "       94/1    0.94334    7.96592    0.94508 +/- 0.00161\n",
      "       95/1    0.97894    7.98348    0.94584 +/- 0.00175\n",
      "       96/1    0.96581    7.99895    0.94627 +/- 0.00176\n",
      "       97/1    0.95372    8.00728    0.94643 +/- 0.00173\n",
      "       98/1    0.94419    8.02566    0.94638 +/- 0.00170\n",
      "       99/1    0.92991    8.01738    0.94605 +/- 0.00170\n",
      "      100/1    0.94650    7.96669    0.94606 +/- 0.00166\n",
      "      101/1    0.94915    7.98767    0.94612 +/- 0.00163\n",
      "      102/1    0.92596    7.98170    0.94573 +/- 0.00164\n",
      "      103/1    0.93764    7.97146    0.94558 +/- 0.00162\n",
      "      104/1    0.94178    7.97491    0.94551 +/- 0.00159\n",
      "      105/1    0.93493    7.97373    0.94531 +/- 0.00157\n",
      "      106/1    0.95522    7.96561    0.94549 +/- 0.00156\n",
      "      107/1    0.95398    7.97290    0.94564 +/- 0.00154\n",
      "      108/1    0.95580    7.94092    0.94581 +/- 0.00152\n",
      "      109/1    0.94576    7.93140    0.94581 +/- 0.00149\n",
      "      110/1    0.95696    7.97571    0.94600 +/- 0.00148\n",
      "      111/1    0.94969    7.99672    0.94606 +/- 0.00146\n",
      "      112/1    0.95040    7.97064    0.94613 +/- 0.00143\n",
      "      113/1    0.94389    7.97102    0.94609 +/- 0.00141\n",
      "      114/1    0.94554    7.96633    0.94609 +/- 0.00139\n",
      "      115/1    0.94174    7.97953    0.94602 +/- 0.00137\n",
      "      116/1    0.93828    7.97380    0.94590 +/- 0.00135\n",
      "      117/1    0.93032    7.97396    0.94567 +/- 0.00135\n",
      "      118/1    0.97057    7.95237    0.94603 +/- 0.00138\n",
      "      119/1    0.96066    7.94232    0.94625 +/- 0.00138\n",
      "      120/1    0.93048    7.92279    0.94602 +/- 0.00138\n",
      "      121/1    0.95103    7.91726    0.94609 +/- 0.00136\n",
      "      122/1    0.95640    7.91227    0.94624 +/- 0.00135\n",
      "      123/1    0.94630    7.91691    0.94624 +/- 0.00133\n",
      "      124/1    0.92990    7.89372    0.94602 +/- 0.00133\n",
      "      125/1    0.95224    7.90437    0.94610 +/- 0.00132\n",
      "      126/1    0.95401    7.89039    0.94620 +/- 0.00130\n",
      "      127/1    0.95826    7.88023    0.94636 +/- 0.00129\n",
      "      128/1    0.95329    7.87716    0.94645 +/- 0.00128\n",
      "      129/1    0.95681    7.89813    0.94658 +/- 0.00127\n",
      "      130/1    0.96057    7.89135    0.94675 +/- 0.00127\n",
      "      131/1    0.97689    7.89606    0.94713 +/- 0.00131\n",
      "      132/1    0.95335    7.89543    0.94720 +/- 0.00129\n",
      "      133/1    0.92766    7.89422    0.94697 +/- 0.00130\n",
      "      134/1    0.95869    7.90350    0.94711 +/- 0.00129\n",
      "      135/1    0.93572    7.90001    0.94697 +/- 0.00128\n",
      "      136/1    0.93378    7.88278    0.94682 +/- 0.00128\n",
      "      137/1    0.96020    7.88467    0.94697 +/- 0.00127\n",
      "      138/1    0.96186    7.89765    0.94714 +/- 0.00127\n",
      "      139/1    0.95257    7.90401    0.94720 +/- 0.00125\n",
      "      140/1    0.93107    7.87811    0.94702 +/- 0.00125\n",
      "      141/1    0.96358    7.89743    0.94721 +/- 0.00125\n",
      "      142/1    0.96496    7.88000    0.94740 +/- 0.00125\n",
      "      143/1    0.94752    7.88095    0.94740 +/- 0.00124\n",
      "      144/1    0.93397    7.84362    0.94726 +/- 0.00124\n",
      "      145/1    0.93420    7.84306    0.94712 +/- 0.00123\n",
      "      146/1    0.95276    7.83757    0.94718 +/- 0.00122\n",
      "      147/1    0.96924    7.83783    0.94741 +/- 0.00123\n",
      "      148/1    0.96292    7.84015    0.94756 +/- 0.00122\n",
      "      149/1    0.93556    7.84565    0.94744 +/- 0.00122\n",
      "      150/1    0.92146    7.87900    0.94718 +/- 0.00123\n",
      "      151/1    0.94486    7.86534    0.94716 +/- 0.00122\n",
      "      152/1    0.93174    7.84720    0.94701 +/- 0.00122\n",
      "      153/1    0.95924    7.83988    0.94713 +/- 0.00121\n",
      "      154/1    0.96010    7.87029    0.94725 +/- 0.00121\n",
      "      155/1    0.94824    7.86860    0.94726 +/- 0.00120\n",
      "      156/1    0.95247    7.87294    0.94731 +/- 0.00119\n",
      "      157/1    0.93984    7.87346    0.94724 +/- 0.00118\n",
      "      158/1    0.95258    7.87919    0.94729 +/- 0.00117\n",
      "      159/1    0.96319    7.89146    0.94744 +/- 0.00117\n",
      "      160/1    0.92802    7.87851    0.94726 +/- 0.00117\n",
      "      161/1    0.94557    7.89594    0.94724 +/- 0.00116\n",
      "      162/1    0.93742    7.89748    0.94716 +/- 0.00115\n",
      "      163/1    0.93631    7.90038    0.94706 +/- 0.00114\n",
      "      164/1    0.94283    7.88577    0.94702 +/- 0.00114\n",
      "      165/1    0.95261    7.89202    0.94707 +/- 0.00113\n",
      "      166/1    0.93947    7.92948    0.94701 +/- 0.00112\n",
      "      167/1    0.95855    7.92158    0.94711 +/- 0.00111\n",
      "      168/1    0.93771    7.91077    0.94703 +/- 0.00111\n",
      "      169/1    0.96253    7.88178    0.94716 +/- 0.00110\n",
      "      170/1    0.94651    7.92642    0.94715 +/- 0.00110\n",
      "      171/1    0.93544    7.93294    0.94705 +/- 0.00109\n",
      "      172/1    0.96264    7.93580    0.94718 +/- 0.00109\n",
      "      173/1    0.95254    7.93498    0.94723 +/- 0.00108\n",
      "      174/1    0.94813    7.92173    0.94723 +/- 0.00107\n",
      "      175/1    0.96355    7.93385    0.94736 +/- 0.00107\n",
      "      176/1    0.95084    7.93341    0.94739 +/- 0.00106\n",
      "      177/1    0.95397    7.93343    0.94744 +/- 0.00106\n",
      "      178/1    0.96624    7.93011    0.94759 +/- 0.00106\n",
      "      179/1    0.93413    7.88922    0.94749 +/- 0.00106\n",
      "      180/1    0.95442    7.89144    0.94754 +/- 0.00105\n",
      "      181/1    0.92695    7.87231    0.94738 +/- 0.00105\n",
      "      182/1    0.93156    7.90420    0.94726 +/- 0.00105\n",
      "      183/1    0.94644    7.88383    0.94726 +/- 0.00104\n",
      "      184/1    0.94913    7.88396    0.94727 +/- 0.00104\n",
      "      185/1    0.94220    7.84255    0.94723 +/- 0.00103\n",
      "      186/1    0.96113    7.85529    0.94733 +/- 0.00103\n",
      "      187/1    0.95587    7.85313    0.94740 +/- 0.00102\n",
      "      188/1    0.94926    7.84382    0.94741 +/- 0.00101\n",
      "      189/1    0.95593    7.85553    0.94747 +/- 0.00101\n",
      "      190/1    0.96265    7.84402    0.94758 +/- 0.00101\n",
      "      191/1    0.93416    7.82982    0.94748 +/- 0.00100\n",
      "      192/1    0.93438    7.85851    0.94739 +/- 0.00100\n",
      "      193/1    0.95346    7.85170    0.94743 +/- 0.00099\n",
      "      194/1    0.96396    7.86307    0.94755 +/- 0.00099\n",
      "      195/1    0.95504    7.83710    0.94760 +/- 0.00099\n",
      "      196/1    0.96249    7.87430    0.94770 +/- 0.00099\n",
      "      197/1    0.95143    7.86214    0.94773 +/- 0.00098\n",
      "      198/1    0.95773    7.85205    0.94780 +/- 0.00098\n",
      "      199/1    0.94075    7.87109    0.94775 +/- 0.00097\n",
      "      200/1    0.93621    7.88811    0.94767 +/- 0.00097\n",
      " Creating state point statepoint.200.h5...\n",
      "\n",
      " =======================>     TIMING STATISTICS     <=======================\n",
      "\n",
      " Total time for initialization     =  4.4588E+00 seconds\n",
      "   Reading cross sections          =  4.3785E+00 seconds\n",
      " Total time in simulation          =  1.0633E+02 seconds\n",
      "   Time in transport only          =  1.0559E+02 seconds\n",
      "   Time in inactive batches        =  2.7730E+01 seconds\n",
      "   Time in active batches          =  7.8598E+01 seconds\n",
      "   Time synchronizing fission bank =  5.6336E-02 seconds\n",
      "     Sampling source sites         =  3.6866E-02 seconds\n",
      "     SEND/RECV source sites        =  1.9209E-02 seconds\n",
      "   Time accumulating tallies       =  1.3871E-04 seconds\n",
      " Total time for finalization       =  7.2500E-07 seconds\n",
      " Total time elapsed                =  1.1082E+02 seconds\n",
      " Calculation Rate (inactive)       =  18031.2 neutrons/second\n",
      " Calculation Rate (active)         =  19084.4 neutrons/second\n",
      "\n",
      " ============================>     RESULTS     <============================\n",
      "\n",
      " k-effective (Collision)     =  0.94666 +/-  0.00086\n",
      " k-effective (Track-length)  =  0.94767 +/-  0.00097\n",
      " k-effective (Absorption)    =  0.94614 +/-  0.00086\n",
      " Combined k-effective        =  0.94667 +/-  0.00071\n",
      " Leakage Fraction            =  0.00005 +/-  0.00001\n",
      "\n"
     ]
    },
    {
     "data": {
      "text/plain": [
       "0"
      ]
     },
     "execution_count": 10,
     "metadata": {},
     "output_type": "execute_result"
    }
   ],
   "source": [
    "core.settings.particles = 10000\n",
    "core.settings.export_to_xml()\n",
    "openmc.run()"
   ]
  },
  {
   "cell_type": "markdown",
   "metadata": {},
   "source": [
    "And now plot the entropy once again:"
   ]
  },
  {
   "cell_type": "code",
   "execution_count": 11,
   "metadata": {
    "collapsed": false
   },
   "outputs": [
    {
     "data": {
      "text/plain": [
       "[<matplotlib.lines.Line2D at 0x7f5b76580be0>]"
      ]
     },
     "execution_count": 11,
     "metadata": {},
     "output_type": "execute_result"
    },
    {
     "data": {
      "image/png": "[encoded data removed]",
      "text/plain": [
       "<matplotlib.figure.Figure at 0x7f5b76a47ef0>"
      ]
     },
     "metadata": {},
     "output_type": "display_data"
    }
   ],
   "source": [
    "sp = openmc.StatePoint('statepoint.200.h5')\n",
    "plt.plot(range(sp.n_batches), sp.entropy)"
   ]
  },
  {
   "cell_type": "markdown",
   "metadata": {},
   "source": [
    "It seems clearer now when we ran with 10,000 particles per generation that we're probably not discarding enough generations to begin with!"
   ]
  }
 ],
 "metadata": {
  "anaconda-cloud": {},
  "kernelspec": {
   "display_name": "Python [default]",
   "language": "python",
   "name": "python3"
  },
  "language_info": {
   "codemirror_mode": {
    "name": "ipython",
    "version": 3
   },
   "file_extension": ".py",
   "mimetype": "text/x-python",
   "name": "python",
   "nbconvert_exporter": "python",
   "pygments_lexer": "ipython3",
   "version": "3.5.2"
  }
 },
 "nbformat": 4,
 "nbformat_minor": 2
}
