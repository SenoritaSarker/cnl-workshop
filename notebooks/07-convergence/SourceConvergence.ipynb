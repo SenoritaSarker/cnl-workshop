{
 "cells": [
  {
   "cell_type": "markdown",
   "metadata": {},
   "source": [
    "# Source Convergence\n",
    "\n",
    "In this session, we demonstrate how to look at source convergence via a metric called Shannon entropy. Shannon entropy is a concept from information theory that characterizes how much \"information\" a bit stream stores. In the context of eigenvalue calculations, it has been shown that when a source distibution is discretized over a mesh, the entropy of the source probability converges as the distribution itself reaches stationarity.\n",
    "\n",
    "Shannon entropy is defined as\n",
    "\n",
    "$$ H = - \\sum_i p_i \\log_2 p_i $$\n",
    "\n",
    "where $p_i$ is the fraction of source particles in mesh cell $i$. The `Settings` object in OpenMC allows us to specify a mesh over which entropy should be calculated. Note that unlike MCNP, the entropy is not automatically calculated otherwise."
   ]
  },
  {
   "cell_type": "code",
   "execution_count": null,
   "metadata": {
    "collapsed": true
   },
   "outputs": [],
   "source": [
    "%matplotlib inline\n",
    "import openmc\n",
    "import numpy as np\n",
    "import matplotlib.pyplot as plt"
   ]
  },
  {
   "cell_type": "markdown",
   "metadata": {},
   "source": [
    "In this notebook, rather than laboriously constructing inputs, we're going to use pre-generated inputs. A few classes have been defined in a script `inputs.py` that we will import. It is in a subdirectory, so we have to tell Python (via `sys.path`) that we want to be able to import modules from there."
   ]
  },
  {
   "cell_type": "code",
   "execution_count": null,
   "metadata": {
    "collapsed": false
   },
   "outputs": [],
   "source": [
    "import sys\n",
    "sys.path.append('..')\n",
    "from inputs import *"
   ]
  },
  {
   "cell_type": "markdown",
   "metadata": {},
   "source": [
    "The script defines three classes `CoreInputSet`, `AssemblyInputSet`, and `PinCellInputSet`. Each of these classes has `geometry`, `materials`, and `settings` attributes as well as an `export()` method that writes all the XML files. Let's create the core (which is based on the [OECD/NEA Performance Benchmark](https://www.oecd-nea.org/dbprog/documents/MonteCarlobenchmarkguideline_004.pdf)) model and export it to XML."
   ]
  },
  {
   "cell_type": "code",
   "execution_count": null,
   "metadata": {
    "collapsed": true
   },
   "outputs": [],
   "source": []
  }
 ],
 "metadata": {
  "anaconda-cloud": {},
  "kernelspec": {
   "display_name": "Python [default]",
   "language": "python",
   "name": "python3"
  },
  "language_info": {
   "codemirror_mode": {
    "name": "ipython",
    "version": 3
   },
   "file_extension": ".py",
   "mimetype": "text/x-python",
   "name": "python",
   "nbconvert_exporter": "python",
   "pygments_lexer": "ipython3",
   "version": "3.5.2"
  }
 },
 "nbformat": 4,
 "nbformat_minor": 2
}
