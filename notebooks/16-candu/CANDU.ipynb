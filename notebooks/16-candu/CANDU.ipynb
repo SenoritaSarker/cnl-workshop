{
 "cells": [
  {
   "cell_type": "markdown",
   "metadata": {},
   "source": [
    "# Creating a CANDU bundle\n",
    "\n",
    "In this example, we will create a typical CANDU bundle with rings of fuel pins. At present, OpenMC does not have a specialized lattice for this type of fuel arrangement, so we must resort to manual creation of the array of fuel pins."
   ]
  },
  {
   "cell_type": "code",
   "execution_count": null,
   "metadata": {
    "collapsed": false
   },
   "outputs": [],
   "source": [
    "%matplotlib inline\n",
    "from math import pi, sin, cos\n",
    "import numpy as np\n",
    "import openmc"
   ]
  },
  {
   "cell_type": "markdown",
   "metadata": {},
   "source": [
    "Let's begin by creating the materials that will be used in our model."
   ]
  },
  {
   "cell_type": "code",
   "execution_count": null,
   "metadata": {
    "collapsed": true
   },
   "outputs": [],
   "source": [
    "fuel = openmc.Material(name='fuel')\n",
    "fuel.add_element('U', 1.0)\n",
    "fuel.add_element('O', 2.0)\n",
    "fuel.set_density('g/cm3', 10.0)\n",
    "\n",
    "clad = openmc.Material(name='zircaloy')\n",
    "clad.add_element('Zr', 1.0)\n",
    "clad.set_density('g/cm3', 6.0)\n",
    "\n",
    "heavy_water = openmc.Material(name='heavy water')\n",
    "heavy_water.add_nuclide('H2', 2.0)\n",
    "heavy_water.add_nuclide('O16', 1.0)\n",
    "heavy_water.add_s_alpha_beta('c_D_in_D2O')\n",
    "heavy_water.set_density('g/cm3', 1.1)"
   ]
  },
  {
   "cell_type": "markdown",
   "metadata": {},
   "source": [
    "With out materials created, we'll now define key dimensions in our model. These dimensions are taken from the example in section 11.1.3 of the [Serpent manual](http://montecarlo.vtt.fi/download/Serpent_manual.pdf)."
   ]
  },
  {
   "cell_type": "code",
   "execution_count": null,
   "metadata": {
    "collapsed": true
   },
   "outputs": [],
   "source": [
    "# Outer radius of fuel and clad\n",
    "r_fuel = 0.6122\n",
    "r_clad = 0.6540\n",
    "\n",
    "# Pressure tube and calendria radii\n",
    "pressure_tube_ir = 5.16890\n",
    "pressure_tube_or = 5.60320\n",
    "calendria_ir = 6.44780\n",
    "calendria_or = 6.58750\n",
    "\n",
    "# Radius to center of each ring of fuel pins\n",
    "ring_radii = np.array([0.0, 1.4885, 2.8755, 4.3305])"
   ]
  },
  {
   "cell_type": "markdown",
   "metadata": {},
   "source": [
    "To begin creating the bundle, we'll first create annular regions completely filled with heavy water and add in the fuel pins later. The radii that we've specified above correspond to the center of each ring. We actually need to create cylindrical surfaces at radii that are half-way between the centers."
   ]
  },
  {
   "cell_type": "code",
   "execution_count": null,
   "metadata": {
    "collapsed": true
   },
   "outputs": [],
   "source": []
  }
 ],
 "metadata": {
  "anaconda-cloud": {},
  "kernelspec": {
   "display_name": "Python [default]",
   "language": "python",
   "name": "python3"
  },
  "language_info": {
   "codemirror_mode": {
    "name": "ipython",
    "version": 3
   },
   "file_extension": ".py",
   "mimetype": "text/x-python",
   "name": "python",
   "nbconvert_exporter": "python",
   "pygments_lexer": "ipython3",
   "version": "3.5.2"
  }
 },
 "nbformat": 4,
 "nbformat_minor": 2
}
