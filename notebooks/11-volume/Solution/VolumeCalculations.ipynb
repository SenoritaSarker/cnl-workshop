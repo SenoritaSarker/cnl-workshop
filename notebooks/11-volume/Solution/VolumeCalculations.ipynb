{
 "cells": [
  {
   "cell_type": "markdown",
   "metadata": {},
   "source": [
    "# Stochastic Volume Calculations\n",
    "\n",
    "OpenMC has a capability to stochastically determine volumes of cells, materials, and universes. The method works by overlaying a bounding box, sampling points from within the box, and seeing what fraction of points were found in a desired domain. The benefit of doing this stochastically (as opposed to equally-spaced points), is that it allows us to give an error estimate on each stochastic quantity.\n",
    "\n",
    "In this example, we will use the stochastic volume capability in OpenMC to calculation microscopic cross sections on a heterogeneous cell."
   ]
  },
  {
   "cell_type": "code",
   "execution_count": 1,
   "metadata": {
    "collapsed": true
   },
   "outputs": [],
   "source": [
    "from math import pi\n",
    "import openmc\n",
    "\n",
    "import sys\n",
    "sys.path.append('../..')\n",
    "from inputs import *"
   ]
  },
  {
   "cell_type": "markdown",
   "metadata": {},
   "source": [
    "First let's start by creating our materials and geometry:"
   ]
  },
  {
   "cell_type": "code",
   "execution_count": 2,
   "metadata": {
    "collapsed": true
   },
   "outputs": [],
   "source": [
    "fuel = openmc.Material(1)\n",
    "fuel.add_element('U', 1, enrichment=3.0)\n",
    "fuel.add_element('O', 2)\n",
    "fuel.set_density('g/cm3', 10.0)\n",
    "\n",
    "water = openmc.Material(2)\n",
    "water.add_nuclide('H1', 2)\n",
    "water.add_nuclide('O16', 1)\n",
    "water.add_s_alpha_beta('c_H_in_H2O')\n",
    "water.set_density('g/cm3', 1)\n",
    "\n",
    "mats = openmc.Materials([fuel, water])\n",
    "mats.export_to_xml()"
   ]
  },
  {
   "cell_type": "code",
   "execution_count": 3,
   "metadata": {
    "collapsed": false
   },
   "outputs": [],
   "source": [
    "s1 = openmc.Sphere(R=10.0, boundary_type='vacuum')\n",
    "s2 = openmc.Sphere(R=5.0)\n",
    "\n",
    "inner_sphere = openmc.Cell(1, fill=fuel, region=-s2)\n",
    "outer_sphere = openmc.Cell(2, fill=water, region=+s2 & -s1)\n",
    "root = openmc.Universe(0, cells=(inner_sphere, outer_sphere))\n",
    "\n",
    "geom = openmc.Geometry(root)\n",
    "geom.export_to_xml()"
   ]
  },
  {
   "cell_type": "markdown",
   "metadata": {},
   "source": [
    "The `VolumeCalculation` object accepts four arguments: the domains to find volumes of, how many samples you want, the lower-left coordinates of a bounding box, and the upper-right coordinates of a bounding box. For many cells, the bounding-box can be determined automatically so there is no need to specify the lower-left and upper-right coordinates in such cases."
   ]
  },
  {
   "cell_type": "code",
   "execution_count": 4,
   "metadata": {
    "collapsed": false
   },
   "outputs": [],
   "source": [
    "lower_left, upper_right = geom.bounding_box\n",
    "cell_vol = openmc.VolumeCalculation([inner_sphere, outer_sphere],\n",
    "                                    1000000, lower_left, upper_right)\n",
    "univ_vol = openmc.VolumeCalculation([root], 1000000, lower_left, upper_right)"
   ]
  },
  {
   "cell_type": "markdown",
   "metadata": {},
   "source": [
    "After we've created the `VolumeCalculation` object, we need to assign it to the `Settings.volume_calculations` property."
   ]
  },
  {
   "cell_type": "code",
   "execution_count": 5,
   "metadata": {
    "collapsed": false
   },
   "outputs": [],
   "source": [
    "settings = openmc.Settings()\n",
    "settings.volume_calculations = [cell_vol, univ_vol]\n",
    "settings.run_mode = 'volume'\n",
    "settings.export_to_xml()"
   ]
  },
  {
   "cell_type": "markdown",
   "metadata": {},
   "source": [
    "Finally, let's ask for some multi-group cross sections."
   ]
  },
  {
   "cell_type": "code",
   "execution_count": 6,
   "metadata": {
    "collapsed": false
   },
   "outputs": [],
   "source": [
    "groups = openmc.mgxs.EnergyGroups((0.0, 0.625, 20.0e6))\n",
    "totals = [openmc.mgxs.TotalXS(inner_sphere, groups=groups, by_nuclide=True),\n",
    "          openmc.mgxs.TotalXS(root, groups=groups, by_nuclide=True)]\n",
    "\n",
    "tallies = openmc.Tallies()\n",
    "for mgxs in totals:\n",
    "    tallies += mgxs.tallies.values()\n",
    "tallies.export_to_xml()"
   ]
  },
  {
   "cell_type": "code",
   "execution_count": 7,
   "metadata": {
    "collapsed": false
   },
   "outputs": [
    {
     "name": "stdout",
     "output_type": "stream",
     "text": [
      "\n",
      "                               %%%%%%%%%%%%%%%\n",
      "                          %%%%%%%%%%%%%%%%%%%%%%%%\n",
      "                       %%%%%%%%%%%%%%%%%%%%%%%%%%%%%%\n",
      "                     %%%%%%%%%%%%%%%%%%%%%%%%%%%%%%%%%%\n",
      "                   %%%%%%%%%%%%%%%%%%%%%%%%%%%%%%%%%%%%%%\n",
      "                  %%%%%%%%%%%%%%%%%%%%%%%%%%%%%%%%%%%%%%%%\n",
      "                                   %%%%%%%%%%%%%%%%%%%%%%%%\n",
      "                                    %%%%%%%%%%%%%%%%%%%%%%%%\n",
      "                ###############      %%%%%%%%%%%%%%%%%%%%%%%%\n",
      "               ##################     %%%%%%%%%%%%%%%%%%%%%%%\n",
      "               ###################     %%%%%%%%%%%%%%%%%%%%%%%\n",
      "               ####################     %%%%%%%%%%%%%%%%%%%%%%\n",
      "               #####################     %%%%%%%%%%%%%%%%%%%%%\n",
      "               ######################     %%%%%%%%%%%%%%%%%%%%\n",
      "               #######################     %%%%%%%%%%%%%%%%%%\n",
      "                #######################     %%%%%%%%%%%%%%%%%\n",
      "                ######################     %%%%%%%%%%%%%%%%%\n",
      "                 ####################     %%%%%%%%%%%%%%%%%\n",
      "                   #################     %%%%%%%%%%%%%%%%%\n",
      "                    ###############     %%%%%%%%%%%%%%%%\n",
      "                      ############     %%%%%%%%%%%%%%%\n",
      "                         ########     %%%%%%%%%%%%%%\n",
      "                                     %%%%%%%%%%%\n",
      "\n",
      "                   | The OpenMC Monte Carlo Code\n",
      "         Copyright | 2011-2017 Massachusetts Institute of Technology\n",
      "           License | http://openmc.readthedocs.io/en/latest/license.html\n",
      "           Version | 0.8.0\n",
      "          Git SHA1 | 561cf39b63b3f132bfa60427fe509b5d59f7a125\n",
      "         Date/Time | 2017-03-11 14:23:43\n",
      "    OpenMP Threads | 4\n",
      "\n",
      " Reading settings XML file...\n",
      " Reading geometry XML file...\n",
      " Reading materials XML file...\n",
      " Reading cross sections XML file...\n",
      " Reading U234 from /home/romano/openmc/scripts/nndc_hdf5/U234.h5\n",
      " Reading U235 from /home/romano/openmc/scripts/nndc_hdf5/U235.h5\n",
      " Reading U238 from /home/romano/openmc/scripts/nndc_hdf5/U238.h5\n",
      " Reading O16 from /home/romano/openmc/scripts/nndc_hdf5/O16.h5\n",
      " Reading O17 from /home/romano/openmc/scripts/nndc_hdf5/O17.h5\n",
      " Reading H1 from /home/romano/openmc/scripts/nndc_hdf5/H1.h5\n",
      " Reading c_H_in_H2O from /home/romano/openmc/scripts/nndc_hdf5/c_H_in_H2O.h5\n",
      " Maximum neutron transport energy: 2.00000E+07 eV for U235\n",
      " Reading tallies XML file...\n",
      " Building neighboring cells lists for each surface...\n",
      "\n",
      " =================>     STOCHASTIC VOLUME CALCULATION     <=================\n",
      "\n",
      " Running volume calculation 1...\n",
      "   Cell 1: 524.384 +/- 1.97992 cm^3\n",
      "   Cell 2: 3662.54 +/- 3.98574 cm^3\n",
      " \n",
      " Running volume calculation 2...\n",
      "   Universe 0: 4186.92 +/- 3.99563 cm^3\n",
      " \n",
      " Elapsed time: 0.403439 s\n"
     ]
    },
    {
     "data": {
      "text/plain": [
       "0"
      ]
     },
     "execution_count": 7,
     "metadata": {},
     "output_type": "execute_result"
    }
   ],
   "source": [
    "openmc.calculate_volumes()"
   ]
  },
  {
   "cell_type": "markdown",
   "metadata": {},
   "source": [
    "Let's compare these estimates with the true values. Easy enough to calculate since we know that spheres are $\\frac{4}{3} \\pi r^3$."
   ]
  },
  {
   "cell_type": "code",
   "execution_count": 8,
   "metadata": {
    "collapsed": false
   },
   "outputs": [
    {
     "name": "stdout",
     "output_type": "stream",
     "text": [
      "Cell 1: 523.5987755982989 cm^3\n",
      "Cell 2: 3665.191429188092 cm^3\n",
      "Universe 0: 4188.790204786391 cm^3\n"
     ]
    }
   ],
   "source": [
    "v0 = 4/3*pi*s1.r**3\n",
    "v1 = 4/3*pi*s2.r**3\n",
    "v2 = v0 - v1 \n",
    "print('Cell 1: {} cm^3'.format(v1))\n",
    "print('Cell 2: {} cm^3'.format(v2))\n",
    "print('Universe 0: {} cm^3'.format(v0))"
   ]
  },
  {
   "cell_type": "markdown",
   "metadata": {},
   "source": [
    "## The `VolumeCalculation` object\n",
    "\n",
    "We can also directly look at the results of a volume calculation using the HDF5 file that was output."
   ]
  },
  {
   "cell_type": "code",
   "execution_count": 9,
   "metadata": {
    "collapsed": true
   },
   "outputs": [],
   "source": [
    "results = openmc.VolumeCalculation.from_hdf5('volume_1.h5')"
   ]
  },
  {
   "cell_type": "code",
   "execution_count": 10,
   "metadata": {
    "collapsed": false
   },
   "outputs": [
    {
     "data": {
      "text/plain": [
       "{1: (524.38400000000001, 1.9799225794318323),\n",
       " 2: (3662.5359999999996, 3.9857393352681756)}"
      ]
     },
     "execution_count": 10,
     "metadata": {},
     "output_type": "execute_result"
    }
   ],
   "source": [
    "results.volumes"
   ]
  },
  {
   "cell_type": "code",
   "execution_count": 11,
   "metadata": {
    "collapsed": false
   },
   "outputs": [
    {
     "data": {
      "text/html": [
       "<div>\n",
       "<table border=\"1\" class=\"dataframe\">\n",
       "  <thead>\n",
       "    <tr style=\"text-align: right;\">\n",
       "      <th></th>\n",
       "      <th>Cell</th>\n",
       "      <th>Nuclide</th>\n",
       "      <th>Atoms</th>\n",
       "      <th>Uncertainty</th>\n",
       "    </tr>\n",
       "  </thead>\n",
       "  <tbody>\n",
       "    <tr>\n",
       "      <th>0</th>\n",
       "      <td>1</td>\n",
       "      <td>U234</td>\n",
       "      <td>2.854560e+21</td>\n",
       "      <td>1.077799e+19</td>\n",
       "    </tr>\n",
       "    <tr>\n",
       "      <th>1</th>\n",
       "      <td>1</td>\n",
       "      <td>U235</td>\n",
       "      <td>3.552973e+23</td>\n",
       "      <td>1.341500e+21</td>\n",
       "    </tr>\n",
       "    <tr>\n",
       "      <th>2</th>\n",
       "      <td>1</td>\n",
       "      <td>U238</td>\n",
       "      <td>1.134003e+25</td>\n",
       "      <td>4.281669e+22</td>\n",
       "    </tr>\n",
       "    <tr>\n",
       "      <th>3</th>\n",
       "      <td>1</td>\n",
       "      <td>O16</td>\n",
       "      <td>2.338750e+25</td>\n",
       "      <td>8.830447e+22</td>\n",
       "    </tr>\n",
       "    <tr>\n",
       "      <th>4</th>\n",
       "      <td>1</td>\n",
       "      <td>O17</td>\n",
       "      <td>8.867225e+21</td>\n",
       "      <td>3.348008e+19</td>\n",
       "    </tr>\n",
       "    <tr>\n",
       "      <th>5</th>\n",
       "      <td>2</td>\n",
       "      <td>O16</td>\n",
       "      <td>1.224632e+26</td>\n",
       "      <td>1.332700e+23</td>\n",
       "    </tr>\n",
       "    <tr>\n",
       "      <th>6</th>\n",
       "      <td>2</td>\n",
       "      <td>H1</td>\n",
       "      <td>2.449263e+26</td>\n",
       "      <td>2.665401e+23</td>\n",
       "    </tr>\n",
       "  </tbody>\n",
       "</table>\n",
       "</div>"
      ],
      "text/plain": [
       "   Cell Nuclide         Atoms   Uncertainty\n",
       "0     1    U234  2.854560e+21  1.077799e+19\n",
       "1     1    U235  3.552973e+23  1.341500e+21\n",
       "2     1    U238  1.134003e+25  4.281669e+22\n",
       "3     1     O16  2.338750e+25  8.830447e+22\n",
       "4     1     O17  8.867225e+21  3.348008e+19\n",
       "5     2     O16  1.224632e+26  1.332700e+23\n",
       "6     2      H1  2.449263e+26  2.665401e+23"
      ]
     },
     "execution_count": 11,
     "metadata": {},
     "output_type": "execute_result"
    }
   ],
   "source": [
    "results.atoms_dataframe"
   ]
  },
  {
   "cell_type": "markdown",
   "metadata": {},
   "source": [
    "Note that the quantities here are total number of atoms rather than atom density. This is because in order to get density, you have to divide by the volume, which itself is a stochastic quantity. Thus, it's more accurate to report uncertainties on the total number of atoms."
   ]
  },
  {
   "cell_type": "markdown",
   "metadata": {},
   "source": [
    "## Microscopic Cross Sections\n",
    "\n",
    "With an estimate of the volume and atom densities over a region, we are able to calculate microscopic multi-group cross sections over that region even if it is heterogeneous. Let's run in eigenvalue mode so that we can look at our microscopic multi-group cross sections."
   ]
  },
  {
   "cell_type": "code",
   "execution_count": 12,
   "metadata": {
    "collapsed": true
   },
   "outputs": [],
   "source": [
    "settings.run_mode = 'eigenvalue'\n",
    "settings.source = openmc.Source(space=openmc.stats.Point())\n",
    "settings.batches = 50\n",
    "settings.inactive = 0\n",
    "settings.particles = 1000\n",
    "settings.export_to_xml()"
   ]
  },
  {
   "cell_type": "code",
   "execution_count": 13,
   "metadata": {
    "collapsed": false
   },
   "outputs": [
    {
     "name": "stdout",
     "output_type": "stream",
     "text": [
      "\n",
      "                               %%%%%%%%%%%%%%%\n",
      "                          %%%%%%%%%%%%%%%%%%%%%%%%\n",
      "                       %%%%%%%%%%%%%%%%%%%%%%%%%%%%%%\n",
      "                     %%%%%%%%%%%%%%%%%%%%%%%%%%%%%%%%%%\n",
      "                   %%%%%%%%%%%%%%%%%%%%%%%%%%%%%%%%%%%%%%\n",
      "                  %%%%%%%%%%%%%%%%%%%%%%%%%%%%%%%%%%%%%%%%\n",
      "                                   %%%%%%%%%%%%%%%%%%%%%%%%\n",
      "                                    %%%%%%%%%%%%%%%%%%%%%%%%\n",
      "                ###############      %%%%%%%%%%%%%%%%%%%%%%%%\n",
      "               ##################     %%%%%%%%%%%%%%%%%%%%%%%\n",
      "               ###################     %%%%%%%%%%%%%%%%%%%%%%%\n",
      "               ####################     %%%%%%%%%%%%%%%%%%%%%%\n",
      "               #####################     %%%%%%%%%%%%%%%%%%%%%\n",
      "               ######################     %%%%%%%%%%%%%%%%%%%%\n",
      "               #######################     %%%%%%%%%%%%%%%%%%\n",
      "                #######################     %%%%%%%%%%%%%%%%%\n",
      "                ######################     %%%%%%%%%%%%%%%%%\n",
      "                 ####################     %%%%%%%%%%%%%%%%%\n",
      "                   #################     %%%%%%%%%%%%%%%%%\n",
      "                    ###############     %%%%%%%%%%%%%%%%\n",
      "                      ############     %%%%%%%%%%%%%%%\n",
      "                         ########     %%%%%%%%%%%%%%\n",
      "                                     %%%%%%%%%%%\n",
      "\n",
      "                   | The OpenMC Monte Carlo Code\n",
      "         Copyright | 2011-2017 Massachusetts Institute of Technology\n",
      "           License | http://openmc.readthedocs.io/en/latest/license.html\n",
      "           Version | 0.8.0\n",
      "          Git SHA1 | 561cf39b63b3f132bfa60427fe509b5d59f7a125\n",
      "         Date/Time | 2017-03-11 14:23:44\n",
      "    OpenMP Threads | 4\n",
      "\n",
      " Reading settings XML file...\n",
      " Reading geometry XML file...\n",
      " Reading materials XML file...\n",
      " Reading cross sections XML file...\n",
      " Reading U234 from /home/romano/openmc/scripts/nndc_hdf5/U234.h5\n",
      " Reading U235 from /home/romano/openmc/scripts/nndc_hdf5/U235.h5\n",
      " Reading U238 from /home/romano/openmc/scripts/nndc_hdf5/U238.h5\n",
      " Reading O16 from /home/romano/openmc/scripts/nndc_hdf5/O16.h5\n",
      " Reading O17 from /home/romano/openmc/scripts/nndc_hdf5/O17.h5\n",
      " Reading H1 from /home/romano/openmc/scripts/nndc_hdf5/H1.h5\n",
      " Reading c_H_in_H2O from /home/romano/openmc/scripts/nndc_hdf5/c_H_in_H2O.h5\n",
      " Maximum neutron transport energy: 2.00000E+07 eV for U235\n",
      " Reading tallies XML file...\n",
      " Building neighboring cells lists for each surface...\n",
      " Initializing source particles...\n",
      "\n",
      " ====================>     K EIGENVALUE SIMULATION     <====================\n",
      "\n",
      "  Bat./Gen.      k            Average k         \n",
      "  =========   ========   ====================   \n",
      "        1/1    0.22239                       \n",
      "        2/1    0.21319    0.21779 +/- 0.00460\n",
      "        3/1    0.22186    0.21915 +/- 0.00298\n",
      "        4/1    0.19857    0.21400 +/- 0.00556\n",
      "        5/1    0.20968    0.21314 +/- 0.00439\n",
      "        6/1    0.21522    0.21349 +/- 0.00360\n",
      "        7/1    0.18114    0.20886 +/- 0.00553\n",
      "        8/1    0.21457    0.20958 +/- 0.00485\n",
      "        9/1    0.21480    0.21016 +/- 0.00431\n",
      "       10/1    0.19242    0.20839 +/- 0.00425\n",
      "       11/1    0.17673    0.20551 +/- 0.00480\n",
      "       12/1    0.18575    0.20386 +/- 0.00468\n",
      "       13/1    0.20753    0.20414 +/- 0.00431\n",
      "       14/1    0.17807    0.20228 +/- 0.00441\n",
      "       15/1    0.17427    0.20041 +/- 0.00451\n",
      "       16/1    0.19945    0.20035 +/- 0.00422\n",
      "       17/1    0.21120    0.20099 +/- 0.00401\n",
      "       18/1    0.19019    0.20039 +/- 0.00383\n",
      "       19/1    0.19756    0.20024 +/- 0.00363\n",
      "       20/1    0.22934    0.20170 +/- 0.00373\n",
      "       21/1    0.20054    0.20164 +/- 0.00355\n",
      "       22/1    0.22315    0.20262 +/- 0.00353\n",
      "       23/1    0.18130    0.20169 +/- 0.00349\n",
      "       24/1    0.23941    0.20326 +/- 0.00370\n",
      "       25/1    0.20801    0.20345 +/- 0.00355\n",
      "       26/1    0.20452    0.20350 +/- 0.00341\n",
      "       27/1    0.20721    0.20363 +/- 0.00329\n",
      "       28/1    0.23519    0.20476 +/- 0.00336\n",
      "       29/1    0.21234    0.20502 +/- 0.00325\n",
      "       30/1    0.19770    0.20478 +/- 0.00315\n",
      "       31/1    0.20215    0.20469 +/- 0.00305\n",
      "       32/1    0.19302    0.20433 +/- 0.00298\n",
      "       33/1    0.17640    0.20348 +/- 0.00301\n",
      "       34/1    0.22552    0.20413 +/- 0.00299\n",
      "       35/1    0.22787    0.20481 +/- 0.00298\n",
      "       36/1    0.19433    0.20452 +/- 0.00291\n",
      "       37/1    0.22107    0.20496 +/- 0.00286\n",
      "       38/1    0.20711    0.20502 +/- 0.00279\n",
      "       39/1    0.18195    0.20443 +/- 0.00278\n",
      "       40/1    0.20323    0.20440 +/- 0.00271\n",
      "       41/1    0.19879    0.20426 +/- 0.00265\n",
      "       42/1    0.21564    0.20453 +/- 0.00260\n",
      "       43/1    0.16636    0.20365 +/- 0.00269\n",
      "       44/1    0.21262    0.20385 +/- 0.00263\n",
      "       45/1    0.21542    0.20411 +/- 0.00259\n",
      "       46/1    0.21249    0.20429 +/- 0.00254\n",
      "       47/1    0.20980    0.20441 +/- 0.00248\n",
      "       48/1    0.20990    0.20452 +/- 0.00243\n",
      "       49/1    0.17905    0.20400 +/- 0.00244\n",
      "       50/1    0.21690    0.20426 +/- 0.00241\n",
      " Creating state point statepoint.50.h5...\n",
      "\n",
      " =======================>     TIMING STATISTICS     <=======================\n",
      "\n",
      " Total time for initialization     =  3.5765E-01 seconds\n",
      "   Reading cross sections          =  3.1311E-01 seconds\n",
      " Total time in simulation          =  1.3324E+00 seconds\n",
      "   Time in transport only          =  1.1595E+00 seconds\n",
      "   Time in inactive batches        =  4.9500E-07 seconds\n",
      "   Time in active batches          =  1.3324E+00 seconds\n",
      "   Time synchronizing fission bank =  1.2455E-03 seconds\n",
      "     Sampling source sites         =  8.6360E-04 seconds\n",
      "     SEND/RECV source sites        =  3.3733E-04 seconds\n",
      "   Time accumulating tallies       =  7.6529E-05 seconds\n",
      " Total time for finalization       =  4.5142E-04 seconds\n",
      " Total time elapsed                =  1.6986E+00 seconds\n",
      " Calculation Rate (active)         =  37525.4 neutrons/second\n",
      "\n",
      " ============================>     RESULTS     <============================\n",
      "\n",
      " k-effective (Collision)     =  0.20513 +/-  0.00258\n",
      " k-effective (Track-length)  =  0.20426 +/-  0.00241\n",
      " k-effective (Absorption)    =  0.19971 +/-  0.00324\n",
      " Combined k-effective        =  0.20374 +/-  0.00249\n",
      " Leakage Fraction            =  0.79308 +/-  0.00182\n",
      "\n"
     ]
    },
    {
     "data": {
      "text/plain": [
       "0"
      ]
     },
     "execution_count": 13,
     "metadata": {},
     "output_type": "execute_result"
    }
   ],
   "source": [
    "openmc.run()"
   ]
  },
  {
   "cell_type": "markdown",
   "metadata": {},
   "source": [
    "Now we'll load data from the statepoint into our MGXS objects. Note that when the `StatePoint` is instantiated, it will automatically look for `volume_*.h5` files and pull in the volume estimates."
   ]
  },
  {
   "cell_type": "code",
   "execution_count": 14,
   "metadata": {
    "collapsed": false
   },
   "outputs": [],
   "source": [
    "sp = openmc.StatePoint('statepoint.50.h5')\n",
    "for mgxs in totals:\n",
    "    mgxs.load_from_statepoint(sp)"
   ]
  },
  {
   "cell_type": "markdown",
   "metadata": {},
   "source": [
    "Now let's look at the microscopic MGXS for the inner sphere."
   ]
  },
  {
   "cell_type": "code",
   "execution_count": 15,
   "metadata": {
    "collapsed": false
   },
   "outputs": [
    {
     "data": {
      "text/html": [
       "<div>\n",
       "<table border=\"1\" class=\"dataframe\">\n",
       "  <thead>\n",
       "    <tr style=\"text-align: right;\">\n",
       "      <th></th>\n",
       "      <th>cell</th>\n",
       "      <th>group in</th>\n",
       "      <th>nuclide</th>\n",
       "      <th>mean</th>\n",
       "      <th>std. dev.</th>\n",
       "    </tr>\n",
       "  </thead>\n",
       "  <tbody>\n",
       "    <tr>\n",
       "      <th>5</th>\n",
       "      <td>1</td>\n",
       "      <td>1</td>\n",
       "      <td>U234</td>\n",
       "      <td>13.250421</td>\n",
       "      <td>0.863436</td>\n",
       "    </tr>\n",
       "    <tr>\n",
       "      <th>6</th>\n",
       "      <td>1</td>\n",
       "      <td>1</td>\n",
       "      <td>U235</td>\n",
       "      <td>11.222435</td>\n",
       "      <td>0.181040</td>\n",
       "    </tr>\n",
       "    <tr>\n",
       "      <th>7</th>\n",
       "      <td>1</td>\n",
       "      <td>1</td>\n",
       "      <td>U238</td>\n",
       "      <td>8.804746</td>\n",
       "      <td>0.127149</td>\n",
       "    </tr>\n",
       "    <tr>\n",
       "      <th>8</th>\n",
       "      <td>1</td>\n",
       "      <td>1</td>\n",
       "      <td>O16</td>\n",
       "      <td>3.170931</td>\n",
       "      <td>0.045797</td>\n",
       "    </tr>\n",
       "    <tr>\n",
       "      <th>9</th>\n",
       "      <td>1</td>\n",
       "      <td>1</td>\n",
       "      <td>O17</td>\n",
       "      <td>1.881418</td>\n",
       "      <td>0.026814</td>\n",
       "    </tr>\n",
       "    <tr>\n",
       "      <th>0</th>\n",
       "      <td>1</td>\n",
       "      <td>2</td>\n",
       "      <td>U234</td>\n",
       "      <td>76.556902</td>\n",
       "      <td>2.268418</td>\n",
       "    </tr>\n",
       "    <tr>\n",
       "      <th>1</th>\n",
       "      <td>1</td>\n",
       "      <td>2</td>\n",
       "      <td>U235</td>\n",
       "      <td>409.100862</td>\n",
       "      <td>12.070416</td>\n",
       "    </tr>\n",
       "    <tr>\n",
       "      <th>2</th>\n",
       "      <td>1</td>\n",
       "      <td>2</td>\n",
       "      <td>U238</td>\n",
       "      <td>10.950559</td>\n",
       "      <td>0.336415</td>\n",
       "    </tr>\n",
       "    <tr>\n",
       "      <th>3</th>\n",
       "      <td>1</td>\n",
       "      <td>2</td>\n",
       "      <td>O16</td>\n",
       "      <td>3.910513</td>\n",
       "      <td>0.121509</td>\n",
       "    </tr>\n",
       "    <tr>\n",
       "      <th>4</th>\n",
       "      <td>1</td>\n",
       "      <td>2</td>\n",
       "      <td>O17</td>\n",
       "      <td>3.941293</td>\n",
       "      <td>0.122062</td>\n",
       "    </tr>\n",
       "  </tbody>\n",
       "</table>\n",
       "</div>"
      ],
      "text/plain": [
       "   cell  group in nuclide        mean  std. dev.\n",
       "5     1         1    U234   13.250421   0.863436\n",
       "6     1         1    U235   11.222435   0.181040\n",
       "7     1         1    U238    8.804746   0.127149\n",
       "8     1         1     O16    3.170931   0.045797\n",
       "9     1         1     O17    1.881418   0.026814\n",
       "0     1         2    U234   76.556902   2.268418\n",
       "1     1         2    U235  409.100862  12.070416\n",
       "2     1         2    U238   10.950559   0.336415\n",
       "3     1         2     O16    3.910513   0.121509\n",
       "4     1         2     O17    3.941293   0.122062"
      ]
     },
     "execution_count": 15,
     "metadata": {},
     "output_type": "execute_result"
    }
   ],
   "source": [
    "inner_sphere_total = totals[0]\n",
    "inner_sphere_total.get_pandas_dataframe(xs_type='micro')"
   ]
  },
  {
   "cell_type": "markdown",
   "metadata": {},
   "source": [
    "And for the real test, let's see if we can get microscopic MGXS over our heterogeneous region (the entire universe)."
   ]
  },
  {
   "cell_type": "code",
   "execution_count": 16,
   "metadata": {
    "collapsed": false
   },
   "outputs": [
    {
     "data": {
      "text/html": [
       "<div>\n",
       "<table border=\"1\" class=\"dataframe\">\n",
       "  <thead>\n",
       "    <tr style=\"text-align: right;\">\n",
       "      <th></th>\n",
       "      <th>universe</th>\n",
       "      <th>group in</th>\n",
       "      <th>nuclide</th>\n",
       "      <th>mean</th>\n",
       "      <th>std. dev.</th>\n",
       "    </tr>\n",
       "  </thead>\n",
       "  <tbody>\n",
       "    <tr>\n",
       "      <th>6</th>\n",
       "      <td>0</td>\n",
       "      <td>1</td>\n",
       "      <td>U234</td>\n",
       "      <td>41.493102</td>\n",
       "      <td>2.675590</td>\n",
       "    </tr>\n",
       "    <tr>\n",
       "      <th>7</th>\n",
       "      <td>0</td>\n",
       "      <td>1</td>\n",
       "      <td>U235</td>\n",
       "      <td>35.142553</td>\n",
       "      <td>0.460971</td>\n",
       "    </tr>\n",
       "    <tr>\n",
       "      <th>8</th>\n",
       "      <td>0</td>\n",
       "      <td>1</td>\n",
       "      <td>U238</td>\n",
       "      <td>27.571669</td>\n",
       "      <td>0.302485</td>\n",
       "    </tr>\n",
       "    <tr>\n",
       "      <th>9</th>\n",
       "      <td>0</td>\n",
       "      <td>1</td>\n",
       "      <td>O16</td>\n",
       "      <td>3.563967</td>\n",
       "      <td>0.021608</td>\n",
       "    </tr>\n",
       "    <tr>\n",
       "      <th>10</th>\n",
       "      <td>0</td>\n",
       "      <td>1</td>\n",
       "      <td>O17</td>\n",
       "      <td>5.891576</td>\n",
       "      <td>0.063161</td>\n",
       "    </tr>\n",
       "    <tr>\n",
       "      <th>11</th>\n",
       "      <td>0</td>\n",
       "      <td>1</td>\n",
       "      <td>H1</td>\n",
       "      <td>7.635150</td>\n",
       "      <td>0.041791</td>\n",
       "    </tr>\n",
       "    <tr>\n",
       "      <th>0</th>\n",
       "      <td>0</td>\n",
       "      <td>2</td>\n",
       "      <td>U234</td>\n",
       "      <td>28.030884</td>\n",
       "      <td>0.651385</td>\n",
       "    </tr>\n",
       "    <tr>\n",
       "      <th>1</th>\n",
       "      <td>0</td>\n",
       "      <td>2</td>\n",
       "      <td>U235</td>\n",
       "      <td>149.790008</td>\n",
       "      <td>3.456789</td>\n",
       "    </tr>\n",
       "    <tr>\n",
       "      <th>2</th>\n",
       "      <td>0</td>\n",
       "      <td>2</td>\n",
       "      <td>U238</td>\n",
       "      <td>4.009486</td>\n",
       "      <td>0.098689</td>\n",
       "    </tr>\n",
       "    <tr>\n",
       "      <th>3</th>\n",
       "      <td>0</td>\n",
       "      <td>2</td>\n",
       "      <td>O16</td>\n",
       "      <td>3.853123</td>\n",
       "      <td>0.066171</td>\n",
       "    </tr>\n",
       "    <tr>\n",
       "      <th>4</th>\n",
       "      <td>0</td>\n",
       "      <td>2</td>\n",
       "      <td>O17</td>\n",
       "      <td>1.443083</td>\n",
       "      <td>0.035967</td>\n",
       "    </tr>\n",
       "    <tr>\n",
       "      <th>5</th>\n",
       "      <td>0</td>\n",
       "      <td>2</td>\n",
       "      <td>H1</td>\n",
       "      <td>48.116942</td>\n",
       "      <td>0.849571</td>\n",
       "    </tr>\n",
       "  </tbody>\n",
       "</table>\n",
       "</div>"
      ],
      "text/plain": [
       "    universe  group in nuclide        mean  std. dev.\n",
       "6          0         1    U234   41.493102   2.675590\n",
       "7          0         1    U235   35.142553   0.460971\n",
       "8          0         1    U238   27.571669   0.302485\n",
       "9          0         1     O16    3.563967   0.021608\n",
       "10         0         1     O17    5.891576   0.063161\n",
       "11         0         1      H1    7.635150   0.041791\n",
       "0          0         2    U234   28.030884   0.651385\n",
       "1          0         2    U235  149.790008   3.456789\n",
       "2          0         2    U238    4.009486   0.098689\n",
       "3          0         2     O16    3.853123   0.066171\n",
       "4          0         2     O17    1.443083   0.035967\n",
       "5          0         2      H1   48.116942   0.849571"
      ]
     },
     "execution_count": 16,
     "metadata": {},
     "output_type": "execute_result"
    }
   ],
   "source": [
    "univ_total = totals[1]\n",
    "univ_total.get_pandas_dataframe(xs_type='micro')"
   ]
  },
  {
   "cell_type": "markdown",
   "metadata": {},
   "source": [
    "We see in this particular contrived example, the microscopic cross sections for U235 and U238 are quite different because, even though the reaction rates are the same, the average flux is much higher in the overall model than only in the inner sphere."
   ]
  },
  {
   "cell_type": "code",
   "execution_count": null,
   "metadata": {
    "collapsed": true
   },
   "outputs": [],
   "source": []
  }
 ],
 "metadata": {
  "anaconda-cloud": {},
  "kernelspec": {
   "display_name": "Python [default]",
   "language": "python",
   "name": "python3"
  },
  "language_info": {
   "codemirror_mode": {
    "name": "ipython",
    "version": 3
   },
   "file_extension": ".py",
   "mimetype": "text/x-python",
   "name": "python",
   "nbconvert_exporter": "python",
   "pygments_lexer": "ipython3",
   "version": "3.5.2"
  }
 },
 "nbformat": 4,
 "nbformat_minor": 0
}
