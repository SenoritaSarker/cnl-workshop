{
 "cells": [
  {
   "cell_type": "markdown",
   "metadata": {},
   "source": [
    "# Stochastic Volume Calculations\n",
    "\n",
    "OpenMC has a capability to stochastically determine volumes of cells, materials, and universes. The method works by overlaying a bounding box, sampling points from within the box, and seeing what fraction of points were found in a desired domain. The benefit of doing this stochastically (as opposed to equally-spaced points), is that it allows us to give an error estimate on each stochastic quantity.\n",
    "\n",
    "In this example, we will use the stochastic volume capability in OpenMC to calculation microscopic cross sections on a heterogeneous cell."
   ]
  },
  {
   "cell_type": "code",
   "execution_count": null,
   "metadata": {
    "collapsed": true
   },
   "outputs": [],
   "source": [
    "from math import pi\n",
    "import openmc\n",
    "\n",
    "import sys\n",
    "sys.path.append('..')\n",
    "from inputs import *"
   ]
  },
  {
   "cell_type": "markdown",
   "metadata": {},
   "source": [
    "First let's start by creating our materials and geometry:"
   ]
  },
  {
   "cell_type": "code",
   "execution_count": null,
   "metadata": {
    "collapsed": true
   },
   "outputs": [],
   "source": [
    "fuel = openmc.Material(1)\n",
    "fuel.add_element('U', 1, enrichment=3.0)\n",
    "fuel.add_element('O', 2)\n",
    "fuel.set_density('g/cm3', 10.0)\n",
    "\n",
    "water = openmc.Material(2)\n",
    "water.add_nuclide('H1', 2)\n",
    "water.add_nuclide('O16', 1)\n",
    "water.add_s_alpha_beta('c_H_in_H2O')\n",
    "water.set_density('g/cm3', 1)\n",
    "\n",
    "mats = openmc.Materials([fuel, water])\n",
    "mats.export_to_xml()"
   ]
  },
  {
   "cell_type": "code",
   "execution_count": null,
   "metadata": {
    "collapsed": false
   },
   "outputs": [],
   "source": [
    "s1 = openmc.Sphere(R=10.0, boundary_type='vacuum')\n",
    "s2 = openmc.Sphere(R=5.0)\n",
    "\n",
    "inner_sphere = openmc.Cell(1, fill=fuel, region=-s2)\n",
    "outer_sphere = openmc.Cell(2, fill=water, region=+s2 & -s1)\n",
    "root = openmc.Universe(0, cells=(inner_sphere, outer_sphere))\n",
    "\n",
    "geom = openmc.Geometry(root)\n",
    "geom.export_to_xml()"
   ]
  },
  {
   "cell_type": "markdown",
   "metadata": {},
   "source": [
    "The `VolumeCalculation` object accepts four arguments: the domains to find volumes of, how many samples you want, the lower-left coordinates of a bounding box, and the upper-right coordinates of a bounding box. For many cells, the bounding-box can be determined automatically so there is no need to specify the lower-left and upper-right coordinates in such cases."
   ]
  },
  {
   "cell_type": "code",
   "execution_count": null,
   "metadata": {
    "collapsed": true
   },
   "outputs": [],
   "source": []
  }
 ],
 "metadata": {
  "anaconda-cloud": {},
  "kernelspec": {
   "display_name": "Python [default]",
   "language": "python",
   "name": "python3"
  },
  "language_info": {
   "codemirror_mode": {
    "name": "ipython",
    "version": 3
   },
   "file_extension": ".py",
   "mimetype": "text/x-python",
   "name": "python",
   "nbconvert_exporter": "python",
   "pygments_lexer": "ipython3",
   "version": "3.5.2"
  }
 },
 "nbformat": 4,
 "nbformat_minor": 0
}
