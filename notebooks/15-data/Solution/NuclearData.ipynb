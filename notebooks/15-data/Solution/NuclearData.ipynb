{
 "cells": [
  {
   "cell_type": "markdown",
   "metadata": {},
   "source": [
    "# Nuclear Data\n",
    "\n",
    "In this notebook, we will go through the salient features of the `openmc.data` package in the Python API. This package enables inspection, analysis, and conversion of nuclear data from ACE files. Most importantly, the package provides a mean to generate HDF5 nuclear data libraries that are used by the transport solver."
   ]
  },
  {
   "cell_type": "code",
   "execution_count": 1,
   "metadata": {
    "collapsed": true
   },
   "outputs": [],
   "source": [
    "%matplotlib inline\n",
    "import os\n",
    "import re\n",
    "from pprint import pprint\n",
    "\n",
    "import h5py\n",
    "import numpy as np\n",
    "import matplotlib.pyplot as plt\n",
    "\n",
    "import openmc.data"
   ]
  },
  {
   "cell_type": "markdown",
   "metadata": {},
   "source": [
    "## Physical Data\n",
    "\n",
    "Some very helpful physical data is available as part of `openmc.data`: atomic masses, natural abundances, and atomic weights."
   ]
  },
  {
   "cell_type": "code",
   "execution_count": 2,
   "metadata": {
    "collapsed": false
   },
   "outputs": [
    {
     "data": {
      "text/plain": [
       "53.939608986"
      ]
     },
     "execution_count": 2,
     "metadata": {},
     "output_type": "execute_result"
    }
   ],
   "source": [
    "openmc.data.atomic_mass('Fe54')"
   ]
  },
  {
   "cell_type": "code",
   "execution_count": 3,
   "metadata": {
    "collapsed": false
   },
   "outputs": [
    {
     "data": {
      "text/plain": [
       "0.00015574"
      ]
     },
     "execution_count": 3,
     "metadata": {},
     "output_type": "execute_result"
    }
   ],
   "source": [
    "openmc.data.NATURAL_ABUNDANCE['H2']"
   ]
  },
  {
   "cell_type": "code",
   "execution_count": 4,
   "metadata": {
    "collapsed": false
   },
   "outputs": [
    {
     "name": "stdout",
     "output_type": "stream",
     "text": [
      "12.011115164862904\n",
      "12.011115164862904\n"
     ]
    }
   ],
   "source": [
    "print(openmc.data.atomic_weight('C'))\n",
    "\n",
    "# Confirm that we get the same thing manually\n",
    "weight = 0.\n",
    "for isotope, abundance in openmc.data.NATURAL_ABUNDANCE.items():\n",
    "    if re.match(r'C\\d+', isotope):\n",
    "        weight += abundance*openmc.data.atomic_mass(isotope)\n",
    "print(weight)"
   ]
  },
  {
   "cell_type": "markdown",
   "metadata": {},
   "source": [
    "There are also some dictionaries that help converting between atomic numbers and element symbols:"
   ]
  },
  {
   "cell_type": "code",
   "execution_count": 5,
   "metadata": {
    "collapsed": false
   },
   "outputs": [
    {
     "name": "stdout",
     "output_type": "stream",
     "text": [
      "35\n",
      "Br\n"
     ]
    }
   ],
   "source": [
    "print(openmc.data.ATOMIC_NUMBER['Br'])\n",
    "print(openmc.data.ATOMIC_SYMBOL[35])"
   ]
  },
  {
   "cell_type": "markdown",
   "metadata": {},
   "source": [
    "## Importing from HDF5"
   ]
  },
  {
   "cell_type": "markdown",
   "metadata": {},
   "source": [
    "The `openmc.data` module can read OpenMC's HDF5-formatted data into Python objects. The easiest way to do this is with the `openmc.data.IncidentNeutron.from_hdf5(...)` factory method. Replace the `filename` variable below with a valid path to an HDF5 data file on your computer."
   ]
  },
  {
   "cell_type": "code",
   "execution_count": 6,
   "metadata": {
    "collapsed": false
   },
   "outputs": [
    {
     "data": {
      "text/plain": [
       "<IncidentNeutron: Gd157>"
      ]
     },
     "execution_count": 6,
     "metadata": {},
     "output_type": "execute_result"
    }
   ],
   "source": [
    "# Get filename for Gd-157\n",
    "filename = '../../../data/Gd157.h5'\n",
    "\n",
    "# Load HDF5 data into object\n",
    "gd157 = openmc.data.IncidentNeutron.from_hdf5(filename)\n",
    "gd157"
   ]
  },
  {
   "cell_type": "markdown",
   "metadata": {},
   "source": [
    "## Cross sections"
   ]
  },
  {
   "cell_type": "markdown",
   "metadata": {},
   "source": [
    "From Python, it's easy to explore (and modify) the nuclear data. Let's start off by reading the total cross section. Reactions are indexed using their \"MT\" number -- a unique identifier for each reaction defined by the ENDF-6 format. The MT number for the total cross section is 1."
   ]
  },
  {
   "cell_type": "code",
   "execution_count": 7,
   "metadata": {
    "collapsed": false
   },
   "outputs": [
    {
     "data": {
      "text/plain": [
       "<Reaction: MT=1 (n,total)>"
      ]
     },
     "execution_count": 7,
     "metadata": {},
     "output_type": "execute_result"
    }
   ],
   "source": [
    "total = gd157[1]\n",
    "total"
   ]
  },
  {
   "cell_type": "markdown",
   "metadata": {},
   "source": [
    "Cross sections for each reaction can be stored at multiple temperatures. To see what temperatures are available, we can look at the reaction's `xs` attribute."
   ]
  },
  {
   "cell_type": "code",
   "execution_count": 8,
   "metadata": {
    "collapsed": false
   },
   "outputs": [
    {
     "data": {
      "text/plain": [
       "{'294K': <openmc.data.function.Sum at 0x7f5654b3c1d0>}"
      ]
     },
     "execution_count": 8,
     "metadata": {},
     "output_type": "execute_result"
    }
   ],
   "source": [
    "total.xs"
   ]
  },
  {
   "cell_type": "markdown",
   "metadata": {},
   "source": [
    "To find the cross section at a particular energy, 1 eV for example, simply get the cross section at the appropriate temperature and then call it as a function. Note that our nuclear data uses eV as the unit of energy."
   ]
  },
  {
   "cell_type": "code",
   "execution_count": 9,
   "metadata": {
    "collapsed": false
   },
   "outputs": [
    {
     "data": {
      "text/plain": [
       "142.6474702147809"
      ]
     },
     "execution_count": 9,
     "metadata": {},
     "output_type": "execute_result"
    }
   ],
   "source": [
    "total.xs['294K'](1.0)"
   ]
  },
  {
   "cell_type": "markdown",
   "metadata": {},
   "source": [
    "The `xs` attribute can also be called on an array of energies."
   ]
  },
  {
   "cell_type": "code",
   "execution_count": 10,
   "metadata": {
    "collapsed": false
   },
   "outputs": [
    {
     "data": {
      "text/plain": [
       "array([ 142.64747021,   38.65417611,  175.40019668])"
      ]
     },
     "execution_count": 10,
     "metadata": {},
     "output_type": "execute_result"
    }
   ],
   "source": [
    "total.xs['294K']([1.0, 2.0, 3.0])"
   ]
  },
  {
   "cell_type": "markdown",
   "metadata": {},
   "source": [
    "A quick way to plot cross sections is to use the `energy` attribute of `IncidentNeutron`. This gives an array of all the energy values used in cross section interpolation for each temperature present."
   ]
  },
  {
   "cell_type": "code",
   "execution_count": 11,
   "metadata": {
    "collapsed": false
   },
   "outputs": [
    {
     "data": {
      "text/plain": [
       "{'294K': array([  1.00000000e-05,   1.03250000e-05,   1.06500000e-05, ...,\n",
       "          1.95000000e+07,   1.99000000e+07,   2.00000000e+07])}"
      ]
     },
     "execution_count": 11,
     "metadata": {},
     "output_type": "execute_result"
    }
   ],
   "source": [
    "gd157.energy"
   ]
  },
  {
   "cell_type": "code",
   "execution_count": 12,
   "metadata": {
    "collapsed": false
   },
   "outputs": [
    {
     "data": {
      "text/plain": [
       "<matplotlib.text.Text at 0x7f565479cf28>"
      ]
     },
     "execution_count": 12,
     "metadata": {},
     "output_type": "execute_result"
    },
    {
     "data": {
      "image/png": "[encoded data removed]",
      "text/plain": [
       "<matplotlib.figure.Figure at 0x7f5654b4c3c8>"
      ]
     },
     "metadata": {},
     "output_type": "display_data"
    }
   ],
   "source": [
    "energies = gd157.energy['294K']\n",
    "total_xs = total.xs['294K'](energies)\n",
    "plt.loglog(energies, total_xs)\n",
    "plt.xlabel('Energy (eV)')\n",
    "plt.ylabel('Cross section (b)')"
   ]
  },
  {
   "cell_type": "markdown",
   "metadata": {},
   "source": [
    "## Reaction Data\n",
    "\n",
    "Most of the interesting data for an `IncidentNeutron` instance is contained within the `reactions` attribute, which is a dictionary mapping MT values to `Reaction` objects."
   ]
  },
  {
   "cell_type": "code",
   "execution_count": 13,
   "metadata": {
    "collapsed": false
   },
   "outputs": [
    {
     "name": "stdout",
     "output_type": "stream",
     "text": [
      "[<Reaction: MT=2 (n,elastic)>,\n",
      " <Reaction: MT=16 (n,2n)>,\n",
      " <Reaction: MT=17 (n,3n)>,\n",
      " <Reaction: MT=22 (n,na)>,\n",
      " <Reaction: MT=24 (n,2na)>,\n",
      " <Reaction: MT=28 (n,np)>,\n",
      " <Reaction: MT=41 (n,2np)>,\n",
      " <Reaction: MT=51 (n,n1)>,\n",
      " <Reaction: MT=52 (n,n2)>,\n",
      " <Reaction: MT=53 (n,n3)>]\n"
     ]
    }
   ],
   "source": [
    "pprint(list(gd157.reactions.values())[:10])"
   ]
  },
  {
   "cell_type": "markdown",
   "metadata": {},
   "source": [
    "Let's suppose we want to look more closely at the (n,2n) reaction. This reaction has an energy threshold"
   ]
  },
  {
   "cell_type": "code",
   "execution_count": 14,
   "metadata": {
    "collapsed": false
   },
   "outputs": [
    {
     "name": "stdout",
     "output_type": "stream",
     "text": [
      "Threshold = 6400881.0 eV\n"
     ]
    }
   ],
   "source": [
    "n2n = gd157[16]\n",
    "print('Threshold = {} eV'.format(n2n.xs['294K'].x[0]))"
   ]
  },
  {
   "cell_type": "markdown",
   "metadata": {},
   "source": [
    "The (n,2n) cross section, like all basic cross sections, is represented by the `Tabulated1D` class. The energy and cross section values in the table can be directly accessed with the `x` and `y` attributes. Using the `x` and `y` has the nice benefit of automatically acounting for reaction thresholds."
   ]
  },
  {
   "cell_type": "code",
   "execution_count": 15,
   "metadata": {
    "collapsed": false
   },
   "outputs": [
    {
     "data": {
      "text/plain": [
       "{'294K': <openmc.data.function.Tabulated1D at 0x7f567c746518>}"
      ]
     },
     "execution_count": 15,
     "metadata": {},
     "output_type": "execute_result"
    }
   ],
   "source": [
    "n2n.xs"
   ]
  },
  {
   "cell_type": "code",
   "execution_count": 16,
   "metadata": {
    "collapsed": false
   },
   "outputs": [
    {
     "data": {
      "text/plain": [
       "(6400881.0, 20000000.0)"
      ]
     },
     "execution_count": 16,
     "metadata": {},
     "output_type": "execute_result"
    },
    {
     "data": {
      "image/png": "[encoded data removed]",
      "text/plain": [
       "<matplotlib.figure.Figure at 0x7f565197c6d8>"
      ]
     },
     "metadata": {},
     "output_type": "display_data"
    }
   ],
   "source": [
    "xs = n2n.xs['294K']\n",
    "plt.plot(xs.x, xs.y)\n",
    "plt.xlabel('Energy (eV)')\n",
    "plt.ylabel('Cross section (b)')\n",
    "plt.xlim((xs.x[0], xs.x[-1]))"
   ]
  },
  {
   "cell_type": "markdown",
   "metadata": {},
   "source": [
    "To get information on the energy and angle distribution of the neutrons emitted in the reaction, we need to look at the `products` attribute."
   ]
  },
  {
   "cell_type": "code",
   "execution_count": 17,
   "metadata": {
    "collapsed": false
   },
   "outputs": [
    {
     "data": {
      "text/plain": [
       "[<Product: neutron, emission=prompt, yield=polynomial>,\n",
       " <Product: photon, emission=prompt, yield=tabulated>]"
      ]
     },
     "execution_count": 17,
     "metadata": {},
     "output_type": "execute_result"
    }
   ],
   "source": [
    "n2n.products"
   ]
  },
  {
   "cell_type": "code",
   "execution_count": 18,
   "metadata": {
    "collapsed": false
   },
   "outputs": [
    {
     "data": {
      "text/plain": [
       "[<openmc.data.correlated.CorrelatedAngleEnergy at 0x7f5654b2d898>]"
      ]
     },
     "execution_count": 18,
     "metadata": {},
     "output_type": "execute_result"
    }
   ],
   "source": [
    "neutron = n2n.products[0]\n",
    "neutron.distribution"
   ]
  },
  {
   "cell_type": "markdown",
   "metadata": {},
   "source": [
    "We see that the neutrons emitted have a correlated angle-energy distribution. Let's look at the `energy_out` attribute to see what the outgoing energy distributions are."
   ]
  },
  {
   "cell_type": "code",
   "execution_count": 19,
   "metadata": {
    "collapsed": false
   },
   "outputs": [
    {
     "data": {
      "text/plain": [
       "[<openmc.stats.univariate.Tabular at 0x7f5654b664a8>,\n",
       " <openmc.stats.univariate.Tabular at 0x7f5654b665c0>,\n",
       " <openmc.stats.univariate.Tabular at 0x7f5654b66668>,\n",
       " <openmc.stats.univariate.Tabular at 0x7f5654b667b8>,\n",
       " <openmc.stats.univariate.Tabular at 0x7f5654b669b0>,\n",
       " <openmc.stats.univariate.Tabular at 0x7f5654b66c18>,\n",
       " <openmc.stats.univariate.Tabular at 0x7f5654b66f28>,\n",
       " <openmc.stats.univariate.Tabular at 0x7f5654b6c2e8>,\n",
       " <openmc.stats.univariate.Tabular at 0x7f5654b6c6d8>,\n",
       " <openmc.stats.univariate.Tabular at 0x7f5654b6cb38>,\n",
       " <openmc.stats.univariate.Tabular at 0x7f5654b72048>,\n",
       " <openmc.stats.univariate.Tabular at 0x7f5654b72518>,\n",
       " <openmc.stats.univariate.Tabular at 0x7f5654b72a90>,\n",
       " <openmc.stats.univariate.Tabular at 0x7f5654af9080>,\n",
       " <openmc.stats.univariate.Tabular at 0x7f5654af96a0>,\n",
       " <openmc.stats.univariate.Tabular at 0x7f5654af9cf8>,\n",
       " <openmc.stats.univariate.Tabular at 0x7f5654aff400>,\n",
       " <openmc.stats.univariate.Tabular at 0x7f5654affb00>,\n",
       " <openmc.stats.univariate.Tabular at 0x7f5654b06240>,\n",
       " <openmc.stats.univariate.Tabular at 0x7f5654b069b0>,\n",
       " <openmc.stats.univariate.Tabular at 0x7f5654b0d198>,\n",
       " <openmc.stats.univariate.Tabular at 0x7f5654b0d978>,\n",
       " <openmc.stats.univariate.Tabular at 0x7f5654b131d0>,\n",
       " <openmc.stats.univariate.Tabular at 0x7f5654b13a20>,\n",
       " <openmc.stats.univariate.Tabular at 0x7f5654b192e8>,\n",
       " <openmc.stats.univariate.Tabular at 0x7f5654b19ba8>,\n",
       " <openmc.stats.univariate.Tabular at 0x7f5654b20400>,\n",
       " <openmc.stats.univariate.Tabular at 0x7f5654b20cc0>,\n",
       " <openmc.stats.univariate.Tabular at 0x7f5654b265f8>,\n",
       " <openmc.stats.univariate.Tabular at 0x7f5654b26f28>]"
      ]
     },
     "execution_count": 19,
     "metadata": {},
     "output_type": "execute_result"
    }
   ],
   "source": [
    "dist = neutron.distribution[0]\n",
    "dist.energy_out"
   ]
  },
  {
   "cell_type": "markdown",
   "metadata": {},
   "source": [
    "Here we see we have a tabulated outgoing energy distribution for each incoming energy. Note that the same probability distribution classes that we could use to create a source definition are also used within the `openmc.data` package. Let's plot every fifth distribution to get an idea of what they look like."
   ]
  },
  {
   "cell_type": "code",
   "execution_count": 20,
   "metadata": {
    "collapsed": false
   },
   "outputs": [
    {
     "data": {
      "image/png": "[encoded data removed]",
      "text/plain": [
       "<matplotlib.figure.Figure at 0x7f565193c278>"
      ]
     },
     "metadata": {},
     "output_type": "display_data"
    }
   ],
   "source": [
    "for e_in, e_out_dist in zip(dist.energy[::5], dist.energy_out[::5]):\n",
    "    plt.semilogy(e_out_dist.x, e_out_dist.p, label='E={:.2f} MeV'.format(e_in/1e6))\n",
    "plt.ylim(ymax=1e-6)\n",
    "plt.legend()\n",
    "plt.xlabel('Outgoing energy (eV)')\n",
    "plt.ylabel('Probability/eV')\n",
    "plt.show()"
   ]
  },
  {
   "cell_type": "markdown",
   "metadata": {},
   "source": [
    "There is also `summed_reactions` attribute for cross sections (like total) which are built from summing up other cross sections."
   ]
  },
  {
   "cell_type": "code",
   "execution_count": 21,
   "metadata": {
    "collapsed": false
   },
   "outputs": [
    {
     "name": "stdout",
     "output_type": "stream",
     "text": [
      "[<Reaction: MT=101 (n,disappear)>,\n",
      " <Reaction: MT=27 (n,absorption)>,\n",
      " <Reaction: MT=4 (n,level)>,\n",
      " <Reaction: MT=3>,\n",
      " <Reaction: MT=1 (n,total)>]\n"
     ]
    }
   ],
   "source": [
    "pprint(list(gd157.summed_reactions.values()))"
   ]
  },
  {
   "cell_type": "markdown",
   "metadata": {},
   "source": [
    "Note that the cross sections for these reactions are represented by the `Sum` class rather than `Tabulated1D`. They do not support the `x` and `y` attributes."
   ]
  },
  {
   "cell_type": "code",
   "execution_count": 22,
   "metadata": {
    "collapsed": false
   },
   "outputs": [
    {
     "data": {
      "text/plain": [
       "{'294K': <openmc.data.function.Sum at 0x7f5654b551d0>}"
      ]
     },
     "execution_count": 22,
     "metadata": {},
     "output_type": "execute_result"
    }
   ],
   "source": [
    "gd157[27].xs"
   ]
  },
  {
   "cell_type": "markdown",
   "metadata": {},
   "source": [
    "## ENDF Files\n",
    "\n",
    "The `openmc.data` package can also read ENDF files in the same way as it does for ACE and HDF5 files."
   ]
  },
  {
   "cell_type": "code",
   "execution_count": 23,
   "metadata": {
    "collapsed": false
   },
   "outputs": [
    {
     "data": {
      "text/plain": [
       "<IncidentNeutron: Hf176>"
      ]
     },
     "execution_count": 23,
     "metadata": {},
     "output_type": "execute_result"
    }
   ],
   "source": [
    "hf176 = openmc.data.IncidentNeutron.from_endf('../../../data/n-072_Hf_176.endf')\n",
    "hf176"
   ]
  },
  {
   "cell_type": "markdown",
   "metadata": {},
   "source": [
    "As before, we can look at what reactions are present, their cross sections, products, angle-energy distributions, etc."
   ]
  },
  {
   "cell_type": "code",
   "execution_count": 24,
   "metadata": {
    "collapsed": false
   },
   "outputs": [
    {
     "data": {
      "text/plain": [
       "OrderedDict([(1, <Reaction: MT=1 (n,total)>),\n",
       "             (2, <Reaction: MT=2 (n,elastic)>),\n",
       "             (4, <Reaction: MT=4 (n,level)>),\n",
       "             (16, <Reaction: MT=16 (n,2n)>),\n",
       "             (17, <Reaction: MT=17 (n,3n)>),\n",
       "             (51, <Reaction: MT=51 (n,n1)>),\n",
       "             (52, <Reaction: MT=52 (n,n2)>),\n",
       "             (53, <Reaction: MT=53 (n,n3)>),\n",
       "             (54, <Reaction: MT=54 (n,n4)>),\n",
       "             (55, <Reaction: MT=55 (n,n5)>),\n",
       "             (56, <Reaction: MT=56 (n,n6)>),\n",
       "             (57, <Reaction: MT=57 (n,n7)>),\n",
       "             (58, <Reaction: MT=58 (n,n8)>),\n",
       "             (59, <Reaction: MT=59 (n,n9)>),\n",
       "             (60, <Reaction: MT=60 (n,n10)>),\n",
       "             (61, <Reaction: MT=61 (n,n11)>),\n",
       "             (62, <Reaction: MT=62 (n,n12)>),\n",
       "             (63, <Reaction: MT=63 (n,n13)>),\n",
       "             (64, <Reaction: MT=64 (n,n14)>),\n",
       "             (65, <Reaction: MT=65 (n,n15)>),\n",
       "             (66, <Reaction: MT=66 (n,n16)>),\n",
       "             (67, <Reaction: MT=67 (n,n17)>),\n",
       "             (68, <Reaction: MT=68 (n,n18)>),\n",
       "             (69, <Reaction: MT=69 (n,n19)>),\n",
       "             (70, <Reaction: MT=70 (n,n20)>),\n",
       "             (71, <Reaction: MT=71 (n,n21)>),\n",
       "             (72, <Reaction: MT=72 (n,n22)>),\n",
       "             (73, <Reaction: MT=73 (n,n23)>),\n",
       "             (91, <Reaction: MT=91 (n,nc)>),\n",
       "             (102, <Reaction: MT=102 (n,gamma)>),\n",
       "             (103, <Reaction: MT=103 (n,p)>),\n",
       "             (107, <Reaction: MT=107 (n,a)>)])"
      ]
     },
     "execution_count": 24,
     "metadata": {},
     "output_type": "execute_result"
    }
   ],
   "source": [
    "hf176.reactions"
   ]
  },
  {
   "cell_type": "markdown",
   "metadata": {},
   "source": [
    "`IncidentNeutron` objects created from ENDF files also have a special `resonances` attribute that stores resolved resonance data. This data is not present in ACE or HDF5 files."
   ]
  },
  {
   "cell_type": "code",
   "execution_count": 25,
   "metadata": {
    "collapsed": false
   },
   "outputs": [
    {
     "name": "stdout",
     "output_type": "stream",
     "text": [
      "<class 'openmc.data.resonance.MultiLevelBreitWigner'>\n"
     ]
    },
    {
     "data": {
      "text/html": [
       "<div>\n",
       "<table border=\"1\" class=\"dataframe\">\n",
       "  <thead>\n",
       "    <tr style=\"text-align: right;\">\n",
       "      <th></th>\n",
       "      <th>energy</th>\n",
       "      <th>L</th>\n",
       "      <th>J</th>\n",
       "      <th>totalWidth</th>\n",
       "      <th>neutronWidth</th>\n",
       "      <th>captureWidth</th>\n",
       "      <th>fissionWidth</th>\n",
       "      <th>competitiveWidth</th>\n",
       "    </tr>\n",
       "  </thead>\n",
       "  <tbody>\n",
       "    <tr>\n",
       "      <th>0</th>\n",
       "      <td>-80.0000</td>\n",
       "      <td>0</td>\n",
       "      <td>0.5</td>\n",
       "      <td>0.40800</td>\n",
       "      <td>0.35000</td>\n",
       "      <td>0.0580</td>\n",
       "      <td>0.0</td>\n",
       "      <td>0.0</td>\n",
       "    </tr>\n",
       "    <tr>\n",
       "      <th>1</th>\n",
       "      <td>-20.0000</td>\n",
       "      <td>0</td>\n",
       "      <td>0.5</td>\n",
       "      <td>0.08070</td>\n",
       "      <td>0.02470</td>\n",
       "      <td>0.0560</td>\n",
       "      <td>0.0</td>\n",
       "      <td>0.0</td>\n",
       "    </tr>\n",
       "    <tr>\n",
       "      <th>2</th>\n",
       "      <td>7.8891</td>\n",
       "      <td>0</td>\n",
       "      <td>0.5</td>\n",
       "      <td>0.07195</td>\n",
       "      <td>0.01015</td>\n",
       "      <td>0.0618</td>\n",
       "      <td>0.0</td>\n",
       "      <td>0.0</td>\n",
       "    </tr>\n",
       "    <tr>\n",
       "      <th>3</th>\n",
       "      <td>48.2540</td>\n",
       "      <td>0</td>\n",
       "      <td>0.5</td>\n",
       "      <td>0.15600</td>\n",
       "      <td>0.10700</td>\n",
       "      <td>0.0490</td>\n",
       "      <td>0.0</td>\n",
       "      <td>0.0</td>\n",
       "    </tr>\n",
       "    <tr>\n",
       "      <th>4</th>\n",
       "      <td>53.2820</td>\n",
       "      <td>0</td>\n",
       "      <td>0.5</td>\n",
       "      <td>0.05669</td>\n",
       "      <td>0.00169</td>\n",
       "      <td>0.0550</td>\n",
       "      <td>0.0</td>\n",
       "      <td>0.0</td>\n",
       "    </tr>\n",
       "    <tr>\n",
       "      <th>5</th>\n",
       "      <td>67.2180</td>\n",
       "      <td>0</td>\n",
       "      <td>0.5</td>\n",
       "      <td>0.08100</td>\n",
       "      <td>0.02600</td>\n",
       "      <td>0.0550</td>\n",
       "      <td>0.0</td>\n",
       "      <td>0.0</td>\n",
       "    </tr>\n",
       "    <tr>\n",
       "      <th>6</th>\n",
       "      <td>124.0790</td>\n",
       "      <td>0</td>\n",
       "      <td>0.5</td>\n",
       "      <td>0.08700</td>\n",
       "      <td>0.03200</td>\n",
       "      <td>0.0550</td>\n",
       "      <td>0.0</td>\n",
       "      <td>0.0</td>\n",
       "    </tr>\n",
       "    <tr>\n",
       "      <th>7</th>\n",
       "      <td>177.1500</td>\n",
       "      <td>0</td>\n",
       "      <td>0.5</td>\n",
       "      <td>0.14100</td>\n",
       "      <td>0.08600</td>\n",
       "      <td>0.0550</td>\n",
       "      <td>0.0</td>\n",
       "      <td>0.0</td>\n",
       "    </tr>\n",
       "    <tr>\n",
       "      <th>8</th>\n",
       "      <td>201.6000</td>\n",
       "      <td>0</td>\n",
       "      <td>0.5</td>\n",
       "      <td>0.09000</td>\n",
       "      <td>0.03900</td>\n",
       "      <td>0.0510</td>\n",
       "      <td>0.0</td>\n",
       "      <td>0.0</td>\n",
       "    </tr>\n",
       "    <tr>\n",
       "      <th>9</th>\n",
       "      <td>243.2000</td>\n",
       "      <td>0</td>\n",
       "      <td>0.5</td>\n",
       "      <td>0.07300</td>\n",
       "      <td>0.02200</td>\n",
       "      <td>0.0510</td>\n",
       "      <td>0.0</td>\n",
       "      <td>0.0</td>\n",
       "    </tr>\n",
       "    <tr>\n",
       "      <th>10</th>\n",
       "      <td>255.0000</td>\n",
       "      <td>0</td>\n",
       "      <td>0.5</td>\n",
       "      <td>0.14600</td>\n",
       "      <td>0.09500</td>\n",
       "      <td>0.0510</td>\n",
       "      <td>0.0</td>\n",
       "      <td>0.0</td>\n",
       "    </tr>\n",
       "    <tr>\n",
       "      <th>11</th>\n",
       "      <td>286.0000</td>\n",
       "      <td>0</td>\n",
       "      <td>0.5</td>\n",
       "      <td>0.33600</td>\n",
       "      <td>0.28500</td>\n",
       "      <td>0.0510</td>\n",
       "      <td>0.0</td>\n",
       "      <td>0.0</td>\n",
       "    </tr>\n",
       "    <tr>\n",
       "      <th>12</th>\n",
       "      <td>304.5000</td>\n",
       "      <td>0</td>\n",
       "      <td>0.5</td>\n",
       "      <td>0.07200</td>\n",
       "      <td>0.02100</td>\n",
       "      <td>0.0510</td>\n",
       "      <td>0.0</td>\n",
       "      <td>0.0</td>\n",
       "    </tr>\n",
       "    <tr>\n",
       "      <th>13</th>\n",
       "      <td>347.2000</td>\n",
       "      <td>0</td>\n",
       "      <td>0.5</td>\n",
       "      <td>0.22400</td>\n",
       "      <td>0.17300</td>\n",
       "      <td>0.0510</td>\n",
       "      <td>0.0</td>\n",
       "      <td>0.0</td>\n",
       "    </tr>\n",
       "    <tr>\n",
       "      <th>14</th>\n",
       "      <td>435.6000</td>\n",
       "      <td>0</td>\n",
       "      <td>0.5</td>\n",
       "      <td>0.21800</td>\n",
       "      <td>0.16700</td>\n",
       "      <td>0.0510</td>\n",
       "      <td>0.0</td>\n",
       "      <td>0.0</td>\n",
       "    </tr>\n",
       "    <tr>\n",
       "      <th>15</th>\n",
       "      <td>444.8000</td>\n",
       "      <td>0</td>\n",
       "      <td>0.5</td>\n",
       "      <td>0.22400</td>\n",
       "      <td>0.17300</td>\n",
       "      <td>0.0510</td>\n",
       "      <td>0.0</td>\n",
       "      <td>0.0</td>\n",
       "    </tr>\n",
       "    <tr>\n",
       "      <th>16</th>\n",
       "      <td>557.1000</td>\n",
       "      <td>0</td>\n",
       "      <td>0.5</td>\n",
       "      <td>0.38600</td>\n",
       "      <td>0.33500</td>\n",
       "      <td>0.0510</td>\n",
       "      <td>0.0</td>\n",
       "      <td>0.0</td>\n",
       "    </tr>\n",
       "    <tr>\n",
       "      <th>17</th>\n",
       "      <td>627.5000</td>\n",
       "      <td>0</td>\n",
       "      <td>0.5</td>\n",
       "      <td>0.69100</td>\n",
       "      <td>0.64000</td>\n",
       "      <td>0.0510</td>\n",
       "      <td>0.0</td>\n",
       "      <td>0.0</td>\n",
       "    </tr>\n",
       "    <tr>\n",
       "      <th>18</th>\n",
       "      <td>657.5000</td>\n",
       "      <td>0</td>\n",
       "      <td>0.5</td>\n",
       "      <td>0.32100</td>\n",
       "      <td>0.27000</td>\n",
       "      <td>0.0510</td>\n",
       "      <td>0.0</td>\n",
       "      <td>0.0</td>\n",
       "    </tr>\n",
       "    <tr>\n",
       "      <th>19</th>\n",
       "      <td>870.0002</td>\n",
       "      <td>0</td>\n",
       "      <td>0.5</td>\n",
       "      <td>0.33100</td>\n",
       "      <td>0.28000</td>\n",
       "      <td>0.0510</td>\n",
       "      <td>0.0</td>\n",
       "      <td>0.0</td>\n",
       "    </tr>\n",
       "    <tr>\n",
       "      <th>20</th>\n",
       "      <td>921.0002</td>\n",
       "      <td>0</td>\n",
       "      <td>0.5</td>\n",
       "      <td>0.19600</td>\n",
       "      <td>0.14500</td>\n",
       "      <td>0.0510</td>\n",
       "      <td>0.0</td>\n",
       "      <td>0.0</td>\n",
       "    </tr>\n",
       "    <tr>\n",
       "      <th>21</th>\n",
       "      <td>956.0005</td>\n",
       "      <td>0</td>\n",
       "      <td>0.5</td>\n",
       "      <td>0.35100</td>\n",
       "      <td>0.30000</td>\n",
       "      <td>0.0510</td>\n",
       "      <td>0.0</td>\n",
       "      <td>0.0</td>\n",
       "    </tr>\n",
       "    <tr>\n",
       "      <th>22</th>\n",
       "      <td>994.0005</td>\n",
       "      <td>0</td>\n",
       "      <td>0.5</td>\n",
       "      <td>0.32100</td>\n",
       "      <td>0.27000</td>\n",
       "      <td>0.0510</td>\n",
       "      <td>0.0</td>\n",
       "      <td>0.0</td>\n",
       "    </tr>\n",
       "    <tr>\n",
       "      <th>23</th>\n",
       "      <td>1068.0000</td>\n",
       "      <td>0</td>\n",
       "      <td>0.5</td>\n",
       "      <td>0.30100</td>\n",
       "      <td>0.25000</td>\n",
       "      <td>0.0510</td>\n",
       "      <td>0.0</td>\n",
       "      <td>0.0</td>\n",
       "    </tr>\n",
       "  </tbody>\n",
       "</table>\n",
       "</div>"
      ],
      "text/plain": [
       "       energy  L    J  totalWidth  neutronWidth  captureWidth  fissionWidth  \\\n",
       "0    -80.0000  0  0.5     0.40800       0.35000        0.0580           0.0   \n",
       "1    -20.0000  0  0.5     0.08070       0.02470        0.0560           0.0   \n",
       "2      7.8891  0  0.5     0.07195       0.01015        0.0618           0.0   \n",
       "3     48.2540  0  0.5     0.15600       0.10700        0.0490           0.0   \n",
       "4     53.2820  0  0.5     0.05669       0.00169        0.0550           0.0   \n",
       "5     67.2180  0  0.5     0.08100       0.02600        0.0550           0.0   \n",
       "6    124.0790  0  0.5     0.08700       0.03200        0.0550           0.0   \n",
       "7    177.1500  0  0.5     0.14100       0.08600        0.0550           0.0   \n",
       "8    201.6000  0  0.5     0.09000       0.03900        0.0510           0.0   \n",
       "9    243.2000  0  0.5     0.07300       0.02200        0.0510           0.0   \n",
       "10   255.0000  0  0.5     0.14600       0.09500        0.0510           0.0   \n",
       "11   286.0000  0  0.5     0.33600       0.28500        0.0510           0.0   \n",
       "12   304.5000  0  0.5     0.07200       0.02100        0.0510           0.0   \n",
       "13   347.2000  0  0.5     0.22400       0.17300        0.0510           0.0   \n",
       "14   435.6000  0  0.5     0.21800       0.16700        0.0510           0.0   \n",
       "15   444.8000  0  0.5     0.22400       0.17300        0.0510           0.0   \n",
       "16   557.1000  0  0.5     0.38600       0.33500        0.0510           0.0   \n",
       "17   627.5000  0  0.5     0.69100       0.64000        0.0510           0.0   \n",
       "18   657.5000  0  0.5     0.32100       0.27000        0.0510           0.0   \n",
       "19   870.0002  0  0.5     0.33100       0.28000        0.0510           0.0   \n",
       "20   921.0002  0  0.5     0.19600       0.14500        0.0510           0.0   \n",
       "21   956.0005  0  0.5     0.35100       0.30000        0.0510           0.0   \n",
       "22   994.0005  0  0.5     0.32100       0.27000        0.0510           0.0   \n",
       "23  1068.0000  0  0.5     0.30100       0.25000        0.0510           0.0   \n",
       "\n",
       "    competitiveWidth  \n",
       "0                0.0  \n",
       "1                0.0  \n",
       "2                0.0  \n",
       "3                0.0  \n",
       "4                0.0  \n",
       "5                0.0  \n",
       "6                0.0  \n",
       "7                0.0  \n",
       "8                0.0  \n",
       "9                0.0  \n",
       "10               0.0  \n",
       "11               0.0  \n",
       "12               0.0  \n",
       "13               0.0  \n",
       "14               0.0  \n",
       "15               0.0  \n",
       "16               0.0  \n",
       "17               0.0  \n",
       "18               0.0  \n",
       "19               0.0  \n",
       "20               0.0  \n",
       "21               0.0  \n",
       "22               0.0  \n",
       "23               0.0  "
      ]
     },
     "execution_count": 25,
     "metadata": {},
     "output_type": "execute_result"
    }
   ],
   "source": [
    "rrr = hf176.resonances.resolved\n",
    "print(type(rrr))\n",
    "rrr.parameters"
   ]
  },
  {
   "cell_type": "markdown",
   "metadata": {},
   "source": [
    "Resolved resonance reactions (usually scattering, fission, and capture) are stored as a special `ResonancesWithBackground` object."
   ]
  },
  {
   "cell_type": "code",
   "execution_count": 26,
   "metadata": {
    "collapsed": false
   },
   "outputs": [
    {
     "data": {
      "text/plain": [
       "<openmc.data.function.ResonancesWithBackground at 0x7f5651b9cc50>"
      ]
     },
     "execution_count": 26,
     "metadata": {},
     "output_type": "execute_result"
    }
   ],
   "source": [
    "scatter = hf176.reactions[2].xs['0K']\n",
    "scatter"
   ]
  },
  {
   "cell_type": "markdown",
   "metadata": {},
   "source": [
    "OpenMC will even let you reconstruct resonances to get a cross section at any energy."
   ]
  },
  {
   "cell_type": "code",
   "execution_count": 27,
   "metadata": {
    "collapsed": false
   },
   "outputs": [
    {
     "data": {
      "text/plain": [
       "<matplotlib.text.Text at 0x7f56518c8dd8>"
      ]
     },
     "execution_count": 27,
     "metadata": {},
     "output_type": "execute_result"
    },
    {
     "data": {
      "image/png": "[encoded data removed]",
      "text/plain": [
       "<matplotlib.figure.Figure at 0x7f5651b919e8>"
      ]
     },
     "metadata": {},
     "output_type": "display_data"
    }
   ],
   "source": [
    "# Get 1000 equal-lethargy spaced energyes over the resolved resonance range\n",
    "e_min = hf176.resonances.resolved.energy_min\n",
    "e_max = hf176.resonances.resolved.energy_max\n",
    "energies = np.logspace(np.log10(e_min), np.log10(e_max), 1000)\n",
    "\n",
    "# Calculate the scattering cross section\n",
    "scatter_xs = scatter(energies)\n",
    "\n",
    "# and plot it\n",
    "plt.loglog(energies, scatter_xs)\n",
    "plt.xlabel('Energy (eV)')\n",
    "plt.ylabel('Scatter cross section (b)')"
   ]
  },
  {
   "cell_type": "code",
   "execution_count": null,
   "metadata": {
    "collapsed": true
   },
   "outputs": [],
   "source": []
  }
 ],
 "metadata": {
  "anaconda-cloud": {},
  "kernelspec": {
   "display_name": "Python [default]",
   "language": "python",
   "name": "python3"
  },
  "language_info": {
   "codemirror_mode": {
    "name": "ipython",
    "version": 3
   },
   "file_extension": ".py",
   "mimetype": "text/x-python",
   "name": "python",
   "nbconvert_exporter": "python",
   "pygments_lexer": "ipython3",
   "version": "3.5.2"
  }
 },
 "nbformat": 4,
 "nbformat_minor": 0
}
